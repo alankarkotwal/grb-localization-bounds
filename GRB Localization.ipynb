{
 "metadata": {
  "name": "",
  "signature": "sha256:d6e810177237100301f8a538ce5230e129af8d7e1ca9055858a4750df9e24e06"
 },
 "nbformat": 3,
 "nbformat_minor": 0,
 "worksheets": [
  {
   "cells": [
    {
     "cell_type": "code",
     "collapsed": false,
     "input": [
      "import numpy as np\n",
      "from astropy.time import Time\n",
      "from astropy.coordinates import solar_system_ephemeris, get_body_barycentric, get_body\n",
      "from astropy.constants import c, au\n",
      "import astropy.units as u\n",
      "from numpy import pi\n",
      "from matplotlib import pyplot as plt\n",
      "import healpy as hp\n",
      "import numpy.random\n",
      "\n",
      "import os, sys\n",
      "from IPython.display import clear_output\n",
      "\n",
      "import pdb"
     ],
     "language": "python",
     "metadata": {},
     "outputs": []
    },
    {
     "cell_type": "code",
     "collapsed": false,
     "input": [
      "%matplotlib inline"
     ],
     "language": "python",
     "metadata": {},
     "outputs": [],
     "prompt_number": 15
    },
    {
     "cell_type": "code",
     "collapsed": false,
     "input": [
      "delT = 0.2\n",
      "thetaAss = 30 * pi / 180"
     ],
     "language": "python",
     "metadata": {},
     "outputs": []
    },
    {
     "cell_type": "code",
     "collapsed": false,
     "input": [
      "dateInt = Time(['2023-01-01T00:00:00.000', '2028-01-01T00:00:00.000'], format='isot', scale='utc')\n",
      "numPoints = 2000 \n",
      "\n",
      "jdInt = dateInt.jd\n",
      "jds = Time(np.linspace(jdInt[0], jdInt[1], numPoints), format='jd', scale='utc');"
     ],
     "language": "python",
     "metadata": {},
     "outputs": []
    },
    {
     "cell_type": "code",
     "collapsed": false,
     "input": [
      "sunCoords = get_body_barycentric('sun', jds)\n",
      "earthCoords = get_body_barycentric('earth', jds) - sunCoords\n",
      "venusCoords = get_body_barycentric('venus', jds) - sunCoords\n",
      "marsCoords = get_body_barycentric('mars', jds) - sunCoords\n",
      "\n",
      "ve = (venusCoords - earthCoords)\n",
      "vm = (venusCoords - marsCoords)\n",
      "em = (earthCoords - marsCoords)\n"
     ],
     "language": "python",
     "metadata": {},
     "outputs": []
    },
    {
     "cell_type": "code",
     "collapsed": false,
     "input": [
      "veDists = np.zeros((numPoints, 1))\n",
      "vmDists = np.zeros((numPoints, 1))\n",
      "emDists = np.zeros((numPoints, 1))\n",
      "\n",
      "for i in range(numPoints):\n",
      "\tveDists[i] = au * np.sqrt(ve[i].x ** 2 + ve[i].y ** 2 + ve[i].z ** 2)\n",
      "\tvmDists[i] = au * np.sqrt(vm[i].x ** 2 + vm[i].y ** 2 + vm[i].z ** 2)\n",
      "\temDists[i] = au * np.sqrt(em[i].x ** 2 + em[i].y ** 2 + em[i].z ** 2)"
     ],
     "language": "python",
     "metadata": {},
     "outputs": []
    },
    {
     "cell_type": "code",
     "collapsed": false,
     "input": [
      "plotDates = jds.plot_date - jds.plot_date[0]\n",
      "plt.plot(plotDates, 206265 * c * delT / (np.sin(thetaAss) * veDists))\n",
      "plt.plot(plotDates, 206265 * c * delT / (np.sin(thetaAss) * vmDists))\n",
      "plt.plot(plotDates, 206265 * c * delT / (np.sin(thetaAss) * emDists))\n",
      "plt.legend(['Venus-Earth', 'Venus-Mars', 'Earth-Mars'])\n",
      "plt.xlabel('Days since 1 Jan 2023')\n",
      "plt.ylabel('Pairwise arcsec resolution')\n",
      "plt.savefig('resolutions.png')"
     ],
     "language": "python",
     "metadata": {},
     "outputs": []
    },
    {
     "cell_type": "code",
     "collapsed": false,
     "input": [
      "def addring(nside, ra, dec, anga, angb):\n",
      "    \"\"\"\n",
      "    take a map, and add 1 to elements between anga and angb from ra, dec\n",
      "    \"\"\"\n",
      "    theta = np.deg2rad(90-dec)\n",
      "    phi = np.deg2rad(ra)\n",
      "    temp_map = np.zeros(hp.nside2npix(nside))\n",
      "    assert angb > anga # else error\n",
      "    # Everything from 0 to angb = 1\n",
      "    pixlist = hp.query_disc(nside, hp.ang2vec(theta, phi), angb, inclusive='True', fact = 16)\n",
      "    temp_map[pixlist] += 1\n",
      "    # now delete everything from 0 to anga\n",
      "    pixlist = hp.query_disc(nside, hp.ang2vec(theta, phi), anga, inclusive='False')\n",
      "    temp_map[pixlist] -= 1\n",
      "    return temp_map"
     ],
     "language": "python",
     "metadata": {},
     "outputs": []
    },
    {
     "cell_type": "code",
     "collapsed": false,
     "input": [
      "nside = 1024\n",
      "numSims = 1\n",
      "locAreasWithoutVen = np.zeros((numSims, 1))\n",
      "locAreasWithVen = np.zeros((numSims, 1))\n",
      "\n",
      "for i in range(numSims):\n",
      "    \n",
      "    timePoint = np.random.randint(numPoints)\n",
      "    dirVec = np.asarray([np.random.standard_normal() for j in range(3)])\n",
      "    dirVec = dirVec / np.linalg.norm(dirVec)\n",
      "    skymap = np.zeros(hp.nside2npix(nside))\n",
      "    #print hp.pixelfunc.(nside)\n",
      "    \n",
      "    # Get all coordinates\n",
      "    venusCoordAng = get_body('venus', jds[timePoint])\n",
      "    marsCoordAng = get_body('mars', jds[timePoint])\n",
      "    earthCoordCar = get_body_barycentric('earth', jds[timePoint])\n",
      "    venusCoordCar = get_body_barycentric('venus', jds[timePoint])\n",
      "    marsCoordCar = get_body_barycentric('mars', jds[timePoint])\n",
      "    \n",
      "    earthCoordCar = np.asarray([earthCoordCar.x.value, earthCoordCar.y.value, earthCoordCar.z.value])\n",
      "    venusCoordCar = np.asarray([venusCoordCar.x.value, venusCoordCar.y.value, venusCoordCar.z.value])\n",
      "    marsCoordCar = np.asarray([marsCoordCar.x.value, marsCoordCar.y.value, marsCoordCar.z.value])\n",
      "    \n",
      "    # Earth-Mars\n",
      "    emVec = earthCoordCar - marsCoordCar\n",
      "    emVec = emVec / np.linalg.norm(emVec)\n",
      "    theta = np.arccos(np.dot(emVec, dirVec))\n",
      "    delTheta = 100 * c.value * delT / (np.sin(theta) * marsCoordAng.distance.value * au.value)\n",
      "    skymap += addring(nside, marsCoordAng.ra.value, marsCoordAng.dec.value, theta - delTheta, theta + delTheta)\n",
      "    \n",
      "    locAreasWithoutVen[i] = 360.**2 * float(np.sum(skymap == 1)) / np.shape(skymap)[0]\n",
      "    \n",
      "    # Earth-Venus\n",
      "    evVec = earthCoordCar - venusCoordCar\n",
      "    evVec = evVec / np.linalg.norm(evVec)\n",
      "    theta = np.arccos(np.dot(evVec, dirVec))\n",
      "    delTheta = 100 * c.value * delT / (np.sin(theta) * venusCoordAng.distance.value * au.value)\n",
      "    skymap += addring(nside, venusCoordAng.ra.value, venusCoordAng.dec.value, theta - delTheta, theta + delTheta)\n",
      "    \n",
      "    hp.mollview(skymap)\n",
      "    \n",
      "    # Venus-Mars\n",
      "    vmVec = marsCoordCar - venusCoordCar\n",
      "    vmVec = vmVec / np.linalg.norm(vmVec)\n",
      "    theta = np.arccos(np.dot(vmVec, dirVec))\n",
      "    delTheta = c.value * delT / (np.sin(theta) * vmDists[timePoint])\n",
      "    \n",
      "    \n",
      "    \n",
      "    #skymap += addring(nside, venusDirRA, venusDirDec, theta - delTheta, theta + delTheta)\n",
      "    \n",
      "    locAreasWithVen[i] = 360.**2 * float(np.sum(skymap == 3)) / np.shape(skymap)[0]\n",
      "    print 'Iter', i"
     ],
     "language": "python",
     "metadata": {},
     "outputs": [
      {
       "output_type": "stream",
       "stream": "stdout",
       "text": [
        "Iter 0\n"
       ]
      },
      {
       "metadata": {},
       "output_type": "display_data",
       "png": "[encoded data removed]",
       "text": [
        "<matplotlib.figure.Figure at 0x7f3e4e4d3110>"
       ]
      }
     ],
     "prompt_number": 16
    },
    {
     "cell_type": "code",
     "collapsed": false,
     "input": [
      "plt.figure()\n",
      "plt.hist([locAreasWithVen, locAreasWithoutVen])\n",
      "plt.title(\"Histogram of Localization Areas\")\n",
      "plt.xlabel(\"Area, square degrees\")\n",
      "plt.ylabel(\"Frequency\")\n",
      "plt.legend(['With Venus', 'Without Venus'])\n",
      "plt.show()\n",
      "\n",
      "zeroIncidenceFrac = float(np.sum(locAreasWithVen == 0.0)) / numSims\n",
      "print zeroIncidenceFrac\n",
      "\n",
      "plt.savefig('areas_comparison.png', bbox_inches='tight')"
     ],
     "language": "python",
     "metadata": {},
     "outputs": []
    },
    {
     "cell_type": "code",
     "collapsed": false,
     "input": [
      "plt.figure()\n",
      "plt.hist([locAreasWithVen])\n",
      "plt.title(\"Histogram of Localization Areas\")\n",
      "plt.xlabel(\"Area, square degrees\")\n",
      "plt.ylabel(\"Frequency\")\n",
      "plt.show()\n",
      "\n",
      "zeroIncidenceFrac = float(np.sum(locAreasWithVen == 0.0)) / numSims\n",
      "print zeroIncidenceFrac\n",
      "\n",
      "plt.savefig('areas.png', bbox_inches='tight')"
     ],
     "language": "python",
     "metadata": {},
     "outputs": []
    },
    {
     "cell_type": "code",
     "collapsed": false,
     "input": [],
     "language": "python",
     "metadata": {},
     "outputs": []
    }
   ],
   "metadata": {}
  }
 ]
}