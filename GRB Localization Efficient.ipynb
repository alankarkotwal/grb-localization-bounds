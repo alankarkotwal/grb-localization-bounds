{
 "metadata": {
  "name": "",
  "signature": "sha256:9c9ad6174df37f89a1ec5427f57a1d313cc340d598e13fb27b808eaf0412db84"
 },
 "nbformat": 3,
 "nbformat_minor": 0,
 "worksheets": [
  {
   "cells": [
    {
     "cell_type": "code",
     "collapsed": false,
     "input": [
      "import numpy as np\n",
      "from astropy.time import Time\n",
      "from astropy.coordinates import solar_system_ephemeris, get_body_barycentric, get_body\n",
      "from astropy.constants import c, au\n",
      "import astropy.units as u\n",
      "from numpy import pi\n",
      "from matplotlib import pyplot as plt\n",
      "import numpy.random"
     ],
     "language": "python",
     "metadata": {},
     "outputs": [],
     "prompt_number": 1
    },
    {
     "cell_type": "code",
     "collapsed": false,
     "input": [
      "%matplotlib gtk"
     ],
     "language": "python",
     "metadata": {},
     "outputs": [],
     "prompt_number": 2
    },
    {
     "cell_type": "code",
     "collapsed": false,
     "input": [
      "delT = 0.2"
     ],
     "language": "python",
     "metadata": {},
     "outputs": [],
     "prompt_number": 3
    },
    {
     "cell_type": "code",
     "collapsed": false,
     "input": [
      "dateInt = Time(['2023-01-01T00:00:00.000', '2028-01-01T00:00:00.000'], format='isot', scale='utc')\n",
      "numPoints = 1825\n",
      "\n",
      "jdInt = dateInt.jd\n",
      "jds = Time(np.linspace(jdInt[0], jdInt[1], numPoints), format='jd', scale='utc');"
     ],
     "language": "python",
     "metadata": {},
     "outputs": [
      {
       "output_type": "stream",
       "stream": "stderr",
       "text": [
        "WARNING: ErfaWarning: ERFA function \"dtf2d\" yielded 2 of \"dubious year (Note 6)\" [astropy._erfa.core]\n",
        "WARNING:astropy:ErfaWarning: ERFA function \"dtf2d\" yielded 2 of \"dubious year (Note 6)\"\n"
       ]
      }
     ],
     "prompt_number": 4
    },
    {
     "cell_type": "code",
     "collapsed": false,
     "input": [
      "earthCoords = get_body_barycentric('earth', jds)\n",
      "venusCoords = get_body_barycentric('venus', jds)\n",
      "marsCoords = get_body_barycentric('mars', jds)\n",
      "\n",
      "ve = (venusCoords - earthCoords)\n",
      "vm = -(venusCoords - marsCoords)\n",
      "em = (earthCoords - marsCoords)"
     ],
     "language": "python",
     "metadata": {},
     "outputs": [
      {
       "output_type": "stream",
       "stream": "stderr",
       "text": [
        "WARNING: ErfaWarning: ERFA function \"utctai\" yielded 1825 of \"dubious year (Note 3)\" [astropy._erfa.core]\n",
        "WARNING:astropy:ErfaWarning: ERFA function \"utctai\" yielded 1825 of \"dubious year (Note 3)\"\n"
       ]
      },
      {
       "output_type": "stream",
       "stream": "stderr",
       "text": [
        "WARNING: ErfaWarning: ERFA function \"taiutc\" yielded 1825 of \"dubious year (Note 4)\" [astropy._erfa.core]\n",
        "WARNING:astropy:ErfaWarning: ERFA function \"taiutc\" yielded 1825 of \"dubious year (Note 4)\"\n"
       ]
      }
     ],
     "prompt_number": 5
    },
    {
     "cell_type": "code",
     "collapsed": false,
     "input": [
      "numSims = 2000\n",
      "nBins = 100\n",
      "fact = 5\n",
      "locAreas = np.zeros((numSims, 1))\n",
      "locAreasWithoutVenus = np.zeros((numSims, 1))\n",
      "\n",
      "for i in range(numSims):\n",
      "    \n",
      "    print 'Iter ', i+1\n",
      "    \n",
      "    timePoint = np.random.randint(numPoints)\n",
      "    \n",
      "    dirVec = np.asarray([np.random.standard_normal() for temp in range(3)])\n",
      "    dirVec = dirVec / np.linalg.norm(dirVec)\n",
      "\n",
      "    thisVEVec = np.asarray([ve[timePoint].x.value, ve[timePoint].y.value, ve[timePoint].z.value])\n",
      "    thetaVE = np.arccos(np.dot(dirVec, thisVEVec) / np.linalg.norm(thisVEVec))\n",
      "    lttVE = np.dot(dirVec, thisVEVec) * au.value / c.value\n",
      "    \n",
      "    thisEMVec = np.asarray([em[timePoint].x.value, em[timePoint].y.value, em[timePoint].z.value])\n",
      "    thetaEM = np.arccos(np.dot(dirVec, thisEMVec) / np.linalg.norm(thisEMVec))\n",
      "    lttEM = np.dot(dirVec, thisEMVec) * au.value / c.value\n",
      "    \n",
      "    thisVMVec = np.asarray([vm[timePoint].x.value, vm[timePoint].y.value, vm[timePoint].z.value])\n",
      "    thetaVM = np.arccos(np.dot(dirVec, thisVMVec) / np.linalg.norm(thisVMVec))\n",
      "    lttVM = np.dot(dirVec, thisVMVec) * au.value / c.value\n",
      "    \n",
      "    minDSin = min(np.abs(np.sin(thetaVE) * np.linalg.norm(thisVEVec)), \\\n",
      "                  np.abs(np.sin(thetaEM) * np.linalg.norm(thisEMVec)), \\\n",
      "                  np.abs(np.sin(thetaVM) * np.linalg.norm(thisVMVec)))\n",
      "    \n",
      "    deltaThetaMax = c.value * delT / (minDSin * au.value)\n",
      "    cosDeltaThetaMax = np.cos(deltaThetaMax)\n",
      "    \n",
      "    coeffs = [cosDeltaThetaMax**2 / dirVec[2]**2 - 1, 2*cosDeltaThetaMax**2 - 2, cosDeltaThetaMax**2 - 1]\n",
      "    lambdaChanges = fact * np.roots(coeffs)\n",
      "    lambdas = np.linspace(lambdaChanges[0], lambdaChanges[1], nBins)\n",
      "    \n",
      "    muChange = fact * np.sqrt(dirVec[2]**2 * (cosDeltaThetaMax**-2 - 1) / (dirVec[0]**2 + dirVec[1]**2))\n",
      "    mus = np.linspace(-muChange, muChange, nBins)\n",
      "    \n",
      "    numPositiveCells = 0\n",
      "    posCells = np.zeros((nBins, nBins))\n",
      "    \n",
      "    a = 0\n",
      "    for mu in mus:\n",
      "        \n",
      "        b = 0\n",
      "        \n",
      "        for lam in lambdas:\n",
      "            \n",
      "            thisDirVec = np.asarray([dirVec[0] - mu * dirVec[1]/dirVec[2], \\\n",
      "                                     dirVec[1] + mu * dirVec[0]/dirVec[2], \\\n",
      "                                     dirVec[2] + lam/dirVec[2]])\n",
      "            thisDirVec = thisDirVec / np.linalg.norm(thisDirVec)\n",
      "            \n",
      "            thisLttVE = np.dot(thisDirVec, thisVEVec) * au.value / c.value\n",
      "            thisLttVM = np.dot(thisDirVec, thisVMVec) * au.value / c.value\n",
      "            thisLttEM = np.dot(thisDirVec, thisEMVec) * au.value / c.value\n",
      "    \n",
      "            if abs(thisLttVE - lttVE) < delT and abs(thisLttVM - lttVM) < delT and abs(thisLttEM - lttEM) < delT:\n",
      "                numPositiveCells += 1\n",
      "                posCells[a, b] += 1\n",
      "            \n",
      "            b += 1\n",
      "        a += 1\n",
      "                \n",
      "    locAreas[i] = float(numPositiveCells) / nBins**2 * deltaThetaMax**2 * fact**2 / (4 * pi) * 360**2 * 60**2\n",
      "    locAreasWithoutVenus[i] = c.value * delT / (np.linalg.norm(thisEMVec) * au.value) * 360**2 * 60**2"
     ],
     "language": "python",
     "metadata": {},
     "outputs": [
      {
       "output_type": "stream",
       "stream": "stdout",
       "text": [
        "Iter  1\n",
        "Iter "
       ]
      },
      {
       "output_type": "stream",
       "stream": "stdout",
       "text": [
        " 2\n",
        "Iter "
       ]
      },
      {
       "output_type": "stream",
       "stream": "stdout",
       "text": [
        " 3\n",
        "Iter "
       ]
      },
      {
       "output_type": "stream",
       "stream": "stdout",
       "text": [
        " 4\n",
        "Iter "
       ]
      },
      {
       "output_type": "stream",
       "stream": "stdout",
       "text": [
        " 5\n",
        "Iter "
       ]
      },
      {
       "output_type": "stream",
       "stream": "stdout",
       "text": [
        " 6\n",
        "Iter "
       ]
      },
      {
       "output_type": "stream",
       "stream": "stdout",
       "text": [
        " 7\n",
        "Iter "
       ]
      },
      {
       "output_type": "stream",
       "stream": "stdout",
       "text": [
        " 8\n",
        "Iter "
       ]
      },
      {
       "output_type": "stream",
       "stream": "stdout",
       "text": [
        " 9\n",
        "Iter "
       ]
      },
      {
       "output_type": "stream",
       "stream": "stdout",
       "text": [
        " 10\n",
        "Iter "
       ]
      },
      {
       "output_type": "stream",
       "stream": "stdout",
       "text": [
        " 11\n",
        "Iter "
       ]
      },
      {
       "output_type": "stream",
       "stream": "stdout",
       "text": [
        " 12\n",
        "Iter "
       ]
      },
      {
       "output_type": "stream",
       "stream": "stdout",
       "text": [
        " 13\n",
        "Iter "
       ]
      },
      {
       "output_type": "stream",
       "stream": "stdout",
       "text": [
        " 14\n",
        "Iter "
       ]
      },
      {
       "output_type": "stream",
       "stream": "stdout",
       "text": [
        " 15\n",
        "Iter "
       ]
      },
      {
       "output_type": "stream",
       "stream": "stdout",
       "text": [
        " 16\n",
        "Iter "
       ]
      },
      {
       "output_type": "stream",
       "stream": "stdout",
       "text": [
        " 17\n",
        "Iter "
       ]
      },
      {
       "output_type": "stream",
       "stream": "stdout",
       "text": [
        " 18\n",
        "Iter "
       ]
      },
      {
       "output_type": "stream",
       "stream": "stdout",
       "text": [
        " 19\n",
        "Iter "
       ]
      },
      {
       "output_type": "stream",
       "stream": "stdout",
       "text": [
        " 20\n",
        "Iter "
       ]
      },
      {
       "output_type": "stream",
       "stream": "stdout",
       "text": [
        " 21\n",
        "Iter "
       ]
      },
      {
       "output_type": "stream",
       "stream": "stdout",
       "text": [
        " 22\n",
        "Iter "
       ]
      },
      {
       "output_type": "stream",
       "stream": "stdout",
       "text": [
        " 23\n",
        "Iter "
       ]
      },
      {
       "output_type": "stream",
       "stream": "stdout",
       "text": [
        " 24\n",
        "Iter "
       ]
      },
      {
       "output_type": "stream",
       "stream": "stdout",
       "text": [
        " 25\n",
        "Iter "
       ]
      },
      {
       "output_type": "stream",
       "stream": "stdout",
       "text": [
        " 26\n",
        "Iter "
       ]
      },
      {
       "output_type": "stream",
       "stream": "stdout",
       "text": [
        " 27\n",
        "Iter "
       ]
      },
      {
       "output_type": "stream",
       "stream": "stdout",
       "text": [
        " 28\n",
        "Iter "
       ]
      },
      {
       "output_type": "stream",
       "stream": "stdout",
       "text": [
        " 29\n",
        "Iter "
       ]
      },
      {
       "output_type": "stream",
       "stream": "stdout",
       "text": [
        " 30\n",
        "Iter "
       ]
      },
      {
       "output_type": "stream",
       "stream": "stdout",
       "text": [
        " 31\n",
        "Iter "
       ]
      },
      {
       "output_type": "stream",
       "stream": "stdout",
       "text": [
        " 32\n",
        "Iter "
       ]
      },
      {
       "output_type": "stream",
       "stream": "stdout",
       "text": [
        " 33\n",
        "Iter "
       ]
      },
      {
       "output_type": "stream",
       "stream": "stdout",
       "text": [
        " 34\n",
        "Iter "
       ]
      },
      {
       "output_type": "stream",
       "stream": "stdout",
       "text": [
        " 35\n",
        "Iter "
       ]
      },
      {
       "output_type": "stream",
       "stream": "stdout",
       "text": [
        " 36\n",
        "Iter "
       ]
      },
      {
       "output_type": "stream",
       "stream": "stdout",
       "text": [
        " 37\n",
        "Iter "
       ]
      },
      {
       "output_type": "stream",
       "stream": "stdout",
       "text": [
        " 38\n",
        "Iter "
       ]
      },
      {
       "output_type": "stream",
       "stream": "stdout",
       "text": [
        " 39\n",
        "Iter "
       ]
      },
      {
       "output_type": "stream",
       "stream": "stdout",
       "text": [
        " 40\n",
        "Iter "
       ]
      },
      {
       "output_type": "stream",
       "stream": "stdout",
       "text": [
        " 41\n",
        "Iter "
       ]
      },
      {
       "output_type": "stream",
       "stream": "stdout",
       "text": [
        " 42\n",
        "Iter "
       ]
      },
      {
       "output_type": "stream",
       "stream": "stdout",
       "text": [
        " 43\n",
        "Iter "
       ]
      },
      {
       "output_type": "stream",
       "stream": "stdout",
       "text": [
        " 44\n",
        "Iter "
       ]
      },
      {
       "output_type": "stream",
       "stream": "stdout",
       "text": [
        " 45\n",
        "Iter "
       ]
      },
      {
       "output_type": "stream",
       "stream": "stdout",
       "text": [
        " 46\n",
        "Iter "
       ]
      },
      {
       "output_type": "stream",
       "stream": "stdout",
       "text": [
        " 47\n",
        "Iter "
       ]
      },
      {
       "output_type": "stream",
       "stream": "stdout",
       "text": [
        " 48\n",
        "Iter "
       ]
      },
      {
       "output_type": "stream",
       "stream": "stdout",
       "text": [
        " 49\n",
        "Iter "
       ]
      },
      {
       "output_type": "stream",
       "stream": "stdout",
       "text": [
        " 50\n",
        "Iter "
       ]
      },
      {
       "output_type": "stream",
       "stream": "stdout",
       "text": [
        " 51\n",
        "Iter "
       ]
      },
      {
       "output_type": "stream",
       "stream": "stdout",
       "text": [
        " 52\n",
        "Iter "
       ]
      },
      {
       "output_type": "stream",
       "stream": "stdout",
       "text": [
        " 53\n",
        "Iter "
       ]
      },
      {
       "output_type": "stream",
       "stream": "stdout",
       "text": [
        " 54\n",
        "Iter "
       ]
      },
      {
       "output_type": "stream",
       "stream": "stdout",
       "text": [
        " 55\n",
        "Iter "
       ]
      },
      {
       "output_type": "stream",
       "stream": "stdout",
       "text": [
        " 56\n",
        "Iter "
       ]
      },
      {
       "output_type": "stream",
       "stream": "stdout",
       "text": [
        " 57\n",
        "Iter "
       ]
      },
      {
       "output_type": "stream",
       "stream": "stdout",
       "text": [
        " 58\n",
        "Iter "
       ]
      },
      {
       "output_type": "stream",
       "stream": "stdout",
       "text": [
        " 59\n",
        "Iter "
       ]
      },
      {
       "output_type": "stream",
       "stream": "stdout",
       "text": [
        " 60\n",
        "Iter "
       ]
      },
      {
       "output_type": "stream",
       "stream": "stdout",
       "text": [
        " 61\n",
        "Iter "
       ]
      },
      {
       "output_type": "stream",
       "stream": "stdout",
       "text": [
        " 62\n",
        "Iter "
       ]
      },
      {
       "output_type": "stream",
       "stream": "stdout",
       "text": [
        " 63\n",
        "Iter "
       ]
      },
      {
       "output_type": "stream",
       "stream": "stdout",
       "text": [
        " 64\n",
        "Iter "
       ]
      },
      {
       "output_type": "stream",
       "stream": "stdout",
       "text": [
        " 65\n",
        "Iter "
       ]
      },
      {
       "output_type": "stream",
       "stream": "stdout",
       "text": [
        " 66\n",
        "Iter "
       ]
      },
      {
       "output_type": "stream",
       "stream": "stdout",
       "text": [
        " 67\n",
        "Iter "
       ]
      },
      {
       "output_type": "stream",
       "stream": "stdout",
       "text": [
        " 68\n",
        "Iter "
       ]
      },
      {
       "output_type": "stream",
       "stream": "stdout",
       "text": [
        " 69\n",
        "Iter "
       ]
      },
      {
       "output_type": "stream",
       "stream": "stdout",
       "text": [
        " 70\n",
        "Iter "
       ]
      },
      {
       "output_type": "stream",
       "stream": "stdout",
       "text": [
        " 71\n",
        "Iter "
       ]
      },
      {
       "output_type": "stream",
       "stream": "stdout",
       "text": [
        " 72\n",
        "Iter "
       ]
      },
      {
       "output_type": "stream",
       "stream": "stdout",
       "text": [
        " 73\n",
        "Iter "
       ]
      },
      {
       "output_type": "stream",
       "stream": "stdout",
       "text": [
        " 74\n",
        "Iter "
       ]
      },
      {
       "output_type": "stream",
       "stream": "stdout",
       "text": [
        " 75\n",
        "Iter "
       ]
      },
      {
       "output_type": "stream",
       "stream": "stdout",
       "text": [
        " 76\n",
        "Iter "
       ]
      },
      {
       "output_type": "stream",
       "stream": "stdout",
       "text": [
        " 77\n",
        "Iter "
       ]
      },
      {
       "output_type": "stream",
       "stream": "stdout",
       "text": [
        " 78\n",
        "Iter "
       ]
      },
      {
       "output_type": "stream",
       "stream": "stdout",
       "text": [
        " 79\n",
        "Iter "
       ]
      },
      {
       "output_type": "stream",
       "stream": "stdout",
       "text": [
        " 80\n",
        "Iter "
       ]
      },
      {
       "output_type": "stream",
       "stream": "stdout",
       "text": [
        " 81\n",
        "Iter "
       ]
      },
      {
       "output_type": "stream",
       "stream": "stdout",
       "text": [
        " 82\n",
        "Iter "
       ]
      },
      {
       "output_type": "stream",
       "stream": "stdout",
       "text": [
        " 83\n",
        "Iter "
       ]
      },
      {
       "output_type": "stream",
       "stream": "stdout",
       "text": [
        " 84\n",
        "Iter "
       ]
      },
      {
       "output_type": "stream",
       "stream": "stdout",
       "text": [
        " 85\n",
        "Iter "
       ]
      },
      {
       "output_type": "stream",
       "stream": "stdout",
       "text": [
        " 86\n",
        "Iter "
       ]
      },
      {
       "output_type": "stream",
       "stream": "stdout",
       "text": [
        " 87\n",
        "Iter "
       ]
      },
      {
       "output_type": "stream",
       "stream": "stdout",
       "text": [
        " 88\n",
        "Iter "
       ]
      },
      {
       "output_type": "stream",
       "stream": "stdout",
       "text": [
        " 89\n",
        "Iter "
       ]
      },
      {
       "output_type": "stream",
       "stream": "stdout",
       "text": [
        " 90\n",
        "Iter "
       ]
      },
      {
       "output_type": "stream",
       "stream": "stdout",
       "text": [
        " 91\n",
        "Iter "
       ]
      },
      {
       "output_type": "stream",
       "stream": "stdout",
       "text": [
        " 92\n",
        "Iter "
       ]
      },
      {
       "output_type": "stream",
       "stream": "stdout",
       "text": [
        " 93\n",
        "Iter "
       ]
      },
      {
       "output_type": "stream",
       "stream": "stdout",
       "text": [
        " 94\n",
        "Iter "
       ]
      },
      {
       "output_type": "stream",
       "stream": "stdout",
       "text": [
        " 95\n",
        "Iter "
       ]
      },
      {
       "output_type": "stream",
       "stream": "stdout",
       "text": [
        " 96\n",
        "Iter "
       ]
      },
      {
       "output_type": "stream",
       "stream": "stdout",
       "text": [
        " 97\n",
        "Iter "
       ]
      },
      {
       "output_type": "stream",
       "stream": "stdout",
       "text": [
        " 98\n",
        "Iter "
       ]
      },
      {
       "output_type": "stream",
       "stream": "stdout",
       "text": [
        " 99\n",
        "Iter "
       ]
      },
      {
       "output_type": "stream",
       "stream": "stdout",
       "text": [
        " 100\n",
        "Iter "
       ]
      },
      {
       "output_type": "stream",
       "stream": "stdout",
       "text": [
        " 101\n",
        "Iter "
       ]
      },
      {
       "output_type": "stream",
       "stream": "stdout",
       "text": [
        " 102\n",
        "Iter "
       ]
      },
      {
       "output_type": "stream",
       "stream": "stdout",
       "text": [
        " 103\n",
        "Iter "
       ]
      },
      {
       "output_type": "stream",
       "stream": "stdout",
       "text": [
        " 104\n",
        "Iter "
       ]
      },
      {
       "output_type": "stream",
       "stream": "stdout",
       "text": [
        " 105\n",
        "Iter "
       ]
      },
      {
       "output_type": "stream",
       "stream": "stdout",
       "text": [
        " 106\n",
        "Iter "
       ]
      },
      {
       "output_type": "stream",
       "stream": "stdout",
       "text": [
        " 107\n",
        "Iter "
       ]
      },
      {
       "output_type": "stream",
       "stream": "stdout",
       "text": [
        " 108\n",
        "Iter "
       ]
      },
      {
       "output_type": "stream",
       "stream": "stdout",
       "text": [
        " 109\n",
        "Iter "
       ]
      },
      {
       "output_type": "stream",
       "stream": "stdout",
       "text": [
        " 110\n",
        "Iter "
       ]
      },
      {
       "output_type": "stream",
       "stream": "stdout",
       "text": [
        " 111\n",
        "Iter "
       ]
      },
      {
       "output_type": "stream",
       "stream": "stdout",
       "text": [
        " 112\n",
        "Iter "
       ]
      },
      {
       "output_type": "stream",
       "stream": "stdout",
       "text": [
        " 113\n",
        "Iter "
       ]
      },
      {
       "output_type": "stream",
       "stream": "stdout",
       "text": [
        " 114\n",
        "Iter "
       ]
      },
      {
       "output_type": "stream",
       "stream": "stdout",
       "text": [
        " 115\n",
        "Iter "
       ]
      },
      {
       "output_type": "stream",
       "stream": "stdout",
       "text": [
        " 116\n",
        "Iter "
       ]
      },
      {
       "output_type": "stream",
       "stream": "stdout",
       "text": [
        " 117\n",
        "Iter "
       ]
      },
      {
       "output_type": "stream",
       "stream": "stdout",
       "text": [
        " 118\n",
        "Iter "
       ]
      },
      {
       "output_type": "stream",
       "stream": "stdout",
       "text": [
        " 119\n",
        "Iter "
       ]
      },
      {
       "output_type": "stream",
       "stream": "stdout",
       "text": [
        " 120\n",
        "Iter "
       ]
      },
      {
       "output_type": "stream",
       "stream": "stdout",
       "text": [
        " 121\n",
        "Iter "
       ]
      },
      {
       "output_type": "stream",
       "stream": "stdout",
       "text": [
        " 122\n",
        "Iter "
       ]
      },
      {
       "output_type": "stream",
       "stream": "stdout",
       "text": [
        " 123\n",
        "Iter "
       ]
      },
      {
       "output_type": "stream",
       "stream": "stdout",
       "text": [
        " 124\n",
        "Iter "
       ]
      },
      {
       "output_type": "stream",
       "stream": "stdout",
       "text": [
        " 125\n",
        "Iter "
       ]
      },
      {
       "output_type": "stream",
       "stream": "stdout",
       "text": [
        " 126\n",
        "Iter "
       ]
      },
      {
       "output_type": "stream",
       "stream": "stdout",
       "text": [
        " 127\n",
        "Iter "
       ]
      },
      {
       "output_type": "stream",
       "stream": "stdout",
       "text": [
        " 128\n",
        "Iter "
       ]
      },
      {
       "output_type": "stream",
       "stream": "stdout",
       "text": [
        " 129\n",
        "Iter "
       ]
      },
      {
       "output_type": "stream",
       "stream": "stdout",
       "text": [
        " 130\n",
        "Iter "
       ]
      },
      {
       "output_type": "stream",
       "stream": "stdout",
       "text": [
        " 131\n",
        "Iter "
       ]
      },
      {
       "output_type": "stream",
       "stream": "stdout",
       "text": [
        " 132\n",
        "Iter "
       ]
      },
      {
       "output_type": "stream",
       "stream": "stdout",
       "text": [
        " 133\n",
        "Iter "
       ]
      },
      {
       "output_type": "stream",
       "stream": "stdout",
       "text": [
        " 134\n",
        "Iter "
       ]
      },
      {
       "output_type": "stream",
       "stream": "stdout",
       "text": [
        " 135\n",
        "Iter "
       ]
      },
      {
       "output_type": "stream",
       "stream": "stdout",
       "text": [
        " 136\n",
        "Iter "
       ]
      },
      {
       "output_type": "stream",
       "stream": "stdout",
       "text": [
        " 137\n",
        "Iter "
       ]
      },
      {
       "output_type": "stream",
       "stream": "stdout",
       "text": [
        " 138\n",
        "Iter "
       ]
      },
      {
       "output_type": "stream",
       "stream": "stdout",
       "text": [
        " 139\n",
        "Iter "
       ]
      },
      {
       "output_type": "stream",
       "stream": "stdout",
       "text": [
        " 140\n",
        "Iter "
       ]
      },
      {
       "output_type": "stream",
       "stream": "stdout",
       "text": [
        " 141\n",
        "Iter "
       ]
      },
      {
       "output_type": "stream",
       "stream": "stdout",
       "text": [
        " 142\n",
        "Iter "
       ]
      },
      {
       "output_type": "stream",
       "stream": "stdout",
       "text": [
        " 143\n",
        "Iter "
       ]
      },
      {
       "output_type": "stream",
       "stream": "stdout",
       "text": [
        " 144\n",
        "Iter "
       ]
      },
      {
       "output_type": "stream",
       "stream": "stdout",
       "text": [
        " 145\n",
        "Iter "
       ]
      },
      {
       "output_type": "stream",
       "stream": "stdout",
       "text": [
        " 146\n",
        "Iter "
       ]
      },
      {
       "output_type": "stream",
       "stream": "stdout",
       "text": [
        " 147\n",
        "Iter "
       ]
      },
      {
       "output_type": "stream",
       "stream": "stdout",
       "text": [
        " 148\n",
        "Iter "
       ]
      },
      {
       "output_type": "stream",
       "stream": "stdout",
       "text": [
        " 149\n",
        "Iter "
       ]
      },
      {
       "output_type": "stream",
       "stream": "stdout",
       "text": [
        " 150\n",
        "Iter "
       ]
      },
      {
       "output_type": "stream",
       "stream": "stdout",
       "text": [
        " 151\n",
        "Iter "
       ]
      },
      {
       "output_type": "stream",
       "stream": "stdout",
       "text": [
        " 152\n",
        "Iter "
       ]
      },
      {
       "output_type": "stream",
       "stream": "stdout",
       "text": [
        " 153\n",
        "Iter "
       ]
      },
      {
       "output_type": "stream",
       "stream": "stdout",
       "text": [
        " 154\n",
        "Iter "
       ]
      },
      {
       "output_type": "stream",
       "stream": "stdout",
       "text": [
        " 155\n",
        "Iter "
       ]
      },
      {
       "output_type": "stream",
       "stream": "stdout",
       "text": [
        " 156\n",
        "Iter "
       ]
      },
      {
       "output_type": "stream",
       "stream": "stdout",
       "text": [
        " 157\n",
        "Iter "
       ]
      },
      {
       "output_type": "stream",
       "stream": "stdout",
       "text": [
        " 158\n",
        "Iter "
       ]
      },
      {
       "output_type": "stream",
       "stream": "stdout",
       "text": [
        " 159\n",
        "Iter "
       ]
      },
      {
       "output_type": "stream",
       "stream": "stdout",
       "text": [
        " 160\n",
        "Iter "
       ]
      },
      {
       "output_type": "stream",
       "stream": "stdout",
       "text": [
        " 161\n",
        "Iter "
       ]
      },
      {
       "output_type": "stream",
       "stream": "stdout",
       "text": [
        " 162\n",
        "Iter "
       ]
      },
      {
       "output_type": "stream",
       "stream": "stdout",
       "text": [
        " 163\n",
        "Iter "
       ]
      },
      {
       "output_type": "stream",
       "stream": "stdout",
       "text": [
        " 164\n",
        "Iter "
       ]
      },
      {
       "output_type": "stream",
       "stream": "stdout",
       "text": [
        " 165\n",
        "Iter "
       ]
      },
      {
       "output_type": "stream",
       "stream": "stdout",
       "text": [
        " 166\n",
        "Iter "
       ]
      },
      {
       "output_type": "stream",
       "stream": "stdout",
       "text": [
        " 167\n",
        "Iter "
       ]
      },
      {
       "output_type": "stream",
       "stream": "stdout",
       "text": [
        " 168\n",
        "Iter "
       ]
      },
      {
       "output_type": "stream",
       "stream": "stdout",
       "text": [
        " 169\n",
        "Iter "
       ]
      },
      {
       "output_type": "stream",
       "stream": "stdout",
       "text": [
        " 170\n",
        "Iter "
       ]
      },
      {
       "output_type": "stream",
       "stream": "stdout",
       "text": [
        " 171\n",
        "Iter "
       ]
      },
      {
       "output_type": "stream",
       "stream": "stdout",
       "text": [
        " 172\n",
        "Iter "
       ]
      },
      {
       "output_type": "stream",
       "stream": "stdout",
       "text": [
        " 173\n",
        "Iter "
       ]
      },
      {
       "output_type": "stream",
       "stream": "stdout",
       "text": [
        " 174\n",
        "Iter "
       ]
      },
      {
       "output_type": "stream",
       "stream": "stdout",
       "text": [
        " 175\n",
        "Iter "
       ]
      },
      {
       "output_type": "stream",
       "stream": "stdout",
       "text": [
        " 176\n",
        "Iter "
       ]
      },
      {
       "output_type": "stream",
       "stream": "stdout",
       "text": [
        " 177\n",
        "Iter "
       ]
      },
      {
       "output_type": "stream",
       "stream": "stdout",
       "text": [
        " 178\n",
        "Iter "
       ]
      },
      {
       "output_type": "stream",
       "stream": "stdout",
       "text": [
        " 179\n",
        "Iter "
       ]
      },
      {
       "output_type": "stream",
       "stream": "stdout",
       "text": [
        " 180\n",
        "Iter "
       ]
      },
      {
       "output_type": "stream",
       "stream": "stdout",
       "text": [
        " 181\n",
        "Iter "
       ]
      },
      {
       "output_type": "stream",
       "stream": "stdout",
       "text": [
        " 182\n",
        "Iter "
       ]
      },
      {
       "output_type": "stream",
       "stream": "stdout",
       "text": [
        " 183\n",
        "Iter "
       ]
      },
      {
       "output_type": "stream",
       "stream": "stdout",
       "text": [
        " 184\n",
        "Iter "
       ]
      },
      {
       "output_type": "stream",
       "stream": "stdout",
       "text": [
        " 185\n",
        "Iter "
       ]
      },
      {
       "output_type": "stream",
       "stream": "stdout",
       "text": [
        " 186\n",
        "Iter "
       ]
      },
      {
       "output_type": "stream",
       "stream": "stdout",
       "text": [
        " 187\n",
        "Iter "
       ]
      },
      {
       "output_type": "stream",
       "stream": "stdout",
       "text": [
        " 188\n",
        "Iter "
       ]
      },
      {
       "output_type": "stream",
       "stream": "stdout",
       "text": [
        " 189\n",
        "Iter "
       ]
      },
      {
       "output_type": "stream",
       "stream": "stdout",
       "text": [
        " 190\n",
        "Iter "
       ]
      },
      {
       "output_type": "stream",
       "stream": "stdout",
       "text": [
        " 191\n",
        "Iter "
       ]
      },
      {
       "output_type": "stream",
       "stream": "stdout",
       "text": [
        " 192\n",
        "Iter "
       ]
      },
      {
       "output_type": "stream",
       "stream": "stdout",
       "text": [
        " 193\n",
        "Iter "
       ]
      },
      {
       "output_type": "stream",
       "stream": "stdout",
       "text": [
        " 194\n",
        "Iter "
       ]
      },
      {
       "output_type": "stream",
       "stream": "stdout",
       "text": [
        " 195\n",
        "Iter "
       ]
      },
      {
       "output_type": "stream",
       "stream": "stdout",
       "text": [
        " 196\n",
        "Iter "
       ]
      },
      {
       "output_type": "stream",
       "stream": "stdout",
       "text": [
        " 197\n",
        "Iter "
       ]
      },
      {
       "output_type": "stream",
       "stream": "stdout",
       "text": [
        " 198\n",
        "Iter "
       ]
      },
      {
       "output_type": "stream",
       "stream": "stdout",
       "text": [
        " 199\n",
        "Iter "
       ]
      },
      {
       "output_type": "stream",
       "stream": "stdout",
       "text": [
        " 200\n",
        "Iter "
       ]
      },
      {
       "output_type": "stream",
       "stream": "stdout",
       "text": [
        " 201\n",
        "Iter "
       ]
      },
      {
       "output_type": "stream",
       "stream": "stdout",
       "text": [
        " 202\n",
        "Iter "
       ]
      },
      {
       "output_type": "stream",
       "stream": "stdout",
       "text": [
        " 203\n",
        "Iter "
       ]
      },
      {
       "output_type": "stream",
       "stream": "stdout",
       "text": [
        " 204\n",
        "Iter "
       ]
      },
      {
       "output_type": "stream",
       "stream": "stdout",
       "text": [
        " 205\n",
        "Iter "
       ]
      },
      {
       "output_type": "stream",
       "stream": "stdout",
       "text": [
        " 206\n",
        "Iter "
       ]
      },
      {
       "output_type": "stream",
       "stream": "stdout",
       "text": [
        " 207\n",
        "Iter "
       ]
      },
      {
       "output_type": "stream",
       "stream": "stdout",
       "text": [
        " 208\n",
        "Iter "
       ]
      },
      {
       "output_type": "stream",
       "stream": "stdout",
       "text": [
        " 209\n",
        "Iter "
       ]
      },
      {
       "output_type": "stream",
       "stream": "stdout",
       "text": [
        " 210\n",
        "Iter "
       ]
      },
      {
       "output_type": "stream",
       "stream": "stdout",
       "text": [
        " 211\n",
        "Iter "
       ]
      },
      {
       "output_type": "stream",
       "stream": "stdout",
       "text": [
        " 212\n",
        "Iter "
       ]
      },
      {
       "output_type": "stream",
       "stream": "stdout",
       "text": [
        " 213\n",
        "Iter "
       ]
      },
      {
       "output_type": "stream",
       "stream": "stdout",
       "text": [
        " 214\n",
        "Iter "
       ]
      },
      {
       "output_type": "stream",
       "stream": "stdout",
       "text": [
        " 215\n",
        "Iter "
       ]
      },
      {
       "output_type": "stream",
       "stream": "stdout",
       "text": [
        " 216\n",
        "Iter "
       ]
      },
      {
       "output_type": "stream",
       "stream": "stdout",
       "text": [
        " 217\n",
        "Iter "
       ]
      },
      {
       "output_type": "stream",
       "stream": "stdout",
       "text": [
        " 218\n",
        "Iter "
       ]
      },
      {
       "output_type": "stream",
       "stream": "stdout",
       "text": [
        " 219\n",
        "Iter "
       ]
      },
      {
       "output_type": "stream",
       "stream": "stdout",
       "text": [
        " 220\n",
        "Iter "
       ]
      },
      {
       "output_type": "stream",
       "stream": "stdout",
       "text": [
        " 221\n",
        "Iter "
       ]
      },
      {
       "output_type": "stream",
       "stream": "stdout",
       "text": [
        " 222\n",
        "Iter "
       ]
      },
      {
       "output_type": "stream",
       "stream": "stdout",
       "text": [
        " 223\n",
        "Iter "
       ]
      },
      {
       "output_type": "stream",
       "stream": "stdout",
       "text": [
        " 224\n",
        "Iter "
       ]
      },
      {
       "output_type": "stream",
       "stream": "stdout",
       "text": [
        " 225\n",
        "Iter "
       ]
      },
      {
       "output_type": "stream",
       "stream": "stdout",
       "text": [
        " 226\n",
        "Iter "
       ]
      },
      {
       "output_type": "stream",
       "stream": "stdout",
       "text": [
        " 227\n",
        "Iter "
       ]
      },
      {
       "output_type": "stream",
       "stream": "stdout",
       "text": [
        " 228\n",
        "Iter "
       ]
      },
      {
       "output_type": "stream",
       "stream": "stdout",
       "text": [
        " 229\n",
        "Iter "
       ]
      },
      {
       "output_type": "stream",
       "stream": "stdout",
       "text": [
        " 230\n",
        "Iter "
       ]
      },
      {
       "output_type": "stream",
       "stream": "stdout",
       "text": [
        " 231\n",
        "Iter "
       ]
      },
      {
       "output_type": "stream",
       "stream": "stdout",
       "text": [
        " 232\n",
        "Iter "
       ]
      },
      {
       "output_type": "stream",
       "stream": "stdout",
       "text": [
        " 233\n",
        "Iter "
       ]
      },
      {
       "output_type": "stream",
       "stream": "stdout",
       "text": [
        " 234\n",
        "Iter "
       ]
      },
      {
       "output_type": "stream",
       "stream": "stdout",
       "text": [
        " 235\n",
        "Iter "
       ]
      },
      {
       "output_type": "stream",
       "stream": "stdout",
       "text": [
        " 236\n",
        "Iter "
       ]
      },
      {
       "output_type": "stream",
       "stream": "stdout",
       "text": [
        " 237\n",
        "Iter "
       ]
      },
      {
       "output_type": "stream",
       "stream": "stdout",
       "text": [
        " 238\n",
        "Iter "
       ]
      },
      {
       "output_type": "stream",
       "stream": "stdout",
       "text": [
        " 239\n",
        "Iter "
       ]
      },
      {
       "output_type": "stream",
       "stream": "stdout",
       "text": [
        " 240\n",
        "Iter "
       ]
      },
      {
       "output_type": "stream",
       "stream": "stdout",
       "text": [
        " 241\n",
        "Iter "
       ]
      },
      {
       "output_type": "stream",
       "stream": "stdout",
       "text": [
        " 242\n",
        "Iter "
       ]
      },
      {
       "output_type": "stream",
       "stream": "stdout",
       "text": [
        " 243\n",
        "Iter "
       ]
      },
      {
       "output_type": "stream",
       "stream": "stdout",
       "text": [
        " 244\n",
        "Iter "
       ]
      },
      {
       "output_type": "stream",
       "stream": "stdout",
       "text": [
        " 245\n",
        "Iter "
       ]
      },
      {
       "output_type": "stream",
       "stream": "stdout",
       "text": [
        " 246\n",
        "Iter "
       ]
      },
      {
       "output_type": "stream",
       "stream": "stdout",
       "text": [
        " 247\n",
        "Iter "
       ]
      },
      {
       "output_type": "stream",
       "stream": "stdout",
       "text": [
        " 248\n",
        "Iter "
       ]
      },
      {
       "output_type": "stream",
       "stream": "stdout",
       "text": [
        " 249\n",
        "Iter "
       ]
      },
      {
       "output_type": "stream",
       "stream": "stdout",
       "text": [
        " 250\n",
        "Iter "
       ]
      },
      {
       "output_type": "stream",
       "stream": "stdout",
       "text": [
        " 251\n",
        "Iter "
       ]
      },
      {
       "output_type": "stream",
       "stream": "stdout",
       "text": [
        " 252\n",
        "Iter "
       ]
      },
      {
       "output_type": "stream",
       "stream": "stdout",
       "text": [
        " 253\n",
        "Iter "
       ]
      },
      {
       "output_type": "stream",
       "stream": "stdout",
       "text": [
        " 254\n",
        "Iter "
       ]
      },
      {
       "output_type": "stream",
       "stream": "stdout",
       "text": [
        " 255\n",
        "Iter "
       ]
      },
      {
       "output_type": "stream",
       "stream": "stdout",
       "text": [
        " 256\n",
        "Iter "
       ]
      },
      {
       "output_type": "stream",
       "stream": "stdout",
       "text": [
        " 257\n",
        "Iter "
       ]
      },
      {
       "output_type": "stream",
       "stream": "stdout",
       "text": [
        " 258\n",
        "Iter "
       ]
      },
      {
       "output_type": "stream",
       "stream": "stdout",
       "text": [
        " 259\n",
        "Iter "
       ]
      },
      {
       "output_type": "stream",
       "stream": "stdout",
       "text": [
        " 260\n",
        "Iter "
       ]
      },
      {
       "output_type": "stream",
       "stream": "stdout",
       "text": [
        " 261\n",
        "Iter "
       ]
      },
      {
       "output_type": "stream",
       "stream": "stdout",
       "text": [
        " 262\n",
        "Iter "
       ]
      },
      {
       "output_type": "stream",
       "stream": "stdout",
       "text": [
        " 263\n",
        "Iter "
       ]
      },
      {
       "output_type": "stream",
       "stream": "stdout",
       "text": [
        " 264\n",
        "Iter "
       ]
      },
      {
       "output_type": "stream",
       "stream": "stdout",
       "text": [
        " 265\n",
        "Iter "
       ]
      },
      {
       "output_type": "stream",
       "stream": "stdout",
       "text": [
        " 266\n",
        "Iter "
       ]
      },
      {
       "output_type": "stream",
       "stream": "stdout",
       "text": [
        " 267\n",
        "Iter "
       ]
      },
      {
       "output_type": "stream",
       "stream": "stdout",
       "text": [
        " 268\n",
        "Iter "
       ]
      },
      {
       "output_type": "stream",
       "stream": "stdout",
       "text": [
        " 269\n",
        "Iter "
       ]
      },
      {
       "output_type": "stream",
       "stream": "stdout",
       "text": [
        " 270\n",
        "Iter "
       ]
      },
      {
       "output_type": "stream",
       "stream": "stdout",
       "text": [
        " 271\n",
        "Iter "
       ]
      },
      {
       "output_type": "stream",
       "stream": "stdout",
       "text": [
        " 272\n",
        "Iter "
       ]
      },
      {
       "output_type": "stream",
       "stream": "stdout",
       "text": [
        " 273\n",
        "Iter "
       ]
      },
      {
       "output_type": "stream",
       "stream": "stdout",
       "text": [
        " 274\n",
        "Iter "
       ]
      },
      {
       "output_type": "stream",
       "stream": "stdout",
       "text": [
        " 275\n",
        "Iter "
       ]
      },
      {
       "output_type": "stream",
       "stream": "stdout",
       "text": [
        " 276\n",
        "Iter "
       ]
      },
      {
       "output_type": "stream",
       "stream": "stdout",
       "text": [
        " 277\n",
        "Iter "
       ]
      },
      {
       "output_type": "stream",
       "stream": "stdout",
       "text": [
        " 278\n",
        "Iter "
       ]
      },
      {
       "output_type": "stream",
       "stream": "stdout",
       "text": [
        " 279\n",
        "Iter "
       ]
      },
      {
       "output_type": "stream",
       "stream": "stdout",
       "text": [
        " 280\n",
        "Iter "
       ]
      },
      {
       "output_type": "stream",
       "stream": "stdout",
       "text": [
        " 281\n",
        "Iter "
       ]
      },
      {
       "output_type": "stream",
       "stream": "stdout",
       "text": [
        " 282\n",
        "Iter "
       ]
      },
      {
       "output_type": "stream",
       "stream": "stdout",
       "text": [
        " 283\n",
        "Iter "
       ]
      },
      {
       "output_type": "stream",
       "stream": "stdout",
       "text": [
        " 284\n",
        "Iter "
       ]
      },
      {
       "output_type": "stream",
       "stream": "stdout",
       "text": [
        " 285\n",
        "Iter "
       ]
      },
      {
       "output_type": "stream",
       "stream": "stdout",
       "text": [
        " 286\n",
        "Iter "
       ]
      },
      {
       "output_type": "stream",
       "stream": "stdout",
       "text": [
        " 287\n",
        "Iter "
       ]
      },
      {
       "output_type": "stream",
       "stream": "stdout",
       "text": [
        " 288\n",
        "Iter "
       ]
      },
      {
       "output_type": "stream",
       "stream": "stdout",
       "text": [
        " 289\n",
        "Iter "
       ]
      },
      {
       "output_type": "stream",
       "stream": "stdout",
       "text": [
        " 290\n",
        "Iter "
       ]
      },
      {
       "output_type": "stream",
       "stream": "stdout",
       "text": [
        " 291\n",
        "Iter "
       ]
      },
      {
       "output_type": "stream",
       "stream": "stdout",
       "text": [
        " 292\n",
        "Iter "
       ]
      },
      {
       "output_type": "stream",
       "stream": "stdout",
       "text": [
        " 293\n",
        "Iter "
       ]
      },
      {
       "output_type": "stream",
       "stream": "stdout",
       "text": [
        " 294\n",
        "Iter "
       ]
      },
      {
       "output_type": "stream",
       "stream": "stdout",
       "text": [
        " 295\n",
        "Iter "
       ]
      },
      {
       "output_type": "stream",
       "stream": "stdout",
       "text": [
        " 296\n",
        "Iter "
       ]
      },
      {
       "output_type": "stream",
       "stream": "stdout",
       "text": [
        " 297\n",
        "Iter "
       ]
      },
      {
       "output_type": "stream",
       "stream": "stdout",
       "text": [
        " 298\n",
        "Iter "
       ]
      },
      {
       "output_type": "stream",
       "stream": "stdout",
       "text": [
        " 299\n",
        "Iter "
       ]
      },
      {
       "output_type": "stream",
       "stream": "stdout",
       "text": [
        " 300\n",
        "Iter "
       ]
      },
      {
       "output_type": "stream",
       "stream": "stdout",
       "text": [
        " 301\n",
        "Iter "
       ]
      },
      {
       "output_type": "stream",
       "stream": "stdout",
       "text": [
        " 302\n",
        "Iter "
       ]
      },
      {
       "output_type": "stream",
       "stream": "stdout",
       "text": [
        " 303\n",
        "Iter "
       ]
      },
      {
       "output_type": "stream",
       "stream": "stdout",
       "text": [
        " 304\n",
        "Iter "
       ]
      },
      {
       "output_type": "stream",
       "stream": "stdout",
       "text": [
        " 305\n",
        "Iter "
       ]
      },
      {
       "output_type": "stream",
       "stream": "stdout",
       "text": [
        " 306\n",
        "Iter "
       ]
      },
      {
       "output_type": "stream",
       "stream": "stdout",
       "text": [
        " 307\n",
        "Iter "
       ]
      },
      {
       "output_type": "stream",
       "stream": "stdout",
       "text": [
        " 308\n",
        "Iter "
       ]
      },
      {
       "output_type": "stream",
       "stream": "stdout",
       "text": [
        " 309\n",
        "Iter "
       ]
      },
      {
       "output_type": "stream",
       "stream": "stdout",
       "text": [
        " 310\n",
        "Iter "
       ]
      },
      {
       "output_type": "stream",
       "stream": "stdout",
       "text": [
        " 311\n",
        "Iter "
       ]
      },
      {
       "output_type": "stream",
       "stream": "stdout",
       "text": [
        " 312\n",
        "Iter "
       ]
      },
      {
       "output_type": "stream",
       "stream": "stdout",
       "text": [
        " 313\n",
        "Iter "
       ]
      },
      {
       "output_type": "stream",
       "stream": "stdout",
       "text": [
        " 314\n",
        "Iter "
       ]
      },
      {
       "output_type": "stream",
       "stream": "stdout",
       "text": [
        " 315\n",
        "Iter "
       ]
      },
      {
       "output_type": "stream",
       "stream": "stdout",
       "text": [
        " 316\n",
        "Iter "
       ]
      },
      {
       "output_type": "stream",
       "stream": "stdout",
       "text": [
        " 317\n",
        "Iter "
       ]
      },
      {
       "output_type": "stream",
       "stream": "stdout",
       "text": [
        " 318\n",
        "Iter "
       ]
      },
      {
       "output_type": "stream",
       "stream": "stdout",
       "text": [
        " 319\n",
        "Iter "
       ]
      },
      {
       "output_type": "stream",
       "stream": "stdout",
       "text": [
        " 320\n",
        "Iter "
       ]
      },
      {
       "output_type": "stream",
       "stream": "stdout",
       "text": [
        " 321\n",
        "Iter "
       ]
      },
      {
       "output_type": "stream",
       "stream": "stdout",
       "text": [
        " 322\n",
        "Iter "
       ]
      },
      {
       "output_type": "stream",
       "stream": "stdout",
       "text": [
        " 323\n",
        "Iter "
       ]
      },
      {
       "output_type": "stream",
       "stream": "stdout",
       "text": [
        " 324\n",
        "Iter "
       ]
      },
      {
       "output_type": "stream",
       "stream": "stdout",
       "text": [
        " 325\n",
        "Iter "
       ]
      },
      {
       "output_type": "stream",
       "stream": "stdout",
       "text": [
        " 326\n",
        "Iter "
       ]
      },
      {
       "output_type": "stream",
       "stream": "stdout",
       "text": [
        " 327\n",
        "Iter "
       ]
      },
      {
       "output_type": "stream",
       "stream": "stdout",
       "text": [
        " 328\n",
        "Iter "
       ]
      },
      {
       "output_type": "stream",
       "stream": "stdout",
       "text": [
        " 329\n",
        "Iter "
       ]
      },
      {
       "output_type": "stream",
       "stream": "stdout",
       "text": [
        " 330\n",
        "Iter "
       ]
      },
      {
       "output_type": "stream",
       "stream": "stdout",
       "text": [
        " 331\n",
        "Iter "
       ]
      },
      {
       "output_type": "stream",
       "stream": "stdout",
       "text": [
        " 332\n",
        "Iter "
       ]
      },
      {
       "output_type": "stream",
       "stream": "stdout",
       "text": [
        " 333\n",
        "Iter "
       ]
      },
      {
       "output_type": "stream",
       "stream": "stdout",
       "text": [
        " 334\n",
        "Iter "
       ]
      },
      {
       "output_type": "stream",
       "stream": "stdout",
       "text": [
        " 335\n",
        "Iter "
       ]
      },
      {
       "output_type": "stream",
       "stream": "stdout",
       "text": [
        " 336\n",
        "Iter "
       ]
      },
      {
       "output_type": "stream",
       "stream": "stdout",
       "text": [
        " 337\n",
        "Iter "
       ]
      },
      {
       "output_type": "stream",
       "stream": "stdout",
       "text": [
        " 338\n",
        "Iter "
       ]
      },
      {
       "output_type": "stream",
       "stream": "stdout",
       "text": [
        " 339\n",
        "Iter "
       ]
      },
      {
       "output_type": "stream",
       "stream": "stdout",
       "text": [
        " 340\n",
        "Iter "
       ]
      },
      {
       "output_type": "stream",
       "stream": "stdout",
       "text": [
        " 341\n",
        "Iter "
       ]
      },
      {
       "output_type": "stream",
       "stream": "stdout",
       "text": [
        " 342\n",
        "Iter "
       ]
      },
      {
       "output_type": "stream",
       "stream": "stdout",
       "text": [
        " 343\n",
        "Iter "
       ]
      },
      {
       "output_type": "stream",
       "stream": "stdout",
       "text": [
        " 344\n",
        "Iter "
       ]
      },
      {
       "output_type": "stream",
       "stream": "stdout",
       "text": [
        " 345\n",
        "Iter "
       ]
      },
      {
       "output_type": "stream",
       "stream": "stdout",
       "text": [
        " 346\n",
        "Iter "
       ]
      },
      {
       "output_type": "stream",
       "stream": "stdout",
       "text": [
        " 347\n",
        "Iter "
       ]
      },
      {
       "output_type": "stream",
       "stream": "stdout",
       "text": [
        " 348\n",
        "Iter "
       ]
      },
      {
       "output_type": "stream",
       "stream": "stdout",
       "text": [
        " 349\n",
        "Iter "
       ]
      },
      {
       "output_type": "stream",
       "stream": "stdout",
       "text": [
        " 350\n",
        "Iter "
       ]
      },
      {
       "output_type": "stream",
       "stream": "stdout",
       "text": [
        " 351\n",
        "Iter "
       ]
      },
      {
       "output_type": "stream",
       "stream": "stdout",
       "text": [
        " 352\n",
        "Iter "
       ]
      },
      {
       "output_type": "stream",
       "stream": "stdout",
       "text": [
        " 353\n",
        "Iter "
       ]
      },
      {
       "output_type": "stream",
       "stream": "stdout",
       "text": [
        " 354\n",
        "Iter "
       ]
      },
      {
       "output_type": "stream",
       "stream": "stdout",
       "text": [
        " 355\n",
        "Iter "
       ]
      },
      {
       "output_type": "stream",
       "stream": "stdout",
       "text": [
        " 356\n",
        "Iter "
       ]
      },
      {
       "output_type": "stream",
       "stream": "stdout",
       "text": [
        " 357\n",
        "Iter "
       ]
      },
      {
       "output_type": "stream",
       "stream": "stdout",
       "text": [
        " 358\n",
        "Iter "
       ]
      },
      {
       "output_type": "stream",
       "stream": "stdout",
       "text": [
        " 359\n",
        "Iter "
       ]
      },
      {
       "output_type": "stream",
       "stream": "stdout",
       "text": [
        " 360\n",
        "Iter "
       ]
      },
      {
       "output_type": "stream",
       "stream": "stdout",
       "text": [
        " 361\n",
        "Iter "
       ]
      },
      {
       "output_type": "stream",
       "stream": "stdout",
       "text": [
        " 362\n",
        "Iter "
       ]
      },
      {
       "output_type": "stream",
       "stream": "stdout",
       "text": [
        " 363\n",
        "Iter "
       ]
      },
      {
       "output_type": "stream",
       "stream": "stdout",
       "text": [
        " 364\n",
        "Iter "
       ]
      },
      {
       "output_type": "stream",
       "stream": "stdout",
       "text": [
        " 365\n",
        "Iter "
       ]
      },
      {
       "output_type": "stream",
       "stream": "stdout",
       "text": [
        " 366\n",
        "Iter "
       ]
      },
      {
       "output_type": "stream",
       "stream": "stdout",
       "text": [
        " 367\n",
        "Iter "
       ]
      },
      {
       "output_type": "stream",
       "stream": "stdout",
       "text": [
        " 368\n",
        "Iter "
       ]
      },
      {
       "output_type": "stream",
       "stream": "stdout",
       "text": [
        " 369\n",
        "Iter "
       ]
      },
      {
       "output_type": "stream",
       "stream": "stdout",
       "text": [
        " 370\n",
        "Iter "
       ]
      },
      {
       "output_type": "stream",
       "stream": "stdout",
       "text": [
        " 371\n",
        "Iter "
       ]
      },
      {
       "output_type": "stream",
       "stream": "stdout",
       "text": [
        " 372\n",
        "Iter "
       ]
      },
      {
       "output_type": "stream",
       "stream": "stdout",
       "text": [
        " 373\n",
        "Iter "
       ]
      },
      {
       "output_type": "stream",
       "stream": "stdout",
       "text": [
        " 374\n",
        "Iter "
       ]
      },
      {
       "output_type": "stream",
       "stream": "stdout",
       "text": [
        " 375\n",
        "Iter "
       ]
      },
      {
       "output_type": "stream",
       "stream": "stdout",
       "text": [
        " 376\n",
        "Iter "
       ]
      },
      {
       "output_type": "stream",
       "stream": "stdout",
       "text": [
        " 377\n",
        "Iter "
       ]
      },
      {
       "output_type": "stream",
       "stream": "stdout",
       "text": [
        " 378\n",
        "Iter "
       ]
      },
      {
       "output_type": "stream",
       "stream": "stdout",
       "text": [
        " 379\n",
        "Iter "
       ]
      },
      {
       "output_type": "stream",
       "stream": "stdout",
       "text": [
        " 380\n",
        "Iter "
       ]
      },
      {
       "output_type": "stream",
       "stream": "stdout",
       "text": [
        " 381\n",
        "Iter "
       ]
      },
      {
       "output_type": "stream",
       "stream": "stdout",
       "text": [
        " 382\n",
        "Iter "
       ]
      },
      {
       "output_type": "stream",
       "stream": "stdout",
       "text": [
        " 383\n",
        "Iter "
       ]
      },
      {
       "output_type": "stream",
       "stream": "stdout",
       "text": [
        " 384\n",
        "Iter "
       ]
      },
      {
       "output_type": "stream",
       "stream": "stdout",
       "text": [
        " 385\n",
        "Iter "
       ]
      },
      {
       "output_type": "stream",
       "stream": "stdout",
       "text": [
        " 386\n",
        "Iter "
       ]
      },
      {
       "output_type": "stream",
       "stream": "stdout",
       "text": [
        " 387\n",
        "Iter "
       ]
      },
      {
       "output_type": "stream",
       "stream": "stdout",
       "text": [
        " 388\n",
        "Iter "
       ]
      },
      {
       "output_type": "stream",
       "stream": "stdout",
       "text": [
        " 389\n",
        "Iter "
       ]
      },
      {
       "output_type": "stream",
       "stream": "stdout",
       "text": [
        " 390\n",
        "Iter "
       ]
      },
      {
       "output_type": "stream",
       "stream": "stdout",
       "text": [
        " 391\n",
        "Iter "
       ]
      },
      {
       "output_type": "stream",
       "stream": "stdout",
       "text": [
        " 392\n",
        "Iter "
       ]
      },
      {
       "output_type": "stream",
       "stream": "stdout",
       "text": [
        " 393\n",
        "Iter "
       ]
      },
      {
       "output_type": "stream",
       "stream": "stdout",
       "text": [
        " 394\n",
        "Iter "
       ]
      },
      {
       "output_type": "stream",
       "stream": "stdout",
       "text": [
        " 395\n",
        "Iter "
       ]
      },
      {
       "output_type": "stream",
       "stream": "stdout",
       "text": [
        " 396\n",
        "Iter "
       ]
      },
      {
       "output_type": "stream",
       "stream": "stdout",
       "text": [
        " 397\n",
        "Iter "
       ]
      },
      {
       "output_type": "stream",
       "stream": "stdout",
       "text": [
        " 398\n",
        "Iter "
       ]
      },
      {
       "output_type": "stream",
       "stream": "stdout",
       "text": [
        " 399\n",
        "Iter "
       ]
      },
      {
       "output_type": "stream",
       "stream": "stdout",
       "text": [
        " 400\n",
        "Iter "
       ]
      },
      {
       "output_type": "stream",
       "stream": "stdout",
       "text": [
        " 401\n",
        "Iter "
       ]
      },
      {
       "output_type": "stream",
       "stream": "stdout",
       "text": [
        " 402\n",
        "Iter "
       ]
      },
      {
       "output_type": "stream",
       "stream": "stdout",
       "text": [
        " 403\n",
        "Iter "
       ]
      },
      {
       "output_type": "stream",
       "stream": "stdout",
       "text": [
        " 404\n",
        "Iter "
       ]
      },
      {
       "output_type": "stream",
       "stream": "stdout",
       "text": [
        " 405\n",
        "Iter "
       ]
      },
      {
       "output_type": "stream",
       "stream": "stdout",
       "text": [
        " 406\n",
        "Iter "
       ]
      },
      {
       "output_type": "stream",
       "stream": "stdout",
       "text": [
        " 407\n",
        "Iter "
       ]
      },
      {
       "output_type": "stream",
       "stream": "stdout",
       "text": [
        " 408\n",
        "Iter "
       ]
      },
      {
       "output_type": "stream",
       "stream": "stdout",
       "text": [
        " 409\n",
        "Iter "
       ]
      },
      {
       "output_type": "stream",
       "stream": "stdout",
       "text": [
        " 410\n",
        "Iter "
       ]
      },
      {
       "output_type": "stream",
       "stream": "stdout",
       "text": [
        " 411\n",
        "Iter "
       ]
      },
      {
       "output_type": "stream",
       "stream": "stdout",
       "text": [
        " 412\n",
        "Iter "
       ]
      },
      {
       "output_type": "stream",
       "stream": "stdout",
       "text": [
        " 413\n",
        "Iter "
       ]
      },
      {
       "output_type": "stream",
       "stream": "stdout",
       "text": [
        " 414\n",
        "Iter "
       ]
      },
      {
       "output_type": "stream",
       "stream": "stdout",
       "text": [
        " 415\n",
        "Iter "
       ]
      },
      {
       "output_type": "stream",
       "stream": "stdout",
       "text": [
        " 416\n",
        "Iter "
       ]
      },
      {
       "output_type": "stream",
       "stream": "stdout",
       "text": [
        " 417\n",
        "Iter "
       ]
      },
      {
       "output_type": "stream",
       "stream": "stdout",
       "text": [
        " 418\n",
        "Iter "
       ]
      },
      {
       "output_type": "stream",
       "stream": "stdout",
       "text": [
        " 419\n",
        "Iter "
       ]
      },
      {
       "output_type": "stream",
       "stream": "stdout",
       "text": [
        " 420\n",
        "Iter "
       ]
      },
      {
       "output_type": "stream",
       "stream": "stdout",
       "text": [
        " 421\n",
        "Iter "
       ]
      },
      {
       "output_type": "stream",
       "stream": "stdout",
       "text": [
        " 422\n",
        "Iter "
       ]
      },
      {
       "output_type": "stream",
       "stream": "stdout",
       "text": [
        " 423\n",
        "Iter "
       ]
      },
      {
       "output_type": "stream",
       "stream": "stdout",
       "text": [
        " 424\n",
        "Iter "
       ]
      },
      {
       "output_type": "stream",
       "stream": "stdout",
       "text": [
        " 425\n",
        "Iter "
       ]
      },
      {
       "output_type": "stream",
       "stream": "stdout",
       "text": [
        " 426\n",
        "Iter "
       ]
      },
      {
       "output_type": "stream",
       "stream": "stdout",
       "text": [
        " 427\n",
        "Iter "
       ]
      },
      {
       "output_type": "stream",
       "stream": "stdout",
       "text": [
        " 428\n",
        "Iter "
       ]
      },
      {
       "output_type": "stream",
       "stream": "stdout",
       "text": [
        " 429\n",
        "Iter "
       ]
      },
      {
       "output_type": "stream",
       "stream": "stdout",
       "text": [
        " 430\n",
        "Iter "
       ]
      },
      {
       "output_type": "stream",
       "stream": "stdout",
       "text": [
        " 431\n",
        "Iter "
       ]
      },
      {
       "output_type": "stream",
       "stream": "stdout",
       "text": [
        " 432\n",
        "Iter "
       ]
      },
      {
       "output_type": "stream",
       "stream": "stdout",
       "text": [
        " 433\n",
        "Iter "
       ]
      },
      {
       "output_type": "stream",
       "stream": "stdout",
       "text": [
        " 434\n",
        "Iter "
       ]
      },
      {
       "output_type": "stream",
       "stream": "stdout",
       "text": [
        " 435\n",
        "Iter "
       ]
      },
      {
       "output_type": "stream",
       "stream": "stdout",
       "text": [
        " 436\n",
        "Iter "
       ]
      },
      {
       "output_type": "stream",
       "stream": "stdout",
       "text": [
        " 437\n",
        "Iter "
       ]
      },
      {
       "output_type": "stream",
       "stream": "stdout",
       "text": [
        " 438\n",
        "Iter "
       ]
      },
      {
       "output_type": "stream",
       "stream": "stdout",
       "text": [
        " 439\n",
        "Iter "
       ]
      },
      {
       "output_type": "stream",
       "stream": "stdout",
       "text": [
        " 440\n",
        "Iter "
       ]
      },
      {
       "output_type": "stream",
       "stream": "stdout",
       "text": [
        " 441\n",
        "Iter "
       ]
      },
      {
       "output_type": "stream",
       "stream": "stdout",
       "text": [
        " 442\n",
        "Iter "
       ]
      },
      {
       "output_type": "stream",
       "stream": "stdout",
       "text": [
        " 443\n",
        "Iter "
       ]
      },
      {
       "output_type": "stream",
       "stream": "stdout",
       "text": [
        " 444\n",
        "Iter "
       ]
      },
      {
       "output_type": "stream",
       "stream": "stdout",
       "text": [
        " 445\n",
        "Iter "
       ]
      },
      {
       "output_type": "stream",
       "stream": "stdout",
       "text": [
        " 446\n",
        "Iter "
       ]
      },
      {
       "output_type": "stream",
       "stream": "stdout",
       "text": [
        " 447\n",
        "Iter "
       ]
      },
      {
       "output_type": "stream",
       "stream": "stdout",
       "text": [
        " 448\n",
        "Iter "
       ]
      },
      {
       "output_type": "stream",
       "stream": "stdout",
       "text": [
        " 449\n",
        "Iter "
       ]
      },
      {
       "output_type": "stream",
       "stream": "stdout",
       "text": [
        " 450\n",
        "Iter "
       ]
      },
      {
       "output_type": "stream",
       "stream": "stdout",
       "text": [
        " 451\n",
        "Iter "
       ]
      },
      {
       "output_type": "stream",
       "stream": "stdout",
       "text": [
        " 452\n",
        "Iter "
       ]
      },
      {
       "output_type": "stream",
       "stream": "stdout",
       "text": [
        " 453\n",
        "Iter "
       ]
      },
      {
       "output_type": "stream",
       "stream": "stdout",
       "text": [
        " 454\n",
        "Iter "
       ]
      },
      {
       "output_type": "stream",
       "stream": "stdout",
       "text": [
        " 455\n",
        "Iter "
       ]
      },
      {
       "output_type": "stream",
       "stream": "stdout",
       "text": [
        " 456\n",
        "Iter "
       ]
      },
      {
       "output_type": "stream",
       "stream": "stdout",
       "text": [
        " 457\n",
        "Iter "
       ]
      },
      {
       "output_type": "stream",
       "stream": "stdout",
       "text": [
        " 458\n",
        "Iter "
       ]
      },
      {
       "output_type": "stream",
       "stream": "stdout",
       "text": [
        " 459\n",
        "Iter "
       ]
      },
      {
       "output_type": "stream",
       "stream": "stdout",
       "text": [
        " 460\n",
        "Iter "
       ]
      },
      {
       "output_type": "stream",
       "stream": "stdout",
       "text": [
        " 461\n",
        "Iter "
       ]
      },
      {
       "output_type": "stream",
       "stream": "stdout",
       "text": [
        " 462\n",
        "Iter "
       ]
      },
      {
       "output_type": "stream",
       "stream": "stdout",
       "text": [
        " 463\n",
        "Iter "
       ]
      },
      {
       "output_type": "stream",
       "stream": "stdout",
       "text": [
        " 464\n",
        "Iter "
       ]
      },
      {
       "output_type": "stream",
       "stream": "stdout",
       "text": [
        " 465\n",
        "Iter "
       ]
      },
      {
       "output_type": "stream",
       "stream": "stdout",
       "text": [
        " 466\n",
        "Iter "
       ]
      },
      {
       "output_type": "stream",
       "stream": "stdout",
       "text": [
        " 467\n",
        "Iter "
       ]
      },
      {
       "output_type": "stream",
       "stream": "stdout",
       "text": [
        " 468\n",
        "Iter "
       ]
      },
      {
       "output_type": "stream",
       "stream": "stdout",
       "text": [
        " 469\n",
        "Iter "
       ]
      },
      {
       "output_type": "stream",
       "stream": "stdout",
       "text": [
        " 470\n",
        "Iter "
       ]
      },
      {
       "output_type": "stream",
       "stream": "stdout",
       "text": [
        " 471\n",
        "Iter "
       ]
      },
      {
       "output_type": "stream",
       "stream": "stdout",
       "text": [
        " 472\n",
        "Iter "
       ]
      },
      {
       "output_type": "stream",
       "stream": "stdout",
       "text": [
        " 473\n",
        "Iter "
       ]
      },
      {
       "output_type": "stream",
       "stream": "stdout",
       "text": [
        " 474\n",
        "Iter "
       ]
      },
      {
       "output_type": "stream",
       "stream": "stdout",
       "text": [
        " 475\n",
        "Iter "
       ]
      },
      {
       "output_type": "stream",
       "stream": "stdout",
       "text": [
        " 476\n",
        "Iter "
       ]
      },
      {
       "output_type": "stream",
       "stream": "stdout",
       "text": [
        " 477\n",
        "Iter "
       ]
      },
      {
       "output_type": "stream",
       "stream": "stdout",
       "text": [
        " 478\n",
        "Iter "
       ]
      },
      {
       "output_type": "stream",
       "stream": "stdout",
       "text": [
        " 479\n",
        "Iter "
       ]
      },
      {
       "output_type": "stream",
       "stream": "stdout",
       "text": [
        " 480\n",
        "Iter "
       ]
      },
      {
       "output_type": "stream",
       "stream": "stdout",
       "text": [
        " 481\n",
        "Iter "
       ]
      },
      {
       "output_type": "stream",
       "stream": "stdout",
       "text": [
        " 482\n",
        "Iter "
       ]
      },
      {
       "output_type": "stream",
       "stream": "stdout",
       "text": [
        " 483\n",
        "Iter "
       ]
      },
      {
       "output_type": "stream",
       "stream": "stdout",
       "text": [
        " 484\n",
        "Iter "
       ]
      },
      {
       "output_type": "stream",
       "stream": "stdout",
       "text": [
        " 485\n",
        "Iter "
       ]
      },
      {
       "output_type": "stream",
       "stream": "stdout",
       "text": [
        " 486\n",
        "Iter "
       ]
      },
      {
       "output_type": "stream",
       "stream": "stdout",
       "text": [
        " 487\n",
        "Iter "
       ]
      },
      {
       "output_type": "stream",
       "stream": "stdout",
       "text": [
        " 488\n",
        "Iter "
       ]
      },
      {
       "output_type": "stream",
       "stream": "stdout",
       "text": [
        " 489\n",
        "Iter "
       ]
      },
      {
       "output_type": "stream",
       "stream": "stdout",
       "text": [
        " 490\n",
        "Iter "
       ]
      },
      {
       "output_type": "stream",
       "stream": "stdout",
       "text": [
        " 491\n",
        "Iter "
       ]
      },
      {
       "output_type": "stream",
       "stream": "stdout",
       "text": [
        " 492\n",
        "Iter "
       ]
      },
      {
       "output_type": "stream",
       "stream": "stdout",
       "text": [
        " 493\n",
        "Iter "
       ]
      },
      {
       "output_type": "stream",
       "stream": "stdout",
       "text": [
        " 494\n",
        "Iter "
       ]
      },
      {
       "output_type": "stream",
       "stream": "stdout",
       "text": [
        " 495\n",
        "Iter "
       ]
      },
      {
       "output_type": "stream",
       "stream": "stdout",
       "text": [
        " 496\n",
        "Iter "
       ]
      },
      {
       "output_type": "stream",
       "stream": "stdout",
       "text": [
        " 497\n",
        "Iter "
       ]
      },
      {
       "output_type": "stream",
       "stream": "stdout",
       "text": [
        " 498\n",
        "Iter "
       ]
      },
      {
       "output_type": "stream",
       "stream": "stdout",
       "text": [
        " 499\n",
        "Iter "
       ]
      },
      {
       "output_type": "stream",
       "stream": "stdout",
       "text": [
        " 500\n",
        "Iter "
       ]
      },
      {
       "output_type": "stream",
       "stream": "stdout",
       "text": [
        " 501\n",
        "Iter "
       ]
      },
      {
       "output_type": "stream",
       "stream": "stdout",
       "text": [
        " 502\n",
        "Iter "
       ]
      },
      {
       "output_type": "stream",
       "stream": "stdout",
       "text": [
        " 503\n",
        "Iter "
       ]
      },
      {
       "output_type": "stream",
       "stream": "stdout",
       "text": [
        " 504\n",
        "Iter "
       ]
      },
      {
       "output_type": "stream",
       "stream": "stdout",
       "text": [
        " 505\n",
        "Iter "
       ]
      },
      {
       "output_type": "stream",
       "stream": "stdout",
       "text": [
        " 506\n",
        "Iter "
       ]
      },
      {
       "output_type": "stream",
       "stream": "stdout",
       "text": [
        " 507\n",
        "Iter "
       ]
      },
      {
       "output_type": "stream",
       "stream": "stdout",
       "text": [
        " 508\n",
        "Iter "
       ]
      },
      {
       "output_type": "stream",
       "stream": "stdout",
       "text": [
        " 509\n",
        "Iter "
       ]
      },
      {
       "output_type": "stream",
       "stream": "stdout",
       "text": [
        " 510\n",
        "Iter "
       ]
      },
      {
       "output_type": "stream",
       "stream": "stdout",
       "text": [
        " 511\n",
        "Iter "
       ]
      },
      {
       "output_type": "stream",
       "stream": "stdout",
       "text": [
        " 512\n",
        "Iter "
       ]
      },
      {
       "output_type": "stream",
       "stream": "stdout",
       "text": [
        " 513\n",
        "Iter "
       ]
      },
      {
       "output_type": "stream",
       "stream": "stdout",
       "text": [
        " 514\n",
        "Iter "
       ]
      },
      {
       "output_type": "stream",
       "stream": "stdout",
       "text": [
        " 515\n",
        "Iter "
       ]
      },
      {
       "output_type": "stream",
       "stream": "stdout",
       "text": [
        " 516\n",
        "Iter "
       ]
      },
      {
       "output_type": "stream",
       "stream": "stdout",
       "text": [
        " 517\n",
        "Iter "
       ]
      },
      {
       "output_type": "stream",
       "stream": "stdout",
       "text": [
        " 518\n",
        "Iter "
       ]
      },
      {
       "output_type": "stream",
       "stream": "stdout",
       "text": [
        " 519\n",
        "Iter "
       ]
      },
      {
       "output_type": "stream",
       "stream": "stdout",
       "text": [
        " 520\n",
        "Iter "
       ]
      },
      {
       "output_type": "stream",
       "stream": "stdout",
       "text": [
        " 521\n",
        "Iter "
       ]
      },
      {
       "output_type": "stream",
       "stream": "stdout",
       "text": [
        " 522\n",
        "Iter "
       ]
      },
      {
       "output_type": "stream",
       "stream": "stdout",
       "text": [
        " 523\n",
        "Iter "
       ]
      },
      {
       "output_type": "stream",
       "stream": "stdout",
       "text": [
        " 524\n",
        "Iter "
       ]
      },
      {
       "output_type": "stream",
       "stream": "stdout",
       "text": [
        " 525\n",
        "Iter "
       ]
      },
      {
       "output_type": "stream",
       "stream": "stdout",
       "text": [
        " 526\n",
        "Iter "
       ]
      },
      {
       "output_type": "stream",
       "stream": "stdout",
       "text": [
        " 527\n",
        "Iter "
       ]
      },
      {
       "output_type": "stream",
       "stream": "stdout",
       "text": [
        " 528\n",
        "Iter "
       ]
      },
      {
       "output_type": "stream",
       "stream": "stdout",
       "text": [
        " 529\n",
        "Iter "
       ]
      },
      {
       "output_type": "stream",
       "stream": "stdout",
       "text": [
        " 530\n",
        "Iter "
       ]
      },
      {
       "output_type": "stream",
       "stream": "stdout",
       "text": [
        " 531\n",
        "Iter "
       ]
      },
      {
       "output_type": "stream",
       "stream": "stdout",
       "text": [
        " 532\n",
        "Iter "
       ]
      },
      {
       "output_type": "stream",
       "stream": "stdout",
       "text": [
        " 533\n",
        "Iter "
       ]
      },
      {
       "output_type": "stream",
       "stream": "stdout",
       "text": [
        " 534\n",
        "Iter "
       ]
      },
      {
       "output_type": "stream",
       "stream": "stdout",
       "text": [
        " 535\n",
        "Iter "
       ]
      },
      {
       "output_type": "stream",
       "stream": "stdout",
       "text": [
        " 536\n",
        "Iter "
       ]
      },
      {
       "output_type": "stream",
       "stream": "stdout",
       "text": [
        " 537\n",
        "Iter "
       ]
      },
      {
       "output_type": "stream",
       "stream": "stdout",
       "text": [
        " 538\n",
        "Iter "
       ]
      },
      {
       "output_type": "stream",
       "stream": "stdout",
       "text": [
        " 539\n",
        "Iter "
       ]
      },
      {
       "output_type": "stream",
       "stream": "stdout",
       "text": [
        " 540\n",
        "Iter "
       ]
      },
      {
       "output_type": "stream",
       "stream": "stdout",
       "text": [
        " 541\n",
        "Iter "
       ]
      },
      {
       "output_type": "stream",
       "stream": "stdout",
       "text": [
        " 542\n",
        "Iter "
       ]
      },
      {
       "output_type": "stream",
       "stream": "stdout",
       "text": [
        " 543\n",
        "Iter "
       ]
      },
      {
       "output_type": "stream",
       "stream": "stdout",
       "text": [
        " 544\n",
        "Iter "
       ]
      },
      {
       "output_type": "stream",
       "stream": "stdout",
       "text": [
        " 545\n",
        "Iter "
       ]
      },
      {
       "output_type": "stream",
       "stream": "stdout",
       "text": [
        " 546\n",
        "Iter "
       ]
      },
      {
       "output_type": "stream",
       "stream": "stdout",
       "text": [
        " 547\n",
        "Iter "
       ]
      },
      {
       "output_type": "stream",
       "stream": "stdout",
       "text": [
        " 548\n",
        "Iter "
       ]
      },
      {
       "output_type": "stream",
       "stream": "stdout",
       "text": [
        " 549\n",
        "Iter "
       ]
      },
      {
       "output_type": "stream",
       "stream": "stdout",
       "text": [
        " 550\n",
        "Iter "
       ]
      },
      {
       "output_type": "stream",
       "stream": "stdout",
       "text": [
        " 551\n",
        "Iter "
       ]
      },
      {
       "output_type": "stream",
       "stream": "stdout",
       "text": [
        " 552\n",
        "Iter "
       ]
      },
      {
       "output_type": "stream",
       "stream": "stdout",
       "text": [
        " 553\n",
        "Iter "
       ]
      },
      {
       "output_type": "stream",
       "stream": "stdout",
       "text": [
        " 554\n",
        "Iter "
       ]
      },
      {
       "output_type": "stream",
       "stream": "stdout",
       "text": [
        " 555\n",
        "Iter "
       ]
      },
      {
       "output_type": "stream",
       "stream": "stdout",
       "text": [
        " 556\n",
        "Iter "
       ]
      },
      {
       "output_type": "stream",
       "stream": "stdout",
       "text": [
        " 557\n",
        "Iter "
       ]
      },
      {
       "output_type": "stream",
       "stream": "stdout",
       "text": [
        " 558\n",
        "Iter "
       ]
      },
      {
       "output_type": "stream",
       "stream": "stdout",
       "text": [
        " 559\n",
        "Iter "
       ]
      },
      {
       "output_type": "stream",
       "stream": "stdout",
       "text": [
        " 560\n",
        "Iter "
       ]
      },
      {
       "output_type": "stream",
       "stream": "stdout",
       "text": [
        " 561\n",
        "Iter "
       ]
      },
      {
       "output_type": "stream",
       "stream": "stdout",
       "text": [
        " 562\n",
        "Iter "
       ]
      },
      {
       "output_type": "stream",
       "stream": "stdout",
       "text": [
        " 563\n",
        "Iter "
       ]
      },
      {
       "output_type": "stream",
       "stream": "stdout",
       "text": [
        " 564\n",
        "Iter "
       ]
      },
      {
       "output_type": "stream",
       "stream": "stdout",
       "text": [
        " 565\n",
        "Iter "
       ]
      },
      {
       "output_type": "stream",
       "stream": "stdout",
       "text": [
        " 566\n",
        "Iter "
       ]
      },
      {
       "output_type": "stream",
       "stream": "stdout",
       "text": [
        " 567\n",
        "Iter "
       ]
      },
      {
       "output_type": "stream",
       "stream": "stdout",
       "text": [
        " 568\n",
        "Iter "
       ]
      },
      {
       "output_type": "stream",
       "stream": "stdout",
       "text": [
        " 569\n",
        "Iter "
       ]
      },
      {
       "output_type": "stream",
       "stream": "stdout",
       "text": [
        " 570\n",
        "Iter "
       ]
      },
      {
       "output_type": "stream",
       "stream": "stdout",
       "text": [
        " 571\n",
        "Iter "
       ]
      },
      {
       "output_type": "stream",
       "stream": "stdout",
       "text": [
        " 572\n",
        "Iter "
       ]
      },
      {
       "output_type": "stream",
       "stream": "stdout",
       "text": [
        " 573\n",
        "Iter "
       ]
      },
      {
       "output_type": "stream",
       "stream": "stdout",
       "text": [
        " 574\n",
        "Iter "
       ]
      },
      {
       "output_type": "stream",
       "stream": "stdout",
       "text": [
        " 575\n",
        "Iter "
       ]
      },
      {
       "output_type": "stream",
       "stream": "stdout",
       "text": [
        " 576\n",
        "Iter "
       ]
      },
      {
       "output_type": "stream",
       "stream": "stdout",
       "text": [
        " 577\n",
        "Iter "
       ]
      },
      {
       "output_type": "stream",
       "stream": "stdout",
       "text": [
        " 578\n",
        "Iter "
       ]
      },
      {
       "output_type": "stream",
       "stream": "stdout",
       "text": [
        " 579\n",
        "Iter "
       ]
      },
      {
       "output_type": "stream",
       "stream": "stdout",
       "text": [
        " 580\n",
        "Iter "
       ]
      },
      {
       "output_type": "stream",
       "stream": "stdout",
       "text": [
        " 581\n",
        "Iter "
       ]
      },
      {
       "output_type": "stream",
       "stream": "stdout",
       "text": [
        " 582\n",
        "Iter "
       ]
      },
      {
       "output_type": "stream",
       "stream": "stdout",
       "text": [
        " 583\n",
        "Iter "
       ]
      },
      {
       "output_type": "stream",
       "stream": "stdout",
       "text": [
        " 584\n",
        "Iter "
       ]
      },
      {
       "output_type": "stream",
       "stream": "stdout",
       "text": [
        " 585\n",
        "Iter "
       ]
      },
      {
       "output_type": "stream",
       "stream": "stdout",
       "text": [
        " 586\n",
        "Iter "
       ]
      },
      {
       "output_type": "stream",
       "stream": "stdout",
       "text": [
        " 587\n",
        "Iter "
       ]
      },
      {
       "output_type": "stream",
       "stream": "stdout",
       "text": [
        " 588\n",
        "Iter "
       ]
      },
      {
       "output_type": "stream",
       "stream": "stdout",
       "text": [
        " 589\n",
        "Iter "
       ]
      },
      {
       "output_type": "stream",
       "stream": "stdout",
       "text": [
        " 590\n",
        "Iter "
       ]
      },
      {
       "output_type": "stream",
       "stream": "stdout",
       "text": [
        " 591\n",
        "Iter "
       ]
      },
      {
       "output_type": "stream",
       "stream": "stdout",
       "text": [
        " 592\n",
        "Iter "
       ]
      },
      {
       "output_type": "stream",
       "stream": "stdout",
       "text": [
        " 593\n",
        "Iter "
       ]
      },
      {
       "output_type": "stream",
       "stream": "stdout",
       "text": [
        " 594\n",
        "Iter "
       ]
      },
      {
       "output_type": "stream",
       "stream": "stdout",
       "text": [
        " 595\n",
        "Iter "
       ]
      },
      {
       "output_type": "stream",
       "stream": "stdout",
       "text": [
        " 596\n",
        "Iter "
       ]
      },
      {
       "output_type": "stream",
       "stream": "stdout",
       "text": [
        " 597\n",
        "Iter "
       ]
      },
      {
       "output_type": "stream",
       "stream": "stdout",
       "text": [
        " 598\n",
        "Iter "
       ]
      },
      {
       "output_type": "stream",
       "stream": "stdout",
       "text": [
        " 599\n",
        "Iter "
       ]
      },
      {
       "output_type": "stream",
       "stream": "stdout",
       "text": [
        " 600\n",
        "Iter "
       ]
      },
      {
       "output_type": "stream",
       "stream": "stdout",
       "text": [
        " 601\n",
        "Iter "
       ]
      },
      {
       "output_type": "stream",
       "stream": "stdout",
       "text": [
        " 602\n",
        "Iter "
       ]
      },
      {
       "output_type": "stream",
       "stream": "stdout",
       "text": [
        " 603\n",
        "Iter "
       ]
      },
      {
       "output_type": "stream",
       "stream": "stdout",
       "text": [
        " 604\n",
        "Iter "
       ]
      },
      {
       "output_type": "stream",
       "stream": "stdout",
       "text": [
        " 605\n",
        "Iter "
       ]
      },
      {
       "output_type": "stream",
       "stream": "stdout",
       "text": [
        " 606\n",
        "Iter "
       ]
      },
      {
       "output_type": "stream",
       "stream": "stdout",
       "text": [
        " 607\n",
        "Iter "
       ]
      },
      {
       "output_type": "stream",
       "stream": "stdout",
       "text": [
        " 608\n",
        "Iter "
       ]
      },
      {
       "output_type": "stream",
       "stream": "stdout",
       "text": [
        " 609\n",
        "Iter "
       ]
      },
      {
       "output_type": "stream",
       "stream": "stdout",
       "text": [
        " 610\n",
        "Iter "
       ]
      },
      {
       "output_type": "stream",
       "stream": "stdout",
       "text": [
        " 611\n",
        "Iter "
       ]
      },
      {
       "output_type": "stream",
       "stream": "stdout",
       "text": [
        " 612\n",
        "Iter "
       ]
      },
      {
       "output_type": "stream",
       "stream": "stdout",
       "text": [
        " 613\n",
        "Iter "
       ]
      },
      {
       "output_type": "stream",
       "stream": "stdout",
       "text": [
        " 614\n",
        "Iter "
       ]
      },
      {
       "output_type": "stream",
       "stream": "stdout",
       "text": [
        " 615\n",
        "Iter "
       ]
      },
      {
       "output_type": "stream",
       "stream": "stdout",
       "text": [
        " 616\n",
        "Iter "
       ]
      },
      {
       "output_type": "stream",
       "stream": "stdout",
       "text": [
        " 617\n",
        "Iter "
       ]
      },
      {
       "output_type": "stream",
       "stream": "stdout",
       "text": [
        " 618\n",
        "Iter "
       ]
      },
      {
       "output_type": "stream",
       "stream": "stdout",
       "text": [
        " 619\n",
        "Iter "
       ]
      },
      {
       "output_type": "stream",
       "stream": "stdout",
       "text": [
        " 620\n",
        "Iter "
       ]
      },
      {
       "output_type": "stream",
       "stream": "stdout",
       "text": [
        " 621\n",
        "Iter "
       ]
      },
      {
       "output_type": "stream",
       "stream": "stdout",
       "text": [
        " 622\n",
        "Iter "
       ]
      },
      {
       "output_type": "stream",
       "stream": "stdout",
       "text": [
        " 623\n",
        "Iter "
       ]
      },
      {
       "output_type": "stream",
       "stream": "stdout",
       "text": [
        " 624\n",
        "Iter "
       ]
      },
      {
       "output_type": "stream",
       "stream": "stdout",
       "text": [
        " 625\n",
        "Iter "
       ]
      },
      {
       "output_type": "stream",
       "stream": "stdout",
       "text": [
        " 626\n",
        "Iter "
       ]
      },
      {
       "output_type": "stream",
       "stream": "stdout",
       "text": [
        " 627\n",
        "Iter "
       ]
      },
      {
       "output_type": "stream",
       "stream": "stdout",
       "text": [
        " 628\n",
        "Iter "
       ]
      },
      {
       "output_type": "stream",
       "stream": "stdout",
       "text": [
        " 629\n",
        "Iter "
       ]
      },
      {
       "output_type": "stream",
       "stream": "stdout",
       "text": [
        " 630\n",
        "Iter "
       ]
      },
      {
       "output_type": "stream",
       "stream": "stdout",
       "text": [
        " 631\n",
        "Iter "
       ]
      },
      {
       "output_type": "stream",
       "stream": "stdout",
       "text": [
        " 632\n",
        "Iter "
       ]
      },
      {
       "output_type": "stream",
       "stream": "stdout",
       "text": [
        " 633\n",
        "Iter "
       ]
      },
      {
       "output_type": "stream",
       "stream": "stdout",
       "text": [
        " 634\n",
        "Iter "
       ]
      },
      {
       "output_type": "stream",
       "stream": "stdout",
       "text": [
        " 635\n",
        "Iter "
       ]
      },
      {
       "output_type": "stream",
       "stream": "stdout",
       "text": [
        " 636\n",
        "Iter "
       ]
      },
      {
       "output_type": "stream",
       "stream": "stdout",
       "text": [
        " 637\n",
        "Iter "
       ]
      },
      {
       "output_type": "stream",
       "stream": "stdout",
       "text": [
        " 638\n",
        "Iter "
       ]
      },
      {
       "output_type": "stream",
       "stream": "stdout",
       "text": [
        " 639\n",
        "Iter "
       ]
      },
      {
       "output_type": "stream",
       "stream": "stdout",
       "text": [
        " 640\n",
        "Iter "
       ]
      },
      {
       "output_type": "stream",
       "stream": "stdout",
       "text": [
        " 641\n",
        "Iter "
       ]
      },
      {
       "output_type": "stream",
       "stream": "stdout",
       "text": [
        " 642\n",
        "Iter "
       ]
      },
      {
       "output_type": "stream",
       "stream": "stdout",
       "text": [
        " 643\n",
        "Iter "
       ]
      },
      {
       "output_type": "stream",
       "stream": "stdout",
       "text": [
        " 644\n",
        "Iter "
       ]
      },
      {
       "output_type": "stream",
       "stream": "stdout",
       "text": [
        " 645\n",
        "Iter "
       ]
      },
      {
       "output_type": "stream",
       "stream": "stdout",
       "text": [
        " 646\n",
        "Iter "
       ]
      },
      {
       "output_type": "stream",
       "stream": "stdout",
       "text": [
        " 647\n",
        "Iter "
       ]
      },
      {
       "output_type": "stream",
       "stream": "stdout",
       "text": [
        " 648\n",
        "Iter "
       ]
      },
      {
       "output_type": "stream",
       "stream": "stdout",
       "text": [
        " 649\n",
        "Iter "
       ]
      },
      {
       "output_type": "stream",
       "stream": "stdout",
       "text": [
        " 650\n",
        "Iter "
       ]
      },
      {
       "output_type": "stream",
       "stream": "stdout",
       "text": [
        " 651\n",
        "Iter "
       ]
      },
      {
       "output_type": "stream",
       "stream": "stdout",
       "text": [
        " 652\n",
        "Iter "
       ]
      },
      {
       "output_type": "stream",
       "stream": "stdout",
       "text": [
        " 653\n",
        "Iter "
       ]
      },
      {
       "output_type": "stream",
       "stream": "stdout",
       "text": [
        " 654\n",
        "Iter "
       ]
      },
      {
       "output_type": "stream",
       "stream": "stdout",
       "text": [
        " 655\n",
        "Iter "
       ]
      },
      {
       "output_type": "stream",
       "stream": "stdout",
       "text": [
        " 656\n",
        "Iter "
       ]
      },
      {
       "output_type": "stream",
       "stream": "stdout",
       "text": [
        " 657\n",
        "Iter "
       ]
      },
      {
       "output_type": "stream",
       "stream": "stdout",
       "text": [
        " 658\n",
        "Iter "
       ]
      },
      {
       "output_type": "stream",
       "stream": "stdout",
       "text": [
        " 659\n",
        "Iter "
       ]
      },
      {
       "output_type": "stream",
       "stream": "stdout",
       "text": [
        " 660\n",
        "Iter "
       ]
      },
      {
       "output_type": "stream",
       "stream": "stdout",
       "text": [
        " 661\n",
        "Iter "
       ]
      },
      {
       "output_type": "stream",
       "stream": "stdout",
       "text": [
        " 662\n",
        "Iter "
       ]
      },
      {
       "output_type": "stream",
       "stream": "stdout",
       "text": [
        " 663\n",
        "Iter "
       ]
      },
      {
       "output_type": "stream",
       "stream": "stdout",
       "text": [
        " 664\n",
        "Iter "
       ]
      },
      {
       "output_type": "stream",
       "stream": "stdout",
       "text": [
        " 665\n",
        "Iter "
       ]
      },
      {
       "output_type": "stream",
       "stream": "stdout",
       "text": [
        " 666\n",
        "Iter "
       ]
      },
      {
       "output_type": "stream",
       "stream": "stdout",
       "text": [
        " 667\n",
        "Iter "
       ]
      },
      {
       "output_type": "stream",
       "stream": "stdout",
       "text": [
        " 668\n",
        "Iter "
       ]
      },
      {
       "output_type": "stream",
       "stream": "stdout",
       "text": [
        " 669\n",
        "Iter "
       ]
      },
      {
       "output_type": "stream",
       "stream": "stdout",
       "text": [
        " 670\n",
        "Iter "
       ]
      },
      {
       "output_type": "stream",
       "stream": "stdout",
       "text": [
        " 671\n",
        "Iter "
       ]
      },
      {
       "output_type": "stream",
       "stream": "stdout",
       "text": [
        " 672\n",
        "Iter "
       ]
      },
      {
       "output_type": "stream",
       "stream": "stdout",
       "text": [
        " 673\n",
        "Iter "
       ]
      },
      {
       "output_type": "stream",
       "stream": "stdout",
       "text": [
        " 674\n",
        "Iter "
       ]
      },
      {
       "output_type": "stream",
       "stream": "stdout",
       "text": [
        " 675\n",
        "Iter "
       ]
      },
      {
       "output_type": "stream",
       "stream": "stdout",
       "text": [
        " 676\n",
        "Iter "
       ]
      },
      {
       "output_type": "stream",
       "stream": "stdout",
       "text": [
        " 677\n",
        "Iter "
       ]
      },
      {
       "output_type": "stream",
       "stream": "stdout",
       "text": [
        " 678\n",
        "Iter "
       ]
      },
      {
       "output_type": "stream",
       "stream": "stdout",
       "text": [
        " 679\n",
        "Iter "
       ]
      },
      {
       "output_type": "stream",
       "stream": "stdout",
       "text": [
        " 680\n",
        "Iter "
       ]
      },
      {
       "output_type": "stream",
       "stream": "stdout",
       "text": [
        " 681\n",
        "Iter "
       ]
      },
      {
       "output_type": "stream",
       "stream": "stdout",
       "text": [
        " 682\n",
        "Iter "
       ]
      },
      {
       "output_type": "stream",
       "stream": "stdout",
       "text": [
        " 683\n",
        "Iter "
       ]
      },
      {
       "output_type": "stream",
       "stream": "stdout",
       "text": [
        " 684\n",
        "Iter "
       ]
      },
      {
       "output_type": "stream",
       "stream": "stdout",
       "text": [
        " 685\n",
        "Iter "
       ]
      },
      {
       "output_type": "stream",
       "stream": "stdout",
       "text": [
        " 686\n",
        "Iter "
       ]
      },
      {
       "output_type": "stream",
       "stream": "stdout",
       "text": [
        " 687\n",
        "Iter "
       ]
      },
      {
       "output_type": "stream",
       "stream": "stdout",
       "text": [
        " 688\n",
        "Iter "
       ]
      },
      {
       "output_type": "stream",
       "stream": "stdout",
       "text": [
        " 689\n",
        "Iter "
       ]
      },
      {
       "output_type": "stream",
       "stream": "stdout",
       "text": [
        " 690\n",
        "Iter "
       ]
      },
      {
       "output_type": "stream",
       "stream": "stdout",
       "text": [
        " 691\n",
        "Iter "
       ]
      },
      {
       "output_type": "stream",
       "stream": "stdout",
       "text": [
        " 692\n",
        "Iter "
       ]
      },
      {
       "output_type": "stream",
       "stream": "stdout",
       "text": [
        " 693\n",
        "Iter "
       ]
      },
      {
       "output_type": "stream",
       "stream": "stdout",
       "text": [
        " 694\n",
        "Iter "
       ]
      },
      {
       "output_type": "stream",
       "stream": "stdout",
       "text": [
        " 695\n",
        "Iter "
       ]
      },
      {
       "output_type": "stream",
       "stream": "stdout",
       "text": [
        " 696\n",
        "Iter "
       ]
      },
      {
       "output_type": "stream",
       "stream": "stdout",
       "text": [
        " 697\n",
        "Iter "
       ]
      },
      {
       "output_type": "stream",
       "stream": "stdout",
       "text": [
        " 698\n",
        "Iter "
       ]
      },
      {
       "output_type": "stream",
       "stream": "stdout",
       "text": [
        " 699\n",
        "Iter "
       ]
      },
      {
       "output_type": "stream",
       "stream": "stdout",
       "text": [
        " 700\n",
        "Iter "
       ]
      },
      {
       "output_type": "stream",
       "stream": "stdout",
       "text": [
        " 701\n",
        "Iter "
       ]
      },
      {
       "output_type": "stream",
       "stream": "stdout",
       "text": [
        " 702\n",
        "Iter "
       ]
      },
      {
       "output_type": "stream",
       "stream": "stdout",
       "text": [
        " 703\n",
        "Iter "
       ]
      },
      {
       "output_type": "stream",
       "stream": "stdout",
       "text": [
        " 704\n",
        "Iter "
       ]
      },
      {
       "output_type": "stream",
       "stream": "stdout",
       "text": [
        " 705\n",
        "Iter "
       ]
      },
      {
       "output_type": "stream",
       "stream": "stdout",
       "text": [
        " 706\n",
        "Iter "
       ]
      },
      {
       "output_type": "stream",
       "stream": "stdout",
       "text": [
        " 707\n",
        "Iter "
       ]
      },
      {
       "output_type": "stream",
       "stream": "stdout",
       "text": [
        " 708\n",
        "Iter "
       ]
      },
      {
       "output_type": "stream",
       "stream": "stdout",
       "text": [
        " 709\n",
        "Iter "
       ]
      },
      {
       "output_type": "stream",
       "stream": "stdout",
       "text": [
        " 710\n",
        "Iter "
       ]
      },
      {
       "output_type": "stream",
       "stream": "stdout",
       "text": [
        " 711\n",
        "Iter "
       ]
      },
      {
       "output_type": "stream",
       "stream": "stdout",
       "text": [
        " 712\n",
        "Iter "
       ]
      },
      {
       "output_type": "stream",
       "stream": "stdout",
       "text": [
        " 713\n",
        "Iter "
       ]
      },
      {
       "output_type": "stream",
       "stream": "stdout",
       "text": [
        " 714\n",
        "Iter "
       ]
      },
      {
       "output_type": "stream",
       "stream": "stdout",
       "text": [
        " 715\n",
        "Iter "
       ]
      },
      {
       "output_type": "stream",
       "stream": "stdout",
       "text": [
        " 716\n",
        "Iter "
       ]
      },
      {
       "output_type": "stream",
       "stream": "stdout",
       "text": [
        " 717\n",
        "Iter "
       ]
      },
      {
       "output_type": "stream",
       "stream": "stdout",
       "text": [
        " 718\n",
        "Iter "
       ]
      },
      {
       "output_type": "stream",
       "stream": "stdout",
       "text": [
        " 719\n",
        "Iter "
       ]
      },
      {
       "output_type": "stream",
       "stream": "stdout",
       "text": [
        " 720\n",
        "Iter "
       ]
      },
      {
       "output_type": "stream",
       "stream": "stdout",
       "text": [
        " 721\n",
        "Iter "
       ]
      },
      {
       "output_type": "stream",
       "stream": "stdout",
       "text": [
        " 722\n",
        "Iter "
       ]
      },
      {
       "output_type": "stream",
       "stream": "stdout",
       "text": [
        " 723\n",
        "Iter "
       ]
      },
      {
       "output_type": "stream",
       "stream": "stdout",
       "text": [
        " 724\n",
        "Iter "
       ]
      },
      {
       "output_type": "stream",
       "stream": "stdout",
       "text": [
        " 725\n",
        "Iter "
       ]
      },
      {
       "output_type": "stream",
       "stream": "stdout",
       "text": [
        " 726\n",
        "Iter "
       ]
      },
      {
       "output_type": "stream",
       "stream": "stdout",
       "text": [
        " 727\n",
        "Iter "
       ]
      },
      {
       "output_type": "stream",
       "stream": "stdout",
       "text": [
        " 728\n",
        "Iter "
       ]
      },
      {
       "output_type": "stream",
       "stream": "stdout",
       "text": [
        " 729\n",
        "Iter "
       ]
      },
      {
       "output_type": "stream",
       "stream": "stdout",
       "text": [
        " 730\n",
        "Iter "
       ]
      },
      {
       "output_type": "stream",
       "stream": "stdout",
       "text": [
        " 731\n",
        "Iter "
       ]
      },
      {
       "output_type": "stream",
       "stream": "stdout",
       "text": [
        " 732\n",
        "Iter "
       ]
      },
      {
       "output_type": "stream",
       "stream": "stdout",
       "text": [
        " 733\n",
        "Iter "
       ]
      },
      {
       "output_type": "stream",
       "stream": "stdout",
       "text": [
        " 734\n",
        "Iter "
       ]
      },
      {
       "output_type": "stream",
       "stream": "stdout",
       "text": [
        " 735\n",
        "Iter "
       ]
      },
      {
       "output_type": "stream",
       "stream": "stdout",
       "text": [
        " 736\n",
        "Iter "
       ]
      },
      {
       "output_type": "stream",
       "stream": "stdout",
       "text": [
        " 737\n",
        "Iter "
       ]
      },
      {
       "output_type": "stream",
       "stream": "stdout",
       "text": [
        " 738\n",
        "Iter "
       ]
      },
      {
       "output_type": "stream",
       "stream": "stdout",
       "text": [
        " 739\n",
        "Iter "
       ]
      },
      {
       "output_type": "stream",
       "stream": "stdout",
       "text": [
        " 740\n",
        "Iter "
       ]
      },
      {
       "output_type": "stream",
       "stream": "stdout",
       "text": [
        " 741\n",
        "Iter "
       ]
      },
      {
       "output_type": "stream",
       "stream": "stdout",
       "text": [
        " 742\n",
        "Iter "
       ]
      },
      {
       "output_type": "stream",
       "stream": "stdout",
       "text": [
        " 743\n",
        "Iter "
       ]
      },
      {
       "output_type": "stream",
       "stream": "stdout",
       "text": [
        " 744\n",
        "Iter "
       ]
      },
      {
       "output_type": "stream",
       "stream": "stdout",
       "text": [
        " 745\n",
        "Iter "
       ]
      },
      {
       "output_type": "stream",
       "stream": "stdout",
       "text": [
        " 746\n",
        "Iter "
       ]
      },
      {
       "output_type": "stream",
       "stream": "stdout",
       "text": [
        " 747\n",
        "Iter "
       ]
      },
      {
       "output_type": "stream",
       "stream": "stdout",
       "text": [
        " 748\n",
        "Iter "
       ]
      },
      {
       "output_type": "stream",
       "stream": "stdout",
       "text": [
        " 749\n",
        "Iter "
       ]
      },
      {
       "output_type": "stream",
       "stream": "stdout",
       "text": [
        " 750\n",
        "Iter "
       ]
      },
      {
       "output_type": "stream",
       "stream": "stdout",
       "text": [
        " 751\n",
        "Iter "
       ]
      },
      {
       "output_type": "stream",
       "stream": "stdout",
       "text": [
        " 752\n",
        "Iter "
       ]
      },
      {
       "output_type": "stream",
       "stream": "stdout",
       "text": [
        " 753\n",
        "Iter "
       ]
      },
      {
       "output_type": "stream",
       "stream": "stdout",
       "text": [
        " 754\n",
        "Iter "
       ]
      },
      {
       "output_type": "stream",
       "stream": "stdout",
       "text": [
        " 755\n",
        "Iter "
       ]
      },
      {
       "output_type": "stream",
       "stream": "stdout",
       "text": [
        " 756\n",
        "Iter "
       ]
      },
      {
       "output_type": "stream",
       "stream": "stdout",
       "text": [
        " 757\n",
        "Iter "
       ]
      },
      {
       "output_type": "stream",
       "stream": "stdout",
       "text": [
        " 758\n",
        "Iter "
       ]
      },
      {
       "output_type": "stream",
       "stream": "stdout",
       "text": [
        " 759\n",
        "Iter "
       ]
      },
      {
       "output_type": "stream",
       "stream": "stdout",
       "text": [
        " 760\n",
        "Iter "
       ]
      },
      {
       "output_type": "stream",
       "stream": "stdout",
       "text": [
        " 761\n",
        "Iter "
       ]
      },
      {
       "output_type": "stream",
       "stream": "stdout",
       "text": [
        " 762\n",
        "Iter "
       ]
      },
      {
       "output_type": "stream",
       "stream": "stdout",
       "text": [
        " 763\n",
        "Iter "
       ]
      },
      {
       "output_type": "stream",
       "stream": "stdout",
       "text": [
        " 764\n",
        "Iter "
       ]
      },
      {
       "output_type": "stream",
       "stream": "stdout",
       "text": [
        " 765\n",
        "Iter "
       ]
      },
      {
       "output_type": "stream",
       "stream": "stdout",
       "text": [
        " 766\n",
        "Iter "
       ]
      },
      {
       "output_type": "stream",
       "stream": "stdout",
       "text": [
        " 767\n",
        "Iter "
       ]
      },
      {
       "output_type": "stream",
       "stream": "stdout",
       "text": [
        " 768\n",
        "Iter "
       ]
      },
      {
       "output_type": "stream",
       "stream": "stdout",
       "text": [
        " 769\n",
        "Iter "
       ]
      },
      {
       "output_type": "stream",
       "stream": "stdout",
       "text": [
        " 770\n",
        "Iter "
       ]
      },
      {
       "output_type": "stream",
       "stream": "stdout",
       "text": [
        " 771\n",
        "Iter "
       ]
      },
      {
       "output_type": "stream",
       "stream": "stdout",
       "text": [
        " 772\n",
        "Iter "
       ]
      },
      {
       "output_type": "stream",
       "stream": "stdout",
       "text": [
        " 773\n",
        "Iter "
       ]
      },
      {
       "output_type": "stream",
       "stream": "stdout",
       "text": [
        " 774\n",
        "Iter "
       ]
      },
      {
       "output_type": "stream",
       "stream": "stdout",
       "text": [
        " 775\n",
        "Iter "
       ]
      },
      {
       "output_type": "stream",
       "stream": "stdout",
       "text": [
        " 776\n",
        "Iter "
       ]
      },
      {
       "output_type": "stream",
       "stream": "stdout",
       "text": [
        " 777\n",
        "Iter "
       ]
      },
      {
       "output_type": "stream",
       "stream": "stdout",
       "text": [
        " 778\n",
        "Iter "
       ]
      },
      {
       "output_type": "stream",
       "stream": "stdout",
       "text": [
        " 779\n",
        "Iter "
       ]
      },
      {
       "output_type": "stream",
       "stream": "stdout",
       "text": [
        " 780\n",
        "Iter "
       ]
      },
      {
       "output_type": "stream",
       "stream": "stdout",
       "text": [
        " 781\n",
        "Iter "
       ]
      },
      {
       "output_type": "stream",
       "stream": "stdout",
       "text": [
        " 782\n",
        "Iter "
       ]
      },
      {
       "output_type": "stream",
       "stream": "stdout",
       "text": [
        " 783\n",
        "Iter "
       ]
      },
      {
       "output_type": "stream",
       "stream": "stdout",
       "text": [
        " 784\n",
        "Iter "
       ]
      },
      {
       "output_type": "stream",
       "stream": "stdout",
       "text": [
        " 785\n",
        "Iter "
       ]
      },
      {
       "output_type": "stream",
       "stream": "stdout",
       "text": [
        " 786\n",
        "Iter "
       ]
      },
      {
       "output_type": "stream",
       "stream": "stdout",
       "text": [
        " 787\n",
        "Iter "
       ]
      },
      {
       "output_type": "stream",
       "stream": "stdout",
       "text": [
        " 788\n",
        "Iter "
       ]
      },
      {
       "output_type": "stream",
       "stream": "stdout",
       "text": [
        " 789\n",
        "Iter "
       ]
      },
      {
       "output_type": "stream",
       "stream": "stdout",
       "text": [
        " 790\n",
        "Iter "
       ]
      },
      {
       "output_type": "stream",
       "stream": "stdout",
       "text": [
        " 791\n",
        "Iter "
       ]
      },
      {
       "output_type": "stream",
       "stream": "stdout",
       "text": [
        " 792\n",
        "Iter "
       ]
      },
      {
       "output_type": "stream",
       "stream": "stdout",
       "text": [
        " 793\n",
        "Iter "
       ]
      },
      {
       "output_type": "stream",
       "stream": "stdout",
       "text": [
        " 794\n",
        "Iter "
       ]
      },
      {
       "output_type": "stream",
       "stream": "stdout",
       "text": [
        " 795\n",
        "Iter "
       ]
      },
      {
       "output_type": "stream",
       "stream": "stdout",
       "text": [
        " 796\n",
        "Iter "
       ]
      },
      {
       "output_type": "stream",
       "stream": "stdout",
       "text": [
        " 797\n",
        "Iter "
       ]
      },
      {
       "output_type": "stream",
       "stream": "stdout",
       "text": [
        " 798\n",
        "Iter "
       ]
      },
      {
       "output_type": "stream",
       "stream": "stdout",
       "text": [
        " 799\n",
        "Iter "
       ]
      },
      {
       "output_type": "stream",
       "stream": "stdout",
       "text": [
        " 800\n",
        "Iter "
       ]
      },
      {
       "output_type": "stream",
       "stream": "stdout",
       "text": [
        " 801\n",
        "Iter "
       ]
      },
      {
       "output_type": "stream",
       "stream": "stdout",
       "text": [
        " 802\n",
        "Iter "
       ]
      },
      {
       "output_type": "stream",
       "stream": "stdout",
       "text": [
        " 803\n",
        "Iter "
       ]
      },
      {
       "output_type": "stream",
       "stream": "stdout",
       "text": [
        " 804\n",
        "Iter "
       ]
      },
      {
       "output_type": "stream",
       "stream": "stdout",
       "text": [
        " 805\n",
        "Iter "
       ]
      },
      {
       "output_type": "stream",
       "stream": "stdout",
       "text": [
        " 806\n",
        "Iter "
       ]
      },
      {
       "output_type": "stream",
       "stream": "stdout",
       "text": [
        " 807\n",
        "Iter "
       ]
      },
      {
       "output_type": "stream",
       "stream": "stdout",
       "text": [
        " 808\n",
        "Iter "
       ]
      },
      {
       "output_type": "stream",
       "stream": "stdout",
       "text": [
        " 809\n",
        "Iter "
       ]
      },
      {
       "output_type": "stream",
       "stream": "stdout",
       "text": [
        " 810\n",
        "Iter "
       ]
      },
      {
       "output_type": "stream",
       "stream": "stdout",
       "text": [
        " 811\n",
        "Iter "
       ]
      },
      {
       "output_type": "stream",
       "stream": "stdout",
       "text": [
        " 812\n",
        "Iter "
       ]
      },
      {
       "output_type": "stream",
       "stream": "stdout",
       "text": [
        " 813\n",
        "Iter "
       ]
      },
      {
       "output_type": "stream",
       "stream": "stdout",
       "text": [
        " 814\n",
        "Iter "
       ]
      },
      {
       "output_type": "stream",
       "stream": "stdout",
       "text": [
        " 815\n",
        "Iter "
       ]
      },
      {
       "output_type": "stream",
       "stream": "stdout",
       "text": [
        " 816\n",
        "Iter "
       ]
      },
      {
       "output_type": "stream",
       "stream": "stdout",
       "text": [
        " 817\n",
        "Iter "
       ]
      },
      {
       "output_type": "stream",
       "stream": "stdout",
       "text": [
        " 818\n",
        "Iter "
       ]
      },
      {
       "output_type": "stream",
       "stream": "stdout",
       "text": [
        " 819\n",
        "Iter "
       ]
      },
      {
       "output_type": "stream",
       "stream": "stdout",
       "text": [
        " 820\n",
        "Iter "
       ]
      },
      {
       "output_type": "stream",
       "stream": "stdout",
       "text": [
        " 821\n",
        "Iter "
       ]
      },
      {
       "output_type": "stream",
       "stream": "stdout",
       "text": [
        " 822\n",
        "Iter "
       ]
      },
      {
       "output_type": "stream",
       "stream": "stdout",
       "text": [
        " 823\n",
        "Iter "
       ]
      },
      {
       "output_type": "stream",
       "stream": "stdout",
       "text": [
        " 824\n",
        "Iter "
       ]
      },
      {
       "output_type": "stream",
       "stream": "stdout",
       "text": [
        " 825\n",
        "Iter "
       ]
      },
      {
       "output_type": "stream",
       "stream": "stdout",
       "text": [
        " 826\n",
        "Iter "
       ]
      },
      {
       "output_type": "stream",
       "stream": "stdout",
       "text": [
        " 827\n",
        "Iter "
       ]
      },
      {
       "output_type": "stream",
       "stream": "stdout",
       "text": [
        " 828\n",
        "Iter "
       ]
      },
      {
       "output_type": "stream",
       "stream": "stdout",
       "text": [
        " 829\n",
        "Iter "
       ]
      },
      {
       "output_type": "stream",
       "stream": "stdout",
       "text": [
        " 830\n",
        "Iter "
       ]
      },
      {
       "output_type": "stream",
       "stream": "stdout",
       "text": [
        " 831\n",
        "Iter "
       ]
      },
      {
       "output_type": "stream",
       "stream": "stdout",
       "text": [
        " 832\n",
        "Iter "
       ]
      },
      {
       "output_type": "stream",
       "stream": "stdout",
       "text": [
        " 833\n",
        "Iter "
       ]
      },
      {
       "output_type": "stream",
       "stream": "stdout",
       "text": [
        " 834\n",
        "Iter "
       ]
      },
      {
       "output_type": "stream",
       "stream": "stdout",
       "text": [
        " 835\n",
        "Iter "
       ]
      },
      {
       "output_type": "stream",
       "stream": "stdout",
       "text": [
        " 836\n",
        "Iter "
       ]
      },
      {
       "output_type": "stream",
       "stream": "stdout",
       "text": [
        " 837\n",
        "Iter "
       ]
      },
      {
       "output_type": "stream",
       "stream": "stdout",
       "text": [
        " 838\n",
        "Iter "
       ]
      },
      {
       "output_type": "stream",
       "stream": "stdout",
       "text": [
        " 839\n",
        "Iter "
       ]
      },
      {
       "output_type": "stream",
       "stream": "stdout",
       "text": [
        " 840\n",
        "Iter "
       ]
      },
      {
       "output_type": "stream",
       "stream": "stdout",
       "text": [
        " 841\n",
        "Iter "
       ]
      },
      {
       "output_type": "stream",
       "stream": "stdout",
       "text": [
        " 842\n",
        "Iter "
       ]
      },
      {
       "output_type": "stream",
       "stream": "stdout",
       "text": [
        " 843\n",
        "Iter "
       ]
      },
      {
       "output_type": "stream",
       "stream": "stdout",
       "text": [
        " 844\n",
        "Iter "
       ]
      },
      {
       "output_type": "stream",
       "stream": "stdout",
       "text": [
        " 845\n",
        "Iter "
       ]
      },
      {
       "output_type": "stream",
       "stream": "stdout",
       "text": [
        " 846\n",
        "Iter "
       ]
      },
      {
       "output_type": "stream",
       "stream": "stdout",
       "text": [
        " 847\n",
        "Iter "
       ]
      },
      {
       "output_type": "stream",
       "stream": "stdout",
       "text": [
        " 848\n",
        "Iter "
       ]
      },
      {
       "output_type": "stream",
       "stream": "stdout",
       "text": [
        " 849\n",
        "Iter "
       ]
      },
      {
       "output_type": "stream",
       "stream": "stdout",
       "text": [
        " 850\n",
        "Iter "
       ]
      },
      {
       "output_type": "stream",
       "stream": "stdout",
       "text": [
        " 851\n",
        "Iter "
       ]
      },
      {
       "output_type": "stream",
       "stream": "stdout",
       "text": [
        " 852\n",
        "Iter "
       ]
      },
      {
       "output_type": "stream",
       "stream": "stdout",
       "text": [
        " 853\n",
        "Iter "
       ]
      },
      {
       "output_type": "stream",
       "stream": "stdout",
       "text": [
        " 854\n",
        "Iter "
       ]
      },
      {
       "output_type": "stream",
       "stream": "stdout",
       "text": [
        " 855\n",
        "Iter "
       ]
      },
      {
       "output_type": "stream",
       "stream": "stdout",
       "text": [
        " 856\n",
        "Iter "
       ]
      },
      {
       "output_type": "stream",
       "stream": "stdout",
       "text": [
        " 857\n",
        "Iter "
       ]
      },
      {
       "output_type": "stream",
       "stream": "stdout",
       "text": [
        " 858\n",
        "Iter "
       ]
      },
      {
       "output_type": "stream",
       "stream": "stdout",
       "text": [
        " 859\n",
        "Iter "
       ]
      },
      {
       "output_type": "stream",
       "stream": "stdout",
       "text": [
        " 860\n",
        "Iter "
       ]
      },
      {
       "output_type": "stream",
       "stream": "stdout",
       "text": [
        " 861\n",
        "Iter "
       ]
      },
      {
       "output_type": "stream",
       "stream": "stdout",
       "text": [
        " 862\n",
        "Iter "
       ]
      },
      {
       "output_type": "stream",
       "stream": "stdout",
       "text": [
        " 863\n",
        "Iter "
       ]
      },
      {
       "output_type": "stream",
       "stream": "stdout",
       "text": [
        " 864\n",
        "Iter "
       ]
      },
      {
       "output_type": "stream",
       "stream": "stdout",
       "text": [
        " 865\n",
        "Iter "
       ]
      },
      {
       "output_type": "stream",
       "stream": "stdout",
       "text": [
        " 866\n",
        "Iter "
       ]
      },
      {
       "output_type": "stream",
       "stream": "stdout",
       "text": [
        " 867\n",
        "Iter "
       ]
      },
      {
       "output_type": "stream",
       "stream": "stdout",
       "text": [
        " 868\n",
        "Iter "
       ]
      },
      {
       "output_type": "stream",
       "stream": "stdout",
       "text": [
        " 869\n",
        "Iter "
       ]
      },
      {
       "output_type": "stream",
       "stream": "stdout",
       "text": [
        " 870\n",
        "Iter "
       ]
      },
      {
       "output_type": "stream",
       "stream": "stdout",
       "text": [
        " 871\n",
        "Iter "
       ]
      },
      {
       "output_type": "stream",
       "stream": "stdout",
       "text": [
        " 872\n",
        "Iter "
       ]
      },
      {
       "output_type": "stream",
       "stream": "stdout",
       "text": [
        " 873\n",
        "Iter "
       ]
      },
      {
       "output_type": "stream",
       "stream": "stdout",
       "text": [
        " 874\n",
        "Iter "
       ]
      },
      {
       "output_type": "stream",
       "stream": "stdout",
       "text": [
        " 875\n",
        "Iter "
       ]
      },
      {
       "output_type": "stream",
       "stream": "stdout",
       "text": [
        " 876\n",
        "Iter "
       ]
      },
      {
       "output_type": "stream",
       "stream": "stdout",
       "text": [
        " 877\n",
        "Iter "
       ]
      },
      {
       "output_type": "stream",
       "stream": "stdout",
       "text": [
        " 878\n",
        "Iter "
       ]
      },
      {
       "output_type": "stream",
       "stream": "stdout",
       "text": [
        " 879\n",
        "Iter "
       ]
      },
      {
       "output_type": "stream",
       "stream": "stdout",
       "text": [
        " 880\n",
        "Iter "
       ]
      },
      {
       "output_type": "stream",
       "stream": "stdout",
       "text": [
        " 881\n",
        "Iter "
       ]
      },
      {
       "output_type": "stream",
       "stream": "stdout",
       "text": [
        " 882\n",
        "Iter "
       ]
      },
      {
       "output_type": "stream",
       "stream": "stdout",
       "text": [
        " 883\n",
        "Iter "
       ]
      },
      {
       "output_type": "stream",
       "stream": "stdout",
       "text": [
        " 884\n",
        "Iter "
       ]
      },
      {
       "output_type": "stream",
       "stream": "stdout",
       "text": [
        " 885\n",
        "Iter "
       ]
      },
      {
       "output_type": "stream",
       "stream": "stdout",
       "text": [
        " 886\n",
        "Iter "
       ]
      },
      {
       "output_type": "stream",
       "stream": "stdout",
       "text": [
        " 887\n",
        "Iter "
       ]
      },
      {
       "output_type": "stream",
       "stream": "stdout",
       "text": [
        " 888\n",
        "Iter "
       ]
      },
      {
       "output_type": "stream",
       "stream": "stdout",
       "text": [
        " 889\n",
        "Iter "
       ]
      },
      {
       "output_type": "stream",
       "stream": "stdout",
       "text": [
        " 890\n",
        "Iter "
       ]
      },
      {
       "output_type": "stream",
       "stream": "stdout",
       "text": [
        " 891\n",
        "Iter "
       ]
      },
      {
       "output_type": "stream",
       "stream": "stdout",
       "text": [
        " 892\n",
        "Iter "
       ]
      },
      {
       "output_type": "stream",
       "stream": "stdout",
       "text": [
        " 893\n",
        "Iter "
       ]
      },
      {
       "output_type": "stream",
       "stream": "stdout",
       "text": [
        " 894\n",
        "Iter "
       ]
      },
      {
       "output_type": "stream",
       "stream": "stdout",
       "text": [
        " 895\n",
        "Iter "
       ]
      },
      {
       "output_type": "stream",
       "stream": "stdout",
       "text": [
        " 896\n",
        "Iter "
       ]
      },
      {
       "output_type": "stream",
       "stream": "stdout",
       "text": [
        " 897\n",
        "Iter "
       ]
      },
      {
       "output_type": "stream",
       "stream": "stdout",
       "text": [
        " 898\n",
        "Iter "
       ]
      },
      {
       "output_type": "stream",
       "stream": "stdout",
       "text": [
        " 899\n",
        "Iter "
       ]
      },
      {
       "output_type": "stream",
       "stream": "stdout",
       "text": [
        " 900\n",
        "Iter "
       ]
      },
      {
       "output_type": "stream",
       "stream": "stdout",
       "text": [
        " 901\n",
        "Iter "
       ]
      },
      {
       "output_type": "stream",
       "stream": "stdout",
       "text": [
        " 902\n",
        "Iter "
       ]
      },
      {
       "output_type": "stream",
       "stream": "stdout",
       "text": [
        " 903\n",
        "Iter "
       ]
      },
      {
       "output_type": "stream",
       "stream": "stdout",
       "text": [
        " 904\n",
        "Iter "
       ]
      },
      {
       "output_type": "stream",
       "stream": "stdout",
       "text": [
        " 905\n",
        "Iter "
       ]
      },
      {
       "output_type": "stream",
       "stream": "stdout",
       "text": [
        " 906\n",
        "Iter "
       ]
      },
      {
       "output_type": "stream",
       "stream": "stdout",
       "text": [
        " 907\n",
        "Iter "
       ]
      },
      {
       "output_type": "stream",
       "stream": "stdout",
       "text": [
        " 908\n",
        "Iter "
       ]
      },
      {
       "output_type": "stream",
       "stream": "stdout",
       "text": [
        " 909\n",
        "Iter "
       ]
      },
      {
       "output_type": "stream",
       "stream": "stdout",
       "text": [
        " 910\n",
        "Iter "
       ]
      },
      {
       "output_type": "stream",
       "stream": "stdout",
       "text": [
        " 911\n",
        "Iter "
       ]
      },
      {
       "output_type": "stream",
       "stream": "stdout",
       "text": [
        " 912\n",
        "Iter "
       ]
      },
      {
       "output_type": "stream",
       "stream": "stdout",
       "text": [
        " 913\n",
        "Iter "
       ]
      },
      {
       "output_type": "stream",
       "stream": "stdout",
       "text": [
        " 914\n",
        "Iter "
       ]
      },
      {
       "output_type": "stream",
       "stream": "stdout",
       "text": [
        " 915\n",
        "Iter "
       ]
      },
      {
       "output_type": "stream",
       "stream": "stdout",
       "text": [
        " 916\n",
        "Iter "
       ]
      },
      {
       "output_type": "stream",
       "stream": "stdout",
       "text": [
        " 917\n",
        "Iter "
       ]
      },
      {
       "output_type": "stream",
       "stream": "stdout",
       "text": [
        " 918\n",
        "Iter "
       ]
      },
      {
       "output_type": "stream",
       "stream": "stdout",
       "text": [
        " 919\n",
        "Iter "
       ]
      },
      {
       "output_type": "stream",
       "stream": "stdout",
       "text": [
        " 920\n",
        "Iter "
       ]
      },
      {
       "output_type": "stream",
       "stream": "stdout",
       "text": [
        " 921\n",
        "Iter "
       ]
      },
      {
       "output_type": "stream",
       "stream": "stdout",
       "text": [
        " 922\n",
        "Iter "
       ]
      },
      {
       "output_type": "stream",
       "stream": "stdout",
       "text": [
        " 923\n",
        "Iter "
       ]
      },
      {
       "output_type": "stream",
       "stream": "stdout",
       "text": [
        " 924\n",
        "Iter "
       ]
      },
      {
       "output_type": "stream",
       "stream": "stdout",
       "text": [
        " 925\n",
        "Iter "
       ]
      },
      {
       "output_type": "stream",
       "stream": "stdout",
       "text": [
        " 926\n",
        "Iter "
       ]
      },
      {
       "output_type": "stream",
       "stream": "stdout",
       "text": [
        " 927\n",
        "Iter "
       ]
      },
      {
       "output_type": "stream",
       "stream": "stdout",
       "text": [
        " 928\n",
        "Iter "
       ]
      },
      {
       "output_type": "stream",
       "stream": "stdout",
       "text": [
        " 929\n",
        "Iter "
       ]
      },
      {
       "output_type": "stream",
       "stream": "stdout",
       "text": [
        " 930\n",
        "Iter "
       ]
      },
      {
       "output_type": "stream",
       "stream": "stdout",
       "text": [
        " 931\n",
        "Iter "
       ]
      },
      {
       "output_type": "stream",
       "stream": "stdout",
       "text": [
        " 932\n",
        "Iter "
       ]
      },
      {
       "output_type": "stream",
       "stream": "stdout",
       "text": [
        " 933\n",
        "Iter "
       ]
      },
      {
       "output_type": "stream",
       "stream": "stdout",
       "text": [
        " 934\n",
        "Iter "
       ]
      },
      {
       "output_type": "stream",
       "stream": "stdout",
       "text": [
        " 935\n",
        "Iter "
       ]
      },
      {
       "output_type": "stream",
       "stream": "stdout",
       "text": [
        " 936\n",
        "Iter "
       ]
      },
      {
       "output_type": "stream",
       "stream": "stdout",
       "text": [
        " 937\n",
        "Iter "
       ]
      },
      {
       "output_type": "stream",
       "stream": "stdout",
       "text": [
        " 938\n",
        "Iter "
       ]
      },
      {
       "output_type": "stream",
       "stream": "stdout",
       "text": [
        " 939\n",
        "Iter "
       ]
      },
      {
       "output_type": "stream",
       "stream": "stdout",
       "text": [
        " 940\n",
        "Iter "
       ]
      },
      {
       "output_type": "stream",
       "stream": "stdout",
       "text": [
        " 941\n",
        "Iter "
       ]
      },
      {
       "output_type": "stream",
       "stream": "stdout",
       "text": [
        " 942\n",
        "Iter "
       ]
      },
      {
       "output_type": "stream",
       "stream": "stdout",
       "text": [
        " 943\n",
        "Iter "
       ]
      },
      {
       "output_type": "stream",
       "stream": "stdout",
       "text": [
        " 944\n",
        "Iter "
       ]
      },
      {
       "output_type": "stream",
       "stream": "stdout",
       "text": [
        " 945\n",
        "Iter "
       ]
      },
      {
       "output_type": "stream",
       "stream": "stdout",
       "text": [
        " 946\n",
        "Iter "
       ]
      },
      {
       "output_type": "stream",
       "stream": "stdout",
       "text": [
        " 947\n",
        "Iter "
       ]
      },
      {
       "output_type": "stream",
       "stream": "stdout",
       "text": [
        " 948\n",
        "Iter "
       ]
      },
      {
       "output_type": "stream",
       "stream": "stdout",
       "text": [
        " 949\n",
        "Iter "
       ]
      },
      {
       "output_type": "stream",
       "stream": "stdout",
       "text": [
        " 950\n",
        "Iter "
       ]
      },
      {
       "output_type": "stream",
       "stream": "stdout",
       "text": [
        " 951\n",
        "Iter "
       ]
      },
      {
       "output_type": "stream",
       "stream": "stdout",
       "text": [
        " 952\n",
        "Iter "
       ]
      },
      {
       "output_type": "stream",
       "stream": "stdout",
       "text": [
        " 953\n",
        "Iter "
       ]
      },
      {
       "output_type": "stream",
       "stream": "stdout",
       "text": [
        " 954\n",
        "Iter "
       ]
      },
      {
       "output_type": "stream",
       "stream": "stdout",
       "text": [
        " 955\n",
        "Iter "
       ]
      },
      {
       "output_type": "stream",
       "stream": "stdout",
       "text": [
        " 956\n",
        "Iter "
       ]
      },
      {
       "output_type": "stream",
       "stream": "stdout",
       "text": [
        " 957\n",
        "Iter "
       ]
      },
      {
       "output_type": "stream",
       "stream": "stdout",
       "text": [
        " 958\n",
        "Iter "
       ]
      },
      {
       "output_type": "stream",
       "stream": "stdout",
       "text": [
        " 959\n",
        "Iter "
       ]
      },
      {
       "output_type": "stream",
       "stream": "stdout",
       "text": [
        " 960\n",
        "Iter "
       ]
      },
      {
       "output_type": "stream",
       "stream": "stdout",
       "text": [
        " 961\n",
        "Iter "
       ]
      },
      {
       "output_type": "stream",
       "stream": "stdout",
       "text": [
        " 962\n",
        "Iter "
       ]
      },
      {
       "output_type": "stream",
       "stream": "stdout",
       "text": [
        " 963\n",
        "Iter "
       ]
      },
      {
       "output_type": "stream",
       "stream": "stdout",
       "text": [
        " 964\n",
        "Iter "
       ]
      },
      {
       "output_type": "stream",
       "stream": "stdout",
       "text": [
        " 965\n",
        "Iter "
       ]
      },
      {
       "output_type": "stream",
       "stream": "stdout",
       "text": [
        " 966\n",
        "Iter "
       ]
      },
      {
       "output_type": "stream",
       "stream": "stdout",
       "text": [
        " 967\n",
        "Iter "
       ]
      },
      {
       "output_type": "stream",
       "stream": "stdout",
       "text": [
        " 968\n",
        "Iter "
       ]
      },
      {
       "output_type": "stream",
       "stream": "stdout",
       "text": [
        " 969\n",
        "Iter "
       ]
      },
      {
       "output_type": "stream",
       "stream": "stdout",
       "text": [
        " 970\n",
        "Iter "
       ]
      },
      {
       "output_type": "stream",
       "stream": "stdout",
       "text": [
        " 971\n",
        "Iter "
       ]
      },
      {
       "output_type": "stream",
       "stream": "stdout",
       "text": [
        " 972\n",
        "Iter "
       ]
      },
      {
       "output_type": "stream",
       "stream": "stdout",
       "text": [
        " 973\n",
        "Iter "
       ]
      },
      {
       "output_type": "stream",
       "stream": "stdout",
       "text": [
        " 974\n",
        "Iter "
       ]
      },
      {
       "output_type": "stream",
       "stream": "stdout",
       "text": [
        " 975\n",
        "Iter "
       ]
      },
      {
       "output_type": "stream",
       "stream": "stdout",
       "text": [
        " 976\n",
        "Iter "
       ]
      },
      {
       "output_type": "stream",
       "stream": "stdout",
       "text": [
        " 977\n",
        "Iter "
       ]
      },
      {
       "output_type": "stream",
       "stream": "stdout",
       "text": [
        " 978\n",
        "Iter "
       ]
      },
      {
       "output_type": "stream",
       "stream": "stdout",
       "text": [
        " 979\n",
        "Iter "
       ]
      },
      {
       "output_type": "stream",
       "stream": "stdout",
       "text": [
        " 980\n",
        "Iter "
       ]
      },
      {
       "output_type": "stream",
       "stream": "stdout",
       "text": [
        " 981\n",
        "Iter "
       ]
      },
      {
       "output_type": "stream",
       "stream": "stdout",
       "text": [
        " 982\n",
        "Iter "
       ]
      },
      {
       "output_type": "stream",
       "stream": "stdout",
       "text": [
        " 983\n",
        "Iter "
       ]
      },
      {
       "output_type": "stream",
       "stream": "stdout",
       "text": [
        " 984\n",
        "Iter "
       ]
      },
      {
       "output_type": "stream",
       "stream": "stdout",
       "text": [
        " 985\n",
        "Iter "
       ]
      },
      {
       "output_type": "stream",
       "stream": "stdout",
       "text": [
        " 986\n",
        "Iter "
       ]
      },
      {
       "output_type": "stream",
       "stream": "stdout",
       "text": [
        " 987\n",
        "Iter "
       ]
      },
      {
       "output_type": "stream",
       "stream": "stdout",
       "text": [
        " 988\n",
        "Iter "
       ]
      },
      {
       "output_type": "stream",
       "stream": "stdout",
       "text": [
        " 989\n",
        "Iter "
       ]
      },
      {
       "output_type": "stream",
       "stream": "stdout",
       "text": [
        " 990\n",
        "Iter "
       ]
      },
      {
       "output_type": "stream",
       "stream": "stdout",
       "text": [
        " 991\n",
        "Iter "
       ]
      },
      {
       "output_type": "stream",
       "stream": "stdout",
       "text": [
        " 992\n",
        "Iter "
       ]
      },
      {
       "output_type": "stream",
       "stream": "stdout",
       "text": [
        " 993\n",
        "Iter "
       ]
      },
      {
       "output_type": "stream",
       "stream": "stdout",
       "text": [
        " 994\n",
        "Iter "
       ]
      },
      {
       "output_type": "stream",
       "stream": "stdout",
       "text": [
        " 995\n",
        "Iter "
       ]
      },
      {
       "output_type": "stream",
       "stream": "stdout",
       "text": [
        " 996\n",
        "Iter "
       ]
      },
      {
       "output_type": "stream",
       "stream": "stdout",
       "text": [
        " 997\n",
        "Iter "
       ]
      },
      {
       "output_type": "stream",
       "stream": "stdout",
       "text": [
        " 998\n",
        "Iter "
       ]
      },
      {
       "output_type": "stream",
       "stream": "stdout",
       "text": [
        " 999\n",
        "Iter "
       ]
      },
      {
       "output_type": "stream",
       "stream": "stdout",
       "text": [
        " 1000\n",
        "Iter "
       ]
      },
      {
       "output_type": "stream",
       "stream": "stdout",
       "text": [
        " 1001\n",
        "Iter "
       ]
      },
      {
       "output_type": "stream",
       "stream": "stdout",
       "text": [
        " 1002\n",
        "Iter "
       ]
      },
      {
       "output_type": "stream",
       "stream": "stdout",
       "text": [
        " 1003\n",
        "Iter "
       ]
      },
      {
       "output_type": "stream",
       "stream": "stdout",
       "text": [
        " 1004\n",
        "Iter "
       ]
      },
      {
       "output_type": "stream",
       "stream": "stdout",
       "text": [
        " 1005\n",
        "Iter "
       ]
      },
      {
       "output_type": "stream",
       "stream": "stdout",
       "text": [
        " 1006\n",
        "Iter "
       ]
      },
      {
       "output_type": "stream",
       "stream": "stdout",
       "text": [
        " 1007\n",
        "Iter "
       ]
      },
      {
       "output_type": "stream",
       "stream": "stdout",
       "text": [
        " 1008\n",
        "Iter "
       ]
      },
      {
       "output_type": "stream",
       "stream": "stdout",
       "text": [
        " 1009\n",
        "Iter "
       ]
      },
      {
       "output_type": "stream",
       "stream": "stdout",
       "text": [
        " 1010\n",
        "Iter "
       ]
      },
      {
       "output_type": "stream",
       "stream": "stdout",
       "text": [
        " 1011\n",
        "Iter "
       ]
      },
      {
       "output_type": "stream",
       "stream": "stdout",
       "text": [
        " 1012\n",
        "Iter "
       ]
      },
      {
       "output_type": "stream",
       "stream": "stdout",
       "text": [
        " 1013\n",
        "Iter "
       ]
      },
      {
       "output_type": "stream",
       "stream": "stdout",
       "text": [
        " 1014\n",
        "Iter "
       ]
      },
      {
       "output_type": "stream",
       "stream": "stdout",
       "text": [
        " 1015\n",
        "Iter "
       ]
      },
      {
       "output_type": "stream",
       "stream": "stdout",
       "text": [
        " 1016\n",
        "Iter "
       ]
      },
      {
       "output_type": "stream",
       "stream": "stdout",
       "text": [
        " 1017\n",
        "Iter "
       ]
      },
      {
       "output_type": "stream",
       "stream": "stdout",
       "text": [
        " 1018\n",
        "Iter "
       ]
      },
      {
       "output_type": "stream",
       "stream": "stdout",
       "text": [
        " 1019\n",
        "Iter "
       ]
      },
      {
       "output_type": "stream",
       "stream": "stdout",
       "text": [
        " 1020\n",
        "Iter "
       ]
      },
      {
       "output_type": "stream",
       "stream": "stdout",
       "text": [
        " 1021\n",
        "Iter "
       ]
      },
      {
       "output_type": "stream",
       "stream": "stdout",
       "text": [
        " 1022\n",
        "Iter "
       ]
      },
      {
       "output_type": "stream",
       "stream": "stdout",
       "text": [
        " 1023\n",
        "Iter "
       ]
      },
      {
       "output_type": "stream",
       "stream": "stdout",
       "text": [
        " 1024\n",
        "Iter "
       ]
      },
      {
       "output_type": "stream",
       "stream": "stdout",
       "text": [
        " 1025\n",
        "Iter "
       ]
      },
      {
       "output_type": "stream",
       "stream": "stdout",
       "text": [
        " 1026\n",
        "Iter "
       ]
      },
      {
       "output_type": "stream",
       "stream": "stdout",
       "text": [
        " 1027\n",
        "Iter "
       ]
      },
      {
       "output_type": "stream",
       "stream": "stdout",
       "text": [
        " 1028\n",
        "Iter "
       ]
      },
      {
       "output_type": "stream",
       "stream": "stdout",
       "text": [
        " 1029\n",
        "Iter "
       ]
      },
      {
       "output_type": "stream",
       "stream": "stdout",
       "text": [
        " 1030\n",
        "Iter "
       ]
      },
      {
       "output_type": "stream",
       "stream": "stdout",
       "text": [
        " 1031\n",
        "Iter "
       ]
      },
      {
       "output_type": "stream",
       "stream": "stdout",
       "text": [
        " 1032\n",
        "Iter "
       ]
      },
      {
       "output_type": "stream",
       "stream": "stdout",
       "text": [
        " 1033\n",
        "Iter "
       ]
      },
      {
       "output_type": "stream",
       "stream": "stdout",
       "text": [
        " 1034\n",
        "Iter "
       ]
      },
      {
       "output_type": "stream",
       "stream": "stdout",
       "text": [
        " 1035\n",
        "Iter "
       ]
      },
      {
       "output_type": "stream",
       "stream": "stdout",
       "text": [
        " 1036\n",
        "Iter "
       ]
      },
      {
       "output_type": "stream",
       "stream": "stdout",
       "text": [
        " 1037\n",
        "Iter "
       ]
      },
      {
       "output_type": "stream",
       "stream": "stdout",
       "text": [
        " 1038\n",
        "Iter "
       ]
      },
      {
       "output_type": "stream",
       "stream": "stdout",
       "text": [
        " 1039\n",
        "Iter "
       ]
      },
      {
       "output_type": "stream",
       "stream": "stdout",
       "text": [
        " 1040\n",
        "Iter "
       ]
      },
      {
       "output_type": "stream",
       "stream": "stdout",
       "text": [
        " 1041\n",
        "Iter "
       ]
      },
      {
       "output_type": "stream",
       "stream": "stdout",
       "text": [
        " 1042\n",
        "Iter "
       ]
      },
      {
       "output_type": "stream",
       "stream": "stdout",
       "text": [
        " 1043\n",
        "Iter "
       ]
      },
      {
       "output_type": "stream",
       "stream": "stdout",
       "text": [
        " 1044\n",
        "Iter "
       ]
      },
      {
       "output_type": "stream",
       "stream": "stdout",
       "text": [
        " 1045\n",
        "Iter "
       ]
      },
      {
       "output_type": "stream",
       "stream": "stdout",
       "text": [
        " 1046\n",
        "Iter "
       ]
      },
      {
       "output_type": "stream",
       "stream": "stdout",
       "text": [
        " 1047\n",
        "Iter "
       ]
      },
      {
       "output_type": "stream",
       "stream": "stdout",
       "text": [
        " 1048\n",
        "Iter "
       ]
      },
      {
       "output_type": "stream",
       "stream": "stdout",
       "text": [
        " 1049\n",
        "Iter "
       ]
      },
      {
       "output_type": "stream",
       "stream": "stdout",
       "text": [
        " 1050\n",
        "Iter "
       ]
      },
      {
       "output_type": "stream",
       "stream": "stdout",
       "text": [
        " 1051\n",
        "Iter "
       ]
      },
      {
       "output_type": "stream",
       "stream": "stdout",
       "text": [
        " 1052\n",
        "Iter "
       ]
      },
      {
       "output_type": "stream",
       "stream": "stdout",
       "text": [
        " 1053\n",
        "Iter "
       ]
      },
      {
       "output_type": "stream",
       "stream": "stdout",
       "text": [
        " 1054\n",
        "Iter "
       ]
      },
      {
       "output_type": "stream",
       "stream": "stdout",
       "text": [
        " 1055\n",
        "Iter "
       ]
      },
      {
       "output_type": "stream",
       "stream": "stdout",
       "text": [
        " 1056\n",
        "Iter "
       ]
      },
      {
       "output_type": "stream",
       "stream": "stdout",
       "text": [
        " 1057\n",
        "Iter "
       ]
      },
      {
       "output_type": "stream",
       "stream": "stdout",
       "text": [
        " 1058\n",
        "Iter "
       ]
      },
      {
       "output_type": "stream",
       "stream": "stdout",
       "text": [
        " 1059\n",
        "Iter "
       ]
      },
      {
       "output_type": "stream",
       "stream": "stdout",
       "text": [
        " 1060\n",
        "Iter "
       ]
      },
      {
       "output_type": "stream",
       "stream": "stdout",
       "text": [
        " 1061\n",
        "Iter "
       ]
      },
      {
       "output_type": "stream",
       "stream": "stdout",
       "text": [
        " 1062\n",
        "Iter "
       ]
      },
      {
       "output_type": "stream",
       "stream": "stdout",
       "text": [
        " 1063\n",
        "Iter "
       ]
      },
      {
       "output_type": "stream",
       "stream": "stdout",
       "text": [
        " 1064\n",
        "Iter "
       ]
      },
      {
       "output_type": "stream",
       "stream": "stdout",
       "text": [
        " 1065\n",
        "Iter "
       ]
      },
      {
       "output_type": "stream",
       "stream": "stdout",
       "text": [
        " 1066\n",
        "Iter "
       ]
      },
      {
       "output_type": "stream",
       "stream": "stdout",
       "text": [
        " 1067\n",
        "Iter "
       ]
      },
      {
       "output_type": "stream",
       "stream": "stdout",
       "text": [
        " 1068\n",
        "Iter "
       ]
      },
      {
       "output_type": "stream",
       "stream": "stdout",
       "text": [
        " 1069\n",
        "Iter "
       ]
      },
      {
       "output_type": "stream",
       "stream": "stdout",
       "text": [
        " 1070\n",
        "Iter "
       ]
      },
      {
       "output_type": "stream",
       "stream": "stdout",
       "text": [
        " 1071\n",
        "Iter "
       ]
      },
      {
       "output_type": "stream",
       "stream": "stdout",
       "text": [
        " 1072\n",
        "Iter "
       ]
      },
      {
       "output_type": "stream",
       "stream": "stdout",
       "text": [
        " 1073\n",
        "Iter "
       ]
      },
      {
       "output_type": "stream",
       "stream": "stdout",
       "text": [
        " 1074\n",
        "Iter "
       ]
      },
      {
       "output_type": "stream",
       "stream": "stdout",
       "text": [
        " 1075\n",
        "Iter "
       ]
      },
      {
       "output_type": "stream",
       "stream": "stdout",
       "text": [
        " 1076\n",
        "Iter "
       ]
      },
      {
       "output_type": "stream",
       "stream": "stdout",
       "text": [
        " 1077\n",
        "Iter "
       ]
      },
      {
       "output_type": "stream",
       "stream": "stdout",
       "text": [
        " 1078\n",
        "Iter "
       ]
      },
      {
       "output_type": "stream",
       "stream": "stdout",
       "text": [
        " 1079\n",
        "Iter "
       ]
      },
      {
       "output_type": "stream",
       "stream": "stdout",
       "text": [
        " 1080\n",
        "Iter "
       ]
      },
      {
       "output_type": "stream",
       "stream": "stdout",
       "text": [
        " 1081\n",
        "Iter "
       ]
      },
      {
       "output_type": "stream",
       "stream": "stdout",
       "text": [
        " 1082\n",
        "Iter "
       ]
      },
      {
       "output_type": "stream",
       "stream": "stdout",
       "text": [
        " 1083\n",
        "Iter "
       ]
      },
      {
       "output_type": "stream",
       "stream": "stdout",
       "text": [
        " 1084\n",
        "Iter "
       ]
      },
      {
       "output_type": "stream",
       "stream": "stdout",
       "text": [
        " 1085\n",
        "Iter "
       ]
      },
      {
       "output_type": "stream",
       "stream": "stdout",
       "text": [
        " 1086\n",
        "Iter "
       ]
      },
      {
       "output_type": "stream",
       "stream": "stdout",
       "text": [
        " 1087\n",
        "Iter "
       ]
      },
      {
       "output_type": "stream",
       "stream": "stdout",
       "text": [
        " 1088\n",
        "Iter "
       ]
      },
      {
       "output_type": "stream",
       "stream": "stdout",
       "text": [
        " 1089\n",
        "Iter "
       ]
      },
      {
       "output_type": "stream",
       "stream": "stdout",
       "text": [
        " 1090\n",
        "Iter "
       ]
      },
      {
       "output_type": "stream",
       "stream": "stdout",
       "text": [
        " 1091\n",
        "Iter "
       ]
      },
      {
       "output_type": "stream",
       "stream": "stdout",
       "text": [
        " 1092\n",
        "Iter "
       ]
      },
      {
       "output_type": "stream",
       "stream": "stdout",
       "text": [
        " 1093\n",
        "Iter "
       ]
      },
      {
       "output_type": "stream",
       "stream": "stdout",
       "text": [
        " 1094\n",
        "Iter "
       ]
      },
      {
       "output_type": "stream",
       "stream": "stdout",
       "text": [
        " 1095\n",
        "Iter "
       ]
      },
      {
       "output_type": "stream",
       "stream": "stdout",
       "text": [
        " 1096\n",
        "Iter "
       ]
      },
      {
       "output_type": "stream",
       "stream": "stdout",
       "text": [
        " 1097\n",
        "Iter "
       ]
      },
      {
       "output_type": "stream",
       "stream": "stdout",
       "text": [
        " 1098\n",
        "Iter "
       ]
      },
      {
       "output_type": "stream",
       "stream": "stdout",
       "text": [
        " 1099\n",
        "Iter "
       ]
      },
      {
       "output_type": "stream",
       "stream": "stdout",
       "text": [
        " 1100\n",
        "Iter "
       ]
      },
      {
       "output_type": "stream",
       "stream": "stdout",
       "text": [
        " 1101\n",
        "Iter "
       ]
      },
      {
       "output_type": "stream",
       "stream": "stdout",
       "text": [
        " 1102\n",
        "Iter "
       ]
      },
      {
       "output_type": "stream",
       "stream": "stdout",
       "text": [
        " 1103\n",
        "Iter "
       ]
      },
      {
       "output_type": "stream",
       "stream": "stdout",
       "text": [
        " 1104\n",
        "Iter "
       ]
      },
      {
       "output_type": "stream",
       "stream": "stdout",
       "text": [
        " 1105\n",
        "Iter "
       ]
      },
      {
       "output_type": "stream",
       "stream": "stdout",
       "text": [
        " 1106\n",
        "Iter "
       ]
      },
      {
       "output_type": "stream",
       "stream": "stdout",
       "text": [
        " 1107\n",
        "Iter "
       ]
      },
      {
       "output_type": "stream",
       "stream": "stdout",
       "text": [
        " 1108\n",
        "Iter "
       ]
      },
      {
       "output_type": "stream",
       "stream": "stdout",
       "text": [
        " 1109\n",
        "Iter "
       ]
      },
      {
       "output_type": "stream",
       "stream": "stdout",
       "text": [
        " 1110\n",
        "Iter "
       ]
      },
      {
       "output_type": "stream",
       "stream": "stdout",
       "text": [
        " 1111\n",
        "Iter "
       ]
      },
      {
       "output_type": "stream",
       "stream": "stdout",
       "text": [
        " 1112\n",
        "Iter "
       ]
      },
      {
       "output_type": "stream",
       "stream": "stdout",
       "text": [
        " 1113\n",
        "Iter "
       ]
      },
      {
       "output_type": "stream",
       "stream": "stdout",
       "text": [
        " 1114\n",
        "Iter "
       ]
      },
      {
       "output_type": "stream",
       "stream": "stdout",
       "text": [
        " 1115\n",
        "Iter "
       ]
      },
      {
       "output_type": "stream",
       "stream": "stdout",
       "text": [
        " 1116\n",
        "Iter "
       ]
      },
      {
       "output_type": "stream",
       "stream": "stdout",
       "text": [
        " 1117\n",
        "Iter "
       ]
      },
      {
       "output_type": "stream",
       "stream": "stdout",
       "text": [
        " 1118\n",
        "Iter "
       ]
      },
      {
       "output_type": "stream",
       "stream": "stdout",
       "text": [
        " 1119\n",
        "Iter "
       ]
      },
      {
       "output_type": "stream",
       "stream": "stdout",
       "text": [
        " 1120\n",
        "Iter "
       ]
      },
      {
       "output_type": "stream",
       "stream": "stdout",
       "text": [
        " 1121\n",
        "Iter "
       ]
      },
      {
       "output_type": "stream",
       "stream": "stdout",
       "text": [
        " 1122\n",
        "Iter "
       ]
      },
      {
       "output_type": "stream",
       "stream": "stdout",
       "text": [
        " 1123\n",
        "Iter "
       ]
      },
      {
       "output_type": "stream",
       "stream": "stdout",
       "text": [
        " 1124\n",
        "Iter "
       ]
      },
      {
       "output_type": "stream",
       "stream": "stdout",
       "text": [
        " 1125\n",
        "Iter "
       ]
      },
      {
       "output_type": "stream",
       "stream": "stdout",
       "text": [
        " 1126\n",
        "Iter "
       ]
      },
      {
       "output_type": "stream",
       "stream": "stdout",
       "text": [
        " 1127\n",
        "Iter "
       ]
      },
      {
       "output_type": "stream",
       "stream": "stdout",
       "text": [
        " 1128\n",
        "Iter "
       ]
      },
      {
       "output_type": "stream",
       "stream": "stdout",
       "text": [
        " 1129\n",
        "Iter "
       ]
      },
      {
       "output_type": "stream",
       "stream": "stdout",
       "text": [
        " 1130\n",
        "Iter "
       ]
      },
      {
       "output_type": "stream",
       "stream": "stdout",
       "text": [
        " 1131\n",
        "Iter "
       ]
      },
      {
       "output_type": "stream",
       "stream": "stdout",
       "text": [
        " 1132\n",
        "Iter "
       ]
      },
      {
       "output_type": "stream",
       "stream": "stdout",
       "text": [
        " 1133\n",
        "Iter "
       ]
      },
      {
       "output_type": "stream",
       "stream": "stdout",
       "text": [
        " 1134\n",
        "Iter "
       ]
      },
      {
       "output_type": "stream",
       "stream": "stdout",
       "text": [
        " 1135\n",
        "Iter "
       ]
      },
      {
       "output_type": "stream",
       "stream": "stdout",
       "text": [
        " 1136\n",
        "Iter "
       ]
      },
      {
       "output_type": "stream",
       "stream": "stdout",
       "text": [
        " 1137\n",
        "Iter "
       ]
      },
      {
       "output_type": "stream",
       "stream": "stdout",
       "text": [
        " 1138\n",
        "Iter "
       ]
      },
      {
       "output_type": "stream",
       "stream": "stdout",
       "text": [
        " 1139\n",
        "Iter "
       ]
      },
      {
       "output_type": "stream",
       "stream": "stdout",
       "text": [
        " 1140\n",
        "Iter "
       ]
      },
      {
       "output_type": "stream",
       "stream": "stdout",
       "text": [
        " 1141\n",
        "Iter "
       ]
      },
      {
       "output_type": "stream",
       "stream": "stdout",
       "text": [
        " 1142\n",
        "Iter "
       ]
      },
      {
       "output_type": "stream",
       "stream": "stdout",
       "text": [
        " 1143\n",
        "Iter "
       ]
      },
      {
       "output_type": "stream",
       "stream": "stdout",
       "text": [
        " 1144\n",
        "Iter "
       ]
      },
      {
       "output_type": "stream",
       "stream": "stdout",
       "text": [
        " 1145\n",
        "Iter "
       ]
      },
      {
       "output_type": "stream",
       "stream": "stdout",
       "text": [
        " 1146\n",
        "Iter "
       ]
      },
      {
       "output_type": "stream",
       "stream": "stdout",
       "text": [
        " 1147\n",
        "Iter "
       ]
      },
      {
       "output_type": "stream",
       "stream": "stdout",
       "text": [
        " 1148\n",
        "Iter "
       ]
      },
      {
       "output_type": "stream",
       "stream": "stdout",
       "text": [
        " 1149\n",
        "Iter "
       ]
      },
      {
       "output_type": "stream",
       "stream": "stdout",
       "text": [
        " 1150\n",
        "Iter "
       ]
      },
      {
       "output_type": "stream",
       "stream": "stdout",
       "text": [
        " 1151\n",
        "Iter "
       ]
      },
      {
       "output_type": "stream",
       "stream": "stdout",
       "text": [
        " 1152\n",
        "Iter "
       ]
      },
      {
       "output_type": "stream",
       "stream": "stdout",
       "text": [
        " 1153\n",
        "Iter "
       ]
      },
      {
       "output_type": "stream",
       "stream": "stdout",
       "text": [
        " 1154\n",
        "Iter "
       ]
      },
      {
       "output_type": "stream",
       "stream": "stdout",
       "text": [
        " 1155\n",
        "Iter "
       ]
      },
      {
       "output_type": "stream",
       "stream": "stdout",
       "text": [
        " 1156\n",
        "Iter "
       ]
      },
      {
       "output_type": "stream",
       "stream": "stdout",
       "text": [
        " 1157\n",
        "Iter "
       ]
      },
      {
       "output_type": "stream",
       "stream": "stdout",
       "text": [
        " 1158\n",
        "Iter "
       ]
      },
      {
       "output_type": "stream",
       "stream": "stdout",
       "text": [
        " 1159\n",
        "Iter "
       ]
      },
      {
       "output_type": "stream",
       "stream": "stdout",
       "text": [
        " 1160\n",
        "Iter "
       ]
      },
      {
       "output_type": "stream",
       "stream": "stdout",
       "text": [
        " 1161\n",
        "Iter "
       ]
      },
      {
       "output_type": "stream",
       "stream": "stdout",
       "text": [
        " 1162\n",
        "Iter "
       ]
      },
      {
       "output_type": "stream",
       "stream": "stdout",
       "text": [
        " 1163\n",
        "Iter "
       ]
      },
      {
       "output_type": "stream",
       "stream": "stdout",
       "text": [
        " 1164\n",
        "Iter "
       ]
      },
      {
       "output_type": "stream",
       "stream": "stdout",
       "text": [
        " 1165\n",
        "Iter "
       ]
      },
      {
       "output_type": "stream",
       "stream": "stdout",
       "text": [
        " 1166\n",
        "Iter "
       ]
      },
      {
       "output_type": "stream",
       "stream": "stdout",
       "text": [
        " 1167\n",
        "Iter "
       ]
      },
      {
       "output_type": "stream",
       "stream": "stdout",
       "text": [
        " 1168\n",
        "Iter "
       ]
      },
      {
       "output_type": "stream",
       "stream": "stdout",
       "text": [
        " 1169\n",
        "Iter "
       ]
      },
      {
       "output_type": "stream",
       "stream": "stdout",
       "text": [
        " 1170\n",
        "Iter "
       ]
      },
      {
       "output_type": "stream",
       "stream": "stdout",
       "text": [
        " 1171\n",
        "Iter "
       ]
      },
      {
       "output_type": "stream",
       "stream": "stdout",
       "text": [
        " 1172\n",
        "Iter "
       ]
      },
      {
       "output_type": "stream",
       "stream": "stdout",
       "text": [
        " 1173\n",
        "Iter "
       ]
      },
      {
       "output_type": "stream",
       "stream": "stdout",
       "text": [
        " 1174\n",
        "Iter "
       ]
      },
      {
       "output_type": "stream",
       "stream": "stdout",
       "text": [
        " 1175\n",
        "Iter "
       ]
      },
      {
       "output_type": "stream",
       "stream": "stdout",
       "text": [
        " 1176\n",
        "Iter "
       ]
      },
      {
       "output_type": "stream",
       "stream": "stdout",
       "text": [
        " 1177\n",
        "Iter "
       ]
      },
      {
       "output_type": "stream",
       "stream": "stdout",
       "text": [
        " 1178\n",
        "Iter "
       ]
      },
      {
       "output_type": "stream",
       "stream": "stdout",
       "text": [
        " 1179\n",
        "Iter "
       ]
      },
      {
       "output_type": "stream",
       "stream": "stdout",
       "text": [
        " 1180\n",
        "Iter "
       ]
      },
      {
       "output_type": "stream",
       "stream": "stdout",
       "text": [
        " 1181\n",
        "Iter "
       ]
      },
      {
       "output_type": "stream",
       "stream": "stdout",
       "text": [
        " 1182\n",
        "Iter "
       ]
      },
      {
       "output_type": "stream",
       "stream": "stdout",
       "text": [
        " 1183\n",
        "Iter "
       ]
      },
      {
       "output_type": "stream",
       "stream": "stdout",
       "text": [
        " 1184\n",
        "Iter "
       ]
      },
      {
       "output_type": "stream",
       "stream": "stdout",
       "text": [
        " 1185\n",
        "Iter "
       ]
      },
      {
       "output_type": "stream",
       "stream": "stdout",
       "text": [
        " 1186\n",
        "Iter "
       ]
      },
      {
       "output_type": "stream",
       "stream": "stdout",
       "text": [
        " 1187\n",
        "Iter "
       ]
      },
      {
       "output_type": "stream",
       "stream": "stdout",
       "text": [
        " 1188\n",
        "Iter "
       ]
      },
      {
       "output_type": "stream",
       "stream": "stdout",
       "text": [
        " 1189\n",
        "Iter "
       ]
      },
      {
       "output_type": "stream",
       "stream": "stdout",
       "text": [
        " 1190\n",
        "Iter "
       ]
      },
      {
       "output_type": "stream",
       "stream": "stdout",
       "text": [
        " 1191\n",
        "Iter "
       ]
      },
      {
       "output_type": "stream",
       "stream": "stdout",
       "text": [
        " 1192\n",
        "Iter "
       ]
      },
      {
       "output_type": "stream",
       "stream": "stdout",
       "text": [
        " 1193\n",
        "Iter "
       ]
      },
      {
       "output_type": "stream",
       "stream": "stdout",
       "text": [
        " 1194\n",
        "Iter "
       ]
      },
      {
       "output_type": "stream",
       "stream": "stdout",
       "text": [
        " 1195\n",
        "Iter "
       ]
      },
      {
       "output_type": "stream",
       "stream": "stdout",
       "text": [
        " 1196\n",
        "Iter "
       ]
      },
      {
       "output_type": "stream",
       "stream": "stdout",
       "text": [
        " 1197\n",
        "Iter "
       ]
      },
      {
       "output_type": "stream",
       "stream": "stdout",
       "text": [
        " 1198\n",
        "Iter "
       ]
      },
      {
       "output_type": "stream",
       "stream": "stdout",
       "text": [
        " 1199\n",
        "Iter "
       ]
      },
      {
       "output_type": "stream",
       "stream": "stdout",
       "text": [
        " 1200\n",
        "Iter "
       ]
      },
      {
       "output_type": "stream",
       "stream": "stdout",
       "text": [
        " 1201\n",
        "Iter "
       ]
      },
      {
       "output_type": "stream",
       "stream": "stdout",
       "text": [
        " 1202\n",
        "Iter "
       ]
      },
      {
       "output_type": "stream",
       "stream": "stdout",
       "text": [
        " 1203\n",
        "Iter "
       ]
      },
      {
       "output_type": "stream",
       "stream": "stdout",
       "text": [
        " 1204\n",
        "Iter "
       ]
      },
      {
       "output_type": "stream",
       "stream": "stdout",
       "text": [
        " 1205\n",
        "Iter "
       ]
      },
      {
       "output_type": "stream",
       "stream": "stdout",
       "text": [
        " 1206\n",
        "Iter "
       ]
      },
      {
       "output_type": "stream",
       "stream": "stdout",
       "text": [
        " 1207\n",
        "Iter "
       ]
      },
      {
       "output_type": "stream",
       "stream": "stdout",
       "text": [
        " 1208\n",
        "Iter "
       ]
      },
      {
       "output_type": "stream",
       "stream": "stdout",
       "text": [
        " 1209\n",
        "Iter "
       ]
      },
      {
       "output_type": "stream",
       "stream": "stdout",
       "text": [
        " 1210\n",
        "Iter "
       ]
      },
      {
       "output_type": "stream",
       "stream": "stdout",
       "text": [
        " 1211\n",
        "Iter "
       ]
      },
      {
       "output_type": "stream",
       "stream": "stdout",
       "text": [
        " 1212\n",
        "Iter "
       ]
      },
      {
       "output_type": "stream",
       "stream": "stdout",
       "text": [
        " 1213\n",
        "Iter "
       ]
      },
      {
       "output_type": "stream",
       "stream": "stdout",
       "text": [
        " 1214\n",
        "Iter "
       ]
      },
      {
       "output_type": "stream",
       "stream": "stdout",
       "text": [
        " 1215\n",
        "Iter "
       ]
      },
      {
       "output_type": "stream",
       "stream": "stdout",
       "text": [
        " 1216\n",
        "Iter "
       ]
      },
      {
       "output_type": "stream",
       "stream": "stdout",
       "text": [
        " 1217\n",
        "Iter "
       ]
      },
      {
       "output_type": "stream",
       "stream": "stdout",
       "text": [
        " 1218\n",
        "Iter "
       ]
      },
      {
       "output_type": "stream",
       "stream": "stdout",
       "text": [
        " 1219\n",
        "Iter "
       ]
      },
      {
       "output_type": "stream",
       "stream": "stdout",
       "text": [
        " 1220\n",
        "Iter "
       ]
      },
      {
       "output_type": "stream",
       "stream": "stdout",
       "text": [
        " 1221\n",
        "Iter "
       ]
      },
      {
       "output_type": "stream",
       "stream": "stdout",
       "text": [
        " 1222\n",
        "Iter "
       ]
      },
      {
       "output_type": "stream",
       "stream": "stdout",
       "text": [
        " 1223\n",
        "Iter "
       ]
      },
      {
       "output_type": "stream",
       "stream": "stdout",
       "text": [
        " 1224\n",
        "Iter "
       ]
      },
      {
       "output_type": "stream",
       "stream": "stdout",
       "text": [
        " 1225\n",
        "Iter "
       ]
      },
      {
       "output_type": "stream",
       "stream": "stdout",
       "text": [
        " 1226\n",
        "Iter "
       ]
      },
      {
       "output_type": "stream",
       "stream": "stdout",
       "text": [
        " 1227\n",
        "Iter "
       ]
      },
      {
       "output_type": "stream",
       "stream": "stdout",
       "text": [
        " 1228\n",
        "Iter "
       ]
      },
      {
       "output_type": "stream",
       "stream": "stdout",
       "text": [
        " 1229\n",
        "Iter "
       ]
      },
      {
       "output_type": "stream",
       "stream": "stdout",
       "text": [
        " 1230\n",
        "Iter "
       ]
      },
      {
       "output_type": "stream",
       "stream": "stdout",
       "text": [
        " 1231\n",
        "Iter "
       ]
      },
      {
       "output_type": "stream",
       "stream": "stdout",
       "text": [
        " 1232\n",
        "Iter "
       ]
      },
      {
       "output_type": "stream",
       "stream": "stdout",
       "text": [
        " 1233\n",
        "Iter "
       ]
      },
      {
       "output_type": "stream",
       "stream": "stdout",
       "text": [
        " 1234\n",
        "Iter "
       ]
      },
      {
       "output_type": "stream",
       "stream": "stdout",
       "text": [
        " 1235\n",
        "Iter "
       ]
      },
      {
       "output_type": "stream",
       "stream": "stdout",
       "text": [
        " 1236\n",
        "Iter "
       ]
      },
      {
       "output_type": "stream",
       "stream": "stdout",
       "text": [
        " 1237\n",
        "Iter "
       ]
      },
      {
       "output_type": "stream",
       "stream": "stdout",
       "text": [
        " 1238\n",
        "Iter "
       ]
      },
      {
       "output_type": "stream",
       "stream": "stdout",
       "text": [
        " 1239\n",
        "Iter "
       ]
      },
      {
       "output_type": "stream",
       "stream": "stdout",
       "text": [
        " 1240\n",
        "Iter "
       ]
      },
      {
       "output_type": "stream",
       "stream": "stdout",
       "text": [
        " 1241\n",
        "Iter "
       ]
      },
      {
       "output_type": "stream",
       "stream": "stdout",
       "text": [
        " 1242\n",
        "Iter "
       ]
      },
      {
       "output_type": "stream",
       "stream": "stdout",
       "text": [
        " 1243\n",
        "Iter "
       ]
      },
      {
       "output_type": "stream",
       "stream": "stdout",
       "text": [
        " 1244\n",
        "Iter "
       ]
      },
      {
       "output_type": "stream",
       "stream": "stdout",
       "text": [
        " 1245\n",
        "Iter "
       ]
      },
      {
       "output_type": "stream",
       "stream": "stdout",
       "text": [
        " 1246\n",
        "Iter "
       ]
      },
      {
       "output_type": "stream",
       "stream": "stdout",
       "text": [
        " 1247\n",
        "Iter "
       ]
      },
      {
       "output_type": "stream",
       "stream": "stdout",
       "text": [
        " 1248\n",
        "Iter "
       ]
      },
      {
       "output_type": "stream",
       "stream": "stdout",
       "text": [
        " 1249\n",
        "Iter "
       ]
      },
      {
       "output_type": "stream",
       "stream": "stdout",
       "text": [
        " 1250\n",
        "Iter "
       ]
      },
      {
       "output_type": "stream",
       "stream": "stdout",
       "text": [
        " 1251\n",
        "Iter "
       ]
      },
      {
       "output_type": "stream",
       "stream": "stdout",
       "text": [
        " 1252\n",
        "Iter "
       ]
      },
      {
       "output_type": "stream",
       "stream": "stdout",
       "text": [
        " 1253\n",
        "Iter "
       ]
      },
      {
       "output_type": "stream",
       "stream": "stdout",
       "text": [
        " 1254\n",
        "Iter "
       ]
      },
      {
       "output_type": "stream",
       "stream": "stdout",
       "text": [
        " 1255\n",
        "Iter "
       ]
      },
      {
       "output_type": "stream",
       "stream": "stdout",
       "text": [
        " 1256\n",
        "Iter "
       ]
      },
      {
       "output_type": "stream",
       "stream": "stdout",
       "text": [
        " 1257\n",
        "Iter "
       ]
      },
      {
       "output_type": "stream",
       "stream": "stdout",
       "text": [
        " 1258\n",
        "Iter "
       ]
      },
      {
       "output_type": "stream",
       "stream": "stdout",
       "text": [
        " 1259\n",
        "Iter "
       ]
      },
      {
       "output_type": "stream",
       "stream": "stdout",
       "text": [
        " 1260\n",
        "Iter "
       ]
      },
      {
       "output_type": "stream",
       "stream": "stdout",
       "text": [
        " 1261\n",
        "Iter "
       ]
      },
      {
       "output_type": "stream",
       "stream": "stdout",
       "text": [
        " 1262\n",
        "Iter "
       ]
      },
      {
       "output_type": "stream",
       "stream": "stdout",
       "text": [
        " 1263\n",
        "Iter "
       ]
      },
      {
       "output_type": "stream",
       "stream": "stdout",
       "text": [
        " 1264\n",
        "Iter "
       ]
      },
      {
       "output_type": "stream",
       "stream": "stdout",
       "text": [
        " 1265\n",
        "Iter "
       ]
      },
      {
       "output_type": "stream",
       "stream": "stdout",
       "text": [
        " 1266\n",
        "Iter "
       ]
      },
      {
       "output_type": "stream",
       "stream": "stdout",
       "text": [
        " 1267\n",
        "Iter "
       ]
      },
      {
       "output_type": "stream",
       "stream": "stdout",
       "text": [
        " 1268\n",
        "Iter "
       ]
      },
      {
       "output_type": "stream",
       "stream": "stdout",
       "text": [
        " 1269\n",
        "Iter "
       ]
      },
      {
       "output_type": "stream",
       "stream": "stdout",
       "text": [
        " 1270\n",
        "Iter "
       ]
      },
      {
       "output_type": "stream",
       "stream": "stdout",
       "text": [
        " 1271\n",
        "Iter "
       ]
      },
      {
       "output_type": "stream",
       "stream": "stdout",
       "text": [
        " 1272\n",
        "Iter "
       ]
      },
      {
       "output_type": "stream",
       "stream": "stdout",
       "text": [
        " 1273\n",
        "Iter "
       ]
      },
      {
       "output_type": "stream",
       "stream": "stdout",
       "text": [
        " 1274\n",
        "Iter "
       ]
      },
      {
       "output_type": "stream",
       "stream": "stdout",
       "text": [
        " 1275\n",
        "Iter "
       ]
      },
      {
       "output_type": "stream",
       "stream": "stdout",
       "text": [
        " 1276\n",
        "Iter "
       ]
      },
      {
       "output_type": "stream",
       "stream": "stdout",
       "text": [
        " 1277\n",
        "Iter "
       ]
      },
      {
       "output_type": "stream",
       "stream": "stdout",
       "text": [
        " 1278\n",
        "Iter "
       ]
      },
      {
       "output_type": "stream",
       "stream": "stdout",
       "text": [
        " 1279\n",
        "Iter "
       ]
      },
      {
       "output_type": "stream",
       "stream": "stdout",
       "text": [
        " 1280\n",
        "Iter "
       ]
      },
      {
       "output_type": "stream",
       "stream": "stdout",
       "text": [
        " 1281\n",
        "Iter "
       ]
      },
      {
       "output_type": "stream",
       "stream": "stdout",
       "text": [
        " 1282\n",
        "Iter "
       ]
      },
      {
       "output_type": "stream",
       "stream": "stdout",
       "text": [
        " 1283\n",
        "Iter "
       ]
      },
      {
       "output_type": "stream",
       "stream": "stdout",
       "text": [
        " 1284\n",
        "Iter "
       ]
      },
      {
       "output_type": "stream",
       "stream": "stdout",
       "text": [
        " 1285\n",
        "Iter "
       ]
      },
      {
       "output_type": "stream",
       "stream": "stdout",
       "text": [
        " 1286\n",
        "Iter "
       ]
      },
      {
       "output_type": "stream",
       "stream": "stdout",
       "text": [
        " 1287\n",
        "Iter "
       ]
      },
      {
       "output_type": "stream",
       "stream": "stdout",
       "text": [
        " 1288\n",
        "Iter "
       ]
      },
      {
       "output_type": "stream",
       "stream": "stdout",
       "text": [
        " 1289\n",
        "Iter "
       ]
      },
      {
       "output_type": "stream",
       "stream": "stdout",
       "text": [
        " 1290\n",
        "Iter "
       ]
      },
      {
       "output_type": "stream",
       "stream": "stdout",
       "text": [
        " 1291\n",
        "Iter "
       ]
      },
      {
       "output_type": "stream",
       "stream": "stdout",
       "text": [
        " 1292\n",
        "Iter "
       ]
      },
      {
       "output_type": "stream",
       "stream": "stdout",
       "text": [
        " 1293\n",
        "Iter "
       ]
      },
      {
       "output_type": "stream",
       "stream": "stdout",
       "text": [
        " 1294\n",
        "Iter "
       ]
      },
      {
       "output_type": "stream",
       "stream": "stdout",
       "text": [
        " 1295\n",
        "Iter "
       ]
      },
      {
       "output_type": "stream",
       "stream": "stdout",
       "text": [
        " 1296\n",
        "Iter "
       ]
      },
      {
       "output_type": "stream",
       "stream": "stdout",
       "text": [
        " 1297\n",
        "Iter "
       ]
      },
      {
       "output_type": "stream",
       "stream": "stdout",
       "text": [
        " 1298\n",
        "Iter "
       ]
      },
      {
       "output_type": "stream",
       "stream": "stdout",
       "text": [
        " 1299\n",
        "Iter "
       ]
      },
      {
       "output_type": "stream",
       "stream": "stdout",
       "text": [
        " 1300\n",
        "Iter "
       ]
      },
      {
       "output_type": "stream",
       "stream": "stdout",
       "text": [
        " 1301\n",
        "Iter "
       ]
      },
      {
       "output_type": "stream",
       "stream": "stdout",
       "text": [
        " 1302\n",
        "Iter "
       ]
      },
      {
       "output_type": "stream",
       "stream": "stdout",
       "text": [
        " 1303\n",
        "Iter "
       ]
      },
      {
       "output_type": "stream",
       "stream": "stdout",
       "text": [
        " 1304\n",
        "Iter "
       ]
      },
      {
       "output_type": "stream",
       "stream": "stdout",
       "text": [
        " 1305\n",
        "Iter "
       ]
      },
      {
       "output_type": "stream",
       "stream": "stdout",
       "text": [
        " 1306\n",
        "Iter "
       ]
      },
      {
       "output_type": "stream",
       "stream": "stdout",
       "text": [
        " 1307\n",
        "Iter "
       ]
      },
      {
       "output_type": "stream",
       "stream": "stdout",
       "text": [
        " 1308\n",
        "Iter "
       ]
      },
      {
       "output_type": "stream",
       "stream": "stdout",
       "text": [
        " 1309\n",
        "Iter "
       ]
      },
      {
       "output_type": "stream",
       "stream": "stdout",
       "text": [
        " 1310\n",
        "Iter "
       ]
      },
      {
       "output_type": "stream",
       "stream": "stdout",
       "text": [
        " 1311\n",
        "Iter "
       ]
      },
      {
       "output_type": "stream",
       "stream": "stdout",
       "text": [
        " 1312\n",
        "Iter "
       ]
      },
      {
       "output_type": "stream",
       "stream": "stdout",
       "text": [
        " 1313\n",
        "Iter "
       ]
      },
      {
       "output_type": "stream",
       "stream": "stdout",
       "text": [
        " 1314\n",
        "Iter "
       ]
      },
      {
       "output_type": "stream",
       "stream": "stdout",
       "text": [
        " 1315\n",
        "Iter "
       ]
      },
      {
       "output_type": "stream",
       "stream": "stdout",
       "text": [
        " 1316\n",
        "Iter "
       ]
      },
      {
       "output_type": "stream",
       "stream": "stdout",
       "text": [
        " 1317\n",
        "Iter "
       ]
      },
      {
       "output_type": "stream",
       "stream": "stdout",
       "text": [
        " 1318\n",
        "Iter "
       ]
      },
      {
       "output_type": "stream",
       "stream": "stdout",
       "text": [
        " 1319\n",
        "Iter "
       ]
      },
      {
       "output_type": "stream",
       "stream": "stdout",
       "text": [
        " 1320\n",
        "Iter "
       ]
      },
      {
       "output_type": "stream",
       "stream": "stdout",
       "text": [
        " 1321\n",
        "Iter "
       ]
      },
      {
       "output_type": "stream",
       "stream": "stdout",
       "text": [
        " 1322\n",
        "Iter "
       ]
      },
      {
       "output_type": "stream",
       "stream": "stdout",
       "text": [
        " 1323\n",
        "Iter "
       ]
      },
      {
       "output_type": "stream",
       "stream": "stdout",
       "text": [
        " 1324\n",
        "Iter "
       ]
      },
      {
       "output_type": "stream",
       "stream": "stdout",
       "text": [
        " 1325\n",
        "Iter "
       ]
      },
      {
       "output_type": "stream",
       "stream": "stdout",
       "text": [
        " 1326\n",
        "Iter "
       ]
      },
      {
       "output_type": "stream",
       "stream": "stdout",
       "text": [
        " 1327\n",
        "Iter "
       ]
      },
      {
       "output_type": "stream",
       "stream": "stdout",
       "text": [
        " 1328\n",
        "Iter "
       ]
      },
      {
       "output_type": "stream",
       "stream": "stdout",
       "text": [
        " 1329\n",
        "Iter "
       ]
      },
      {
       "output_type": "stream",
       "stream": "stdout",
       "text": [
        " 1330\n",
        "Iter "
       ]
      },
      {
       "output_type": "stream",
       "stream": "stdout",
       "text": [
        " 1331\n",
        "Iter "
       ]
      },
      {
       "output_type": "stream",
       "stream": "stdout",
       "text": [
        " 1332\n",
        "Iter "
       ]
      },
      {
       "output_type": "stream",
       "stream": "stdout",
       "text": [
        " 1333\n",
        "Iter "
       ]
      },
      {
       "output_type": "stream",
       "stream": "stdout",
       "text": [
        " 1334\n",
        "Iter "
       ]
      },
      {
       "output_type": "stream",
       "stream": "stdout",
       "text": [
        " 1335\n",
        "Iter "
       ]
      },
      {
       "output_type": "stream",
       "stream": "stdout",
       "text": [
        " 1336\n",
        "Iter "
       ]
      },
      {
       "output_type": "stream",
       "stream": "stdout",
       "text": [
        " 1337\n",
        "Iter "
       ]
      },
      {
       "output_type": "stream",
       "stream": "stdout",
       "text": [
        " 1338\n",
        "Iter "
       ]
      },
      {
       "output_type": "stream",
       "stream": "stdout",
       "text": [
        " 1339\n",
        "Iter "
       ]
      },
      {
       "output_type": "stream",
       "stream": "stdout",
       "text": [
        " 1340\n",
        "Iter "
       ]
      },
      {
       "output_type": "stream",
       "stream": "stdout",
       "text": [
        " 1341\n",
        "Iter "
       ]
      },
      {
       "output_type": "stream",
       "stream": "stdout",
       "text": [
        " 1342\n",
        "Iter "
       ]
      },
      {
       "output_type": "stream",
       "stream": "stdout",
       "text": [
        " 1343\n",
        "Iter "
       ]
      },
      {
       "output_type": "stream",
       "stream": "stdout",
       "text": [
        " 1344\n",
        "Iter "
       ]
      },
      {
       "output_type": "stream",
       "stream": "stdout",
       "text": [
        " 1345\n",
        "Iter "
       ]
      },
      {
       "output_type": "stream",
       "stream": "stdout",
       "text": [
        " 1346\n",
        "Iter "
       ]
      },
      {
       "output_type": "stream",
       "stream": "stdout",
       "text": [
        " 1347\n",
        "Iter "
       ]
      },
      {
       "output_type": "stream",
       "stream": "stdout",
       "text": [
        " 1348\n",
        "Iter "
       ]
      },
      {
       "output_type": "stream",
       "stream": "stdout",
       "text": [
        " 1349\n",
        "Iter "
       ]
      },
      {
       "output_type": "stream",
       "stream": "stdout",
       "text": [
        " 1350\n",
        "Iter "
       ]
      },
      {
       "output_type": "stream",
       "stream": "stdout",
       "text": [
        " 1351\n",
        "Iter "
       ]
      },
      {
       "output_type": "stream",
       "stream": "stdout",
       "text": [
        " 1352\n",
        "Iter "
       ]
      },
      {
       "output_type": "stream",
       "stream": "stdout",
       "text": [
        " 1353\n",
        "Iter "
       ]
      },
      {
       "output_type": "stream",
       "stream": "stdout",
       "text": [
        " 1354\n",
        "Iter "
       ]
      },
      {
       "output_type": "stream",
       "stream": "stdout",
       "text": [
        " 1355\n",
        "Iter "
       ]
      },
      {
       "output_type": "stream",
       "stream": "stdout",
       "text": [
        " 1356\n",
        "Iter "
       ]
      },
      {
       "output_type": "stream",
       "stream": "stdout",
       "text": [
        " 1357\n",
        "Iter "
       ]
      },
      {
       "output_type": "stream",
       "stream": "stdout",
       "text": [
        " 1358\n",
        "Iter "
       ]
      },
      {
       "output_type": "stream",
       "stream": "stdout",
       "text": [
        " 1359\n",
        "Iter "
       ]
      },
      {
       "output_type": "stream",
       "stream": "stdout",
       "text": [
        " 1360\n",
        "Iter "
       ]
      },
      {
       "output_type": "stream",
       "stream": "stdout",
       "text": [
        " 1361\n",
        "Iter "
       ]
      },
      {
       "output_type": "stream",
       "stream": "stdout",
       "text": [
        " 1362\n",
        "Iter "
       ]
      },
      {
       "output_type": "stream",
       "stream": "stdout",
       "text": [
        " 1363\n",
        "Iter "
       ]
      },
      {
       "output_type": "stream",
       "stream": "stdout",
       "text": [
        " 1364\n",
        "Iter "
       ]
      },
      {
       "output_type": "stream",
       "stream": "stdout",
       "text": [
        " 1365\n",
        "Iter "
       ]
      },
      {
       "output_type": "stream",
       "stream": "stdout",
       "text": [
        " 1366\n",
        "Iter "
       ]
      },
      {
       "output_type": "stream",
       "stream": "stdout",
       "text": [
        " 1367\n",
        "Iter "
       ]
      },
      {
       "output_type": "stream",
       "stream": "stdout",
       "text": [
        " 1368\n",
        "Iter "
       ]
      },
      {
       "output_type": "stream",
       "stream": "stdout",
       "text": [
        " 1369\n",
        "Iter "
       ]
      },
      {
       "output_type": "stream",
       "stream": "stdout",
       "text": [
        " 1370\n",
        "Iter "
       ]
      },
      {
       "output_type": "stream",
       "stream": "stdout",
       "text": [
        " 1371\n",
        "Iter "
       ]
      },
      {
       "output_type": "stream",
       "stream": "stdout",
       "text": [
        " 1372\n",
        "Iter "
       ]
      },
      {
       "output_type": "stream",
       "stream": "stdout",
       "text": [
        " 1373\n",
        "Iter "
       ]
      },
      {
       "output_type": "stream",
       "stream": "stdout",
       "text": [
        " 1374\n",
        "Iter "
       ]
      },
      {
       "output_type": "stream",
       "stream": "stdout",
       "text": [
        " 1375\n",
        "Iter "
       ]
      },
      {
       "output_type": "stream",
       "stream": "stdout",
       "text": [
        " 1376\n",
        "Iter "
       ]
      },
      {
       "output_type": "stream",
       "stream": "stdout",
       "text": [
        " 1377\n",
        "Iter "
       ]
      },
      {
       "output_type": "stream",
       "stream": "stdout",
       "text": [
        " 1378\n",
        "Iter "
       ]
      },
      {
       "output_type": "stream",
       "stream": "stdout",
       "text": [
        " 1379\n",
        "Iter "
       ]
      },
      {
       "output_type": "stream",
       "stream": "stdout",
       "text": [
        " 1380\n",
        "Iter "
       ]
      },
      {
       "output_type": "stream",
       "stream": "stdout",
       "text": [
        " 1381\n",
        "Iter "
       ]
      },
      {
       "output_type": "stream",
       "stream": "stdout",
       "text": [
        " 1382\n",
        "Iter "
       ]
      },
      {
       "output_type": "stream",
       "stream": "stdout",
       "text": [
        " 1383\n",
        "Iter "
       ]
      },
      {
       "output_type": "stream",
       "stream": "stdout",
       "text": [
        " 1384\n",
        "Iter "
       ]
      },
      {
       "output_type": "stream",
       "stream": "stdout",
       "text": [
        " 1385\n",
        "Iter "
       ]
      },
      {
       "output_type": "stream",
       "stream": "stdout",
       "text": [
        " 1386\n",
        "Iter "
       ]
      },
      {
       "output_type": "stream",
       "stream": "stdout",
       "text": [
        " 1387\n",
        "Iter "
       ]
      },
      {
       "output_type": "stream",
       "stream": "stdout",
       "text": [
        " 1388\n",
        "Iter "
       ]
      },
      {
       "output_type": "stream",
       "stream": "stdout",
       "text": [
        " 1389\n",
        "Iter "
       ]
      },
      {
       "output_type": "stream",
       "stream": "stdout",
       "text": [
        " 1390\n",
        "Iter "
       ]
      },
      {
       "output_type": "stream",
       "stream": "stdout",
       "text": [
        " 1391\n",
        "Iter "
       ]
      },
      {
       "output_type": "stream",
       "stream": "stdout",
       "text": [
        " 1392\n",
        "Iter "
       ]
      },
      {
       "output_type": "stream",
       "stream": "stdout",
       "text": [
        " 1393\n",
        "Iter "
       ]
      },
      {
       "output_type": "stream",
       "stream": "stdout",
       "text": [
        " 1394\n",
        "Iter "
       ]
      },
      {
       "output_type": "stream",
       "stream": "stdout",
       "text": [
        " 1395\n",
        "Iter "
       ]
      },
      {
       "output_type": "stream",
       "stream": "stdout",
       "text": [
        " 1396\n",
        "Iter "
       ]
      },
      {
       "output_type": "stream",
       "stream": "stdout",
       "text": [
        " 1397\n",
        "Iter "
       ]
      },
      {
       "output_type": "stream",
       "stream": "stdout",
       "text": [
        " 1398\n",
        "Iter "
       ]
      },
      {
       "output_type": "stream",
       "stream": "stdout",
       "text": [
        " 1399\n",
        "Iter "
       ]
      },
      {
       "output_type": "stream",
       "stream": "stdout",
       "text": [
        " 1400\n",
        "Iter "
       ]
      },
      {
       "output_type": "stream",
       "stream": "stdout",
       "text": [
        " 1401\n",
        "Iter "
       ]
      },
      {
       "output_type": "stream",
       "stream": "stdout",
       "text": [
        " 1402\n",
        "Iter "
       ]
      },
      {
       "output_type": "stream",
       "stream": "stdout",
       "text": [
        " 1403\n",
        "Iter "
       ]
      },
      {
       "output_type": "stream",
       "stream": "stdout",
       "text": [
        " 1404\n",
        "Iter "
       ]
      },
      {
       "output_type": "stream",
       "stream": "stdout",
       "text": [
        " 1405\n",
        "Iter "
       ]
      },
      {
       "output_type": "stream",
       "stream": "stdout",
       "text": [
        " 1406\n",
        "Iter "
       ]
      },
      {
       "output_type": "stream",
       "stream": "stdout",
       "text": [
        " 1407\n",
        "Iter "
       ]
      },
      {
       "output_type": "stream",
       "stream": "stdout",
       "text": [
        " 1408\n",
        "Iter "
       ]
      },
      {
       "output_type": "stream",
       "stream": "stdout",
       "text": [
        " 1409\n",
        "Iter "
       ]
      },
      {
       "output_type": "stream",
       "stream": "stdout",
       "text": [
        " 1410\n",
        "Iter "
       ]
      },
      {
       "output_type": "stream",
       "stream": "stdout",
       "text": [
        " 1411\n",
        "Iter "
       ]
      },
      {
       "output_type": "stream",
       "stream": "stdout",
       "text": [
        " 1412\n",
        "Iter "
       ]
      },
      {
       "output_type": "stream",
       "stream": "stdout",
       "text": [
        " 1413\n",
        "Iter "
       ]
      },
      {
       "output_type": "stream",
       "stream": "stdout",
       "text": [
        " 1414\n",
        "Iter "
       ]
      },
      {
       "output_type": "stream",
       "stream": "stdout",
       "text": [
        " 1415\n",
        "Iter "
       ]
      },
      {
       "output_type": "stream",
       "stream": "stdout",
       "text": [
        " 1416\n",
        "Iter "
       ]
      },
      {
       "output_type": "stream",
       "stream": "stdout",
       "text": [
        " 1417\n",
        "Iter "
       ]
      },
      {
       "output_type": "stream",
       "stream": "stdout",
       "text": [
        " 1418\n",
        "Iter "
       ]
      },
      {
       "output_type": "stream",
       "stream": "stdout",
       "text": [
        " 1419\n",
        "Iter "
       ]
      },
      {
       "output_type": "stream",
       "stream": "stdout",
       "text": [
        " 1420\n",
        "Iter "
       ]
      },
      {
       "output_type": "stream",
       "stream": "stdout",
       "text": [
        " 1421\n",
        "Iter "
       ]
      },
      {
       "output_type": "stream",
       "stream": "stdout",
       "text": [
        " 1422\n",
        "Iter "
       ]
      },
      {
       "output_type": "stream",
       "stream": "stdout",
       "text": [
        " 1423\n",
        "Iter "
       ]
      },
      {
       "output_type": "stream",
       "stream": "stdout",
       "text": [
        " 1424\n",
        "Iter "
       ]
      },
      {
       "output_type": "stream",
       "stream": "stdout",
       "text": [
        " 1425\n",
        "Iter "
       ]
      },
      {
       "output_type": "stream",
       "stream": "stdout",
       "text": [
        " 1426\n",
        "Iter "
       ]
      },
      {
       "output_type": "stream",
       "stream": "stdout",
       "text": [
        " 1427\n",
        "Iter "
       ]
      },
      {
       "output_type": "stream",
       "stream": "stdout",
       "text": [
        " 1428\n",
        "Iter "
       ]
      },
      {
       "output_type": "stream",
       "stream": "stdout",
       "text": [
        " 1429\n",
        "Iter "
       ]
      },
      {
       "output_type": "stream",
       "stream": "stdout",
       "text": [
        " 1430\n",
        "Iter "
       ]
      },
      {
       "output_type": "stream",
       "stream": "stdout",
       "text": [
        " 1431\n",
        "Iter "
       ]
      },
      {
       "output_type": "stream",
       "stream": "stdout",
       "text": [
        " 1432\n",
        "Iter "
       ]
      },
      {
       "output_type": "stream",
       "stream": "stdout",
       "text": [
        " 1433\n",
        "Iter "
       ]
      },
      {
       "output_type": "stream",
       "stream": "stdout",
       "text": [
        " 1434\n",
        "Iter "
       ]
      },
      {
       "output_type": "stream",
       "stream": "stdout",
       "text": [
        " 1435\n",
        "Iter "
       ]
      },
      {
       "output_type": "stream",
       "stream": "stdout",
       "text": [
        " 1436\n",
        "Iter "
       ]
      },
      {
       "output_type": "stream",
       "stream": "stdout",
       "text": [
        " 1437\n",
        "Iter "
       ]
      },
      {
       "output_type": "stream",
       "stream": "stdout",
       "text": [
        " 1438\n",
        "Iter "
       ]
      },
      {
       "output_type": "stream",
       "stream": "stdout",
       "text": [
        " 1439\n",
        "Iter "
       ]
      },
      {
       "output_type": "stream",
       "stream": "stdout",
       "text": [
        " 1440\n",
        "Iter "
       ]
      },
      {
       "output_type": "stream",
       "stream": "stdout",
       "text": [
        " 1441\n",
        "Iter "
       ]
      },
      {
       "output_type": "stream",
       "stream": "stdout",
       "text": [
        " 1442\n",
        "Iter "
       ]
      },
      {
       "output_type": "stream",
       "stream": "stdout",
       "text": [
        " 1443\n",
        "Iter "
       ]
      },
      {
       "output_type": "stream",
       "stream": "stdout",
       "text": [
        " 1444\n",
        "Iter "
       ]
      },
      {
       "output_type": "stream",
       "stream": "stdout",
       "text": [
        " 1445\n",
        "Iter "
       ]
      },
      {
       "output_type": "stream",
       "stream": "stdout",
       "text": [
        " 1446\n",
        "Iter "
       ]
      },
      {
       "output_type": "stream",
       "stream": "stdout",
       "text": [
        " 1447\n",
        "Iter "
       ]
      },
      {
       "output_type": "stream",
       "stream": "stdout",
       "text": [
        " 1448\n",
        "Iter "
       ]
      },
      {
       "output_type": "stream",
       "stream": "stdout",
       "text": [
        " 1449\n",
        "Iter "
       ]
      },
      {
       "output_type": "stream",
       "stream": "stdout",
       "text": [
        " 1450\n",
        "Iter "
       ]
      },
      {
       "output_type": "stream",
       "stream": "stdout",
       "text": [
        " 1451\n",
        "Iter "
       ]
      },
      {
       "output_type": "stream",
       "stream": "stdout",
       "text": [
        " 1452\n",
        "Iter "
       ]
      },
      {
       "output_type": "stream",
       "stream": "stdout",
       "text": [
        " 1453\n",
        "Iter "
       ]
      },
      {
       "output_type": "stream",
       "stream": "stdout",
       "text": [
        " 1454\n",
        "Iter "
       ]
      },
      {
       "output_type": "stream",
       "stream": "stdout",
       "text": [
        " 1455\n",
        "Iter "
       ]
      },
      {
       "output_type": "stream",
       "stream": "stdout",
       "text": [
        " 1456\n",
        "Iter "
       ]
      },
      {
       "output_type": "stream",
       "stream": "stdout",
       "text": [
        " 1457\n",
        "Iter "
       ]
      },
      {
       "output_type": "stream",
       "stream": "stdout",
       "text": [
        " 1458\n",
        "Iter "
       ]
      },
      {
       "output_type": "stream",
       "stream": "stdout",
       "text": [
        " 1459\n",
        "Iter "
       ]
      },
      {
       "output_type": "stream",
       "stream": "stdout",
       "text": [
        " 1460\n",
        "Iter "
       ]
      },
      {
       "output_type": "stream",
       "stream": "stdout",
       "text": [
        " 1461\n",
        "Iter "
       ]
      },
      {
       "output_type": "stream",
       "stream": "stdout",
       "text": [
        " 1462\n",
        "Iter "
       ]
      },
      {
       "output_type": "stream",
       "stream": "stdout",
       "text": [
        " 1463\n",
        "Iter "
       ]
      },
      {
       "output_type": "stream",
       "stream": "stdout",
       "text": [
        " 1464\n",
        "Iter "
       ]
      },
      {
       "output_type": "stream",
       "stream": "stdout",
       "text": [
        " 1465\n",
        "Iter "
       ]
      },
      {
       "output_type": "stream",
       "stream": "stdout",
       "text": [
        " 1466\n",
        "Iter "
       ]
      },
      {
       "output_type": "stream",
       "stream": "stdout",
       "text": [
        " 1467\n",
        "Iter "
       ]
      },
      {
       "output_type": "stream",
       "stream": "stdout",
       "text": [
        " 1468\n",
        "Iter "
       ]
      },
      {
       "output_type": "stream",
       "stream": "stdout",
       "text": [
        " 1469\n",
        "Iter "
       ]
      },
      {
       "output_type": "stream",
       "stream": "stdout",
       "text": [
        " 1470\n",
        "Iter "
       ]
      },
      {
       "output_type": "stream",
       "stream": "stdout",
       "text": [
        " 1471\n",
        "Iter "
       ]
      },
      {
       "output_type": "stream",
       "stream": "stdout",
       "text": [
        " 1472\n",
        "Iter "
       ]
      },
      {
       "output_type": "stream",
       "stream": "stdout",
       "text": [
        " 1473\n",
        "Iter "
       ]
      },
      {
       "output_type": "stream",
       "stream": "stdout",
       "text": [
        " 1474\n",
        "Iter "
       ]
      },
      {
       "output_type": "stream",
       "stream": "stdout",
       "text": [
        " 1475\n",
        "Iter "
       ]
      },
      {
       "output_type": "stream",
       "stream": "stdout",
       "text": [
        " 1476\n",
        "Iter "
       ]
      },
      {
       "output_type": "stream",
       "stream": "stdout",
       "text": [
        " 1477\n",
        "Iter "
       ]
      },
      {
       "output_type": "stream",
       "stream": "stdout",
       "text": [
        " 1478\n",
        "Iter "
       ]
      },
      {
       "output_type": "stream",
       "stream": "stdout",
       "text": [
        " 1479\n",
        "Iter "
       ]
      },
      {
       "output_type": "stream",
       "stream": "stdout",
       "text": [
        " 1480\n",
        "Iter "
       ]
      },
      {
       "output_type": "stream",
       "stream": "stdout",
       "text": [
        " 1481\n",
        "Iter "
       ]
      },
      {
       "output_type": "stream",
       "stream": "stdout",
       "text": [
        " 1482\n",
        "Iter "
       ]
      },
      {
       "output_type": "stream",
       "stream": "stdout",
       "text": [
        " 1483\n",
        "Iter "
       ]
      },
      {
       "output_type": "stream",
       "stream": "stdout",
       "text": [
        " 1484\n",
        "Iter "
       ]
      },
      {
       "output_type": "stream",
       "stream": "stdout",
       "text": [
        " 1485\n",
        "Iter "
       ]
      },
      {
       "output_type": "stream",
       "stream": "stdout",
       "text": [
        " 1486\n",
        "Iter "
       ]
      },
      {
       "output_type": "stream",
       "stream": "stdout",
       "text": [
        " 1487\n",
        "Iter "
       ]
      },
      {
       "output_type": "stream",
       "stream": "stdout",
       "text": [
        " 1488\n",
        "Iter "
       ]
      },
      {
       "output_type": "stream",
       "stream": "stdout",
       "text": [
        " 1489\n",
        "Iter "
       ]
      },
      {
       "output_type": "stream",
       "stream": "stdout",
       "text": [
        " 1490\n",
        "Iter "
       ]
      },
      {
       "output_type": "stream",
       "stream": "stdout",
       "text": [
        " 1491\n",
        "Iter "
       ]
      },
      {
       "output_type": "stream",
       "stream": "stdout",
       "text": [
        " 1492\n",
        "Iter "
       ]
      },
      {
       "output_type": "stream",
       "stream": "stdout",
       "text": [
        " 1493\n",
        "Iter "
       ]
      },
      {
       "output_type": "stream",
       "stream": "stdout",
       "text": [
        " 1494\n",
        "Iter "
       ]
      },
      {
       "output_type": "stream",
       "stream": "stdout",
       "text": [
        " 1495\n",
        "Iter "
       ]
      },
      {
       "output_type": "stream",
       "stream": "stdout",
       "text": [
        " 1496\n",
        "Iter "
       ]
      },
      {
       "output_type": "stream",
       "stream": "stdout",
       "text": [
        " 1497\n",
        "Iter "
       ]
      },
      {
       "output_type": "stream",
       "stream": "stdout",
       "text": [
        " 1498\n",
        "Iter "
       ]
      },
      {
       "output_type": "stream",
       "stream": "stdout",
       "text": [
        " 1499\n",
        "Iter "
       ]
      },
      {
       "output_type": "stream",
       "stream": "stdout",
       "text": [
        " 1500\n",
        "Iter "
       ]
      },
      {
       "output_type": "stream",
       "stream": "stdout",
       "text": [
        " 1501\n",
        "Iter "
       ]
      },
      {
       "output_type": "stream",
       "stream": "stdout",
       "text": [
        " 1502\n",
        "Iter "
       ]
      },
      {
       "output_type": "stream",
       "stream": "stdout",
       "text": [
        " 1503\n",
        "Iter "
       ]
      },
      {
       "output_type": "stream",
       "stream": "stdout",
       "text": [
        " 1504\n",
        "Iter "
       ]
      },
      {
       "output_type": "stream",
       "stream": "stdout",
       "text": [
        " 1505\n",
        "Iter "
       ]
      },
      {
       "output_type": "stream",
       "stream": "stdout",
       "text": [
        " 1506\n",
        "Iter "
       ]
      },
      {
       "output_type": "stream",
       "stream": "stdout",
       "text": [
        " 1507\n",
        "Iter "
       ]
      },
      {
       "output_type": "stream",
       "stream": "stdout",
       "text": [
        " 1508\n",
        "Iter "
       ]
      },
      {
       "output_type": "stream",
       "stream": "stdout",
       "text": [
        " 1509\n",
        "Iter "
       ]
      },
      {
       "output_type": "stream",
       "stream": "stdout",
       "text": [
        " 1510\n",
        "Iter "
       ]
      },
      {
       "output_type": "stream",
       "stream": "stdout",
       "text": [
        " 1511\n",
        "Iter "
       ]
      },
      {
       "output_type": "stream",
       "stream": "stdout",
       "text": [
        " 1512\n",
        "Iter "
       ]
      },
      {
       "output_type": "stream",
       "stream": "stdout",
       "text": [
        " 1513\n",
        "Iter "
       ]
      },
      {
       "output_type": "stream",
       "stream": "stdout",
       "text": [
        " 1514\n",
        "Iter "
       ]
      },
      {
       "output_type": "stream",
       "stream": "stdout",
       "text": [
        " 1515\n",
        "Iter "
       ]
      },
      {
       "output_type": "stream",
       "stream": "stdout",
       "text": [
        " 1516\n",
        "Iter "
       ]
      },
      {
       "output_type": "stream",
       "stream": "stdout",
       "text": [
        " 1517\n",
        "Iter "
       ]
      },
      {
       "output_type": "stream",
       "stream": "stdout",
       "text": [
        " 1518\n",
        "Iter "
       ]
      },
      {
       "output_type": "stream",
       "stream": "stdout",
       "text": [
        " 1519\n",
        "Iter "
       ]
      },
      {
       "output_type": "stream",
       "stream": "stdout",
       "text": [
        " 1520\n",
        "Iter "
       ]
      },
      {
       "output_type": "stream",
       "stream": "stdout",
       "text": [
        " 1521\n",
        "Iter "
       ]
      },
      {
       "output_type": "stream",
       "stream": "stdout",
       "text": [
        " 1522\n",
        "Iter "
       ]
      },
      {
       "output_type": "stream",
       "stream": "stdout",
       "text": [
        " 1523\n",
        "Iter "
       ]
      },
      {
       "output_type": "stream",
       "stream": "stdout",
       "text": [
        " 1524\n",
        "Iter "
       ]
      },
      {
       "output_type": "stream",
       "stream": "stdout",
       "text": [
        " 1525\n",
        "Iter "
       ]
      },
      {
       "output_type": "stream",
       "stream": "stdout",
       "text": [
        " 1526\n",
        "Iter "
       ]
      },
      {
       "output_type": "stream",
       "stream": "stdout",
       "text": [
        " 1527\n",
        "Iter "
       ]
      },
      {
       "output_type": "stream",
       "stream": "stdout",
       "text": [
        " 1528\n",
        "Iter "
       ]
      },
      {
       "output_type": "stream",
       "stream": "stdout",
       "text": [
        " 1529\n",
        "Iter "
       ]
      },
      {
       "output_type": "stream",
       "stream": "stdout",
       "text": [
        " 1530\n",
        "Iter "
       ]
      },
      {
       "output_type": "stream",
       "stream": "stdout",
       "text": [
        " 1531\n",
        "Iter "
       ]
      },
      {
       "output_type": "stream",
       "stream": "stdout",
       "text": [
        " 1532\n",
        "Iter "
       ]
      },
      {
       "output_type": "stream",
       "stream": "stdout",
       "text": [
        " 1533\n",
        "Iter "
       ]
      },
      {
       "output_type": "stream",
       "stream": "stdout",
       "text": [
        " 1534\n",
        "Iter "
       ]
      },
      {
       "output_type": "stream",
       "stream": "stdout",
       "text": [
        " 1535\n",
        "Iter "
       ]
      },
      {
       "output_type": "stream",
       "stream": "stdout",
       "text": [
        " 1536\n",
        "Iter "
       ]
      },
      {
       "output_type": "stream",
       "stream": "stdout",
       "text": [
        " 1537\n",
        "Iter "
       ]
      },
      {
       "output_type": "stream",
       "stream": "stdout",
       "text": [
        " 1538\n",
        "Iter "
       ]
      },
      {
       "output_type": "stream",
       "stream": "stdout",
       "text": [
        " 1539\n",
        "Iter "
       ]
      },
      {
       "output_type": "stream",
       "stream": "stdout",
       "text": [
        " 1540\n",
        "Iter "
       ]
      },
      {
       "output_type": "stream",
       "stream": "stdout",
       "text": [
        " 1541\n",
        "Iter "
       ]
      },
      {
       "output_type": "stream",
       "stream": "stdout",
       "text": [
        " 1542\n",
        "Iter "
       ]
      },
      {
       "output_type": "stream",
       "stream": "stdout",
       "text": [
        " 1543\n",
        "Iter "
       ]
      },
      {
       "output_type": "stream",
       "stream": "stdout",
       "text": [
        " 1544\n",
        "Iter "
       ]
      },
      {
       "output_type": "stream",
       "stream": "stdout",
       "text": [
        " 1545\n",
        "Iter "
       ]
      },
      {
       "output_type": "stream",
       "stream": "stdout",
       "text": [
        " 1546\n",
        "Iter "
       ]
      },
      {
       "output_type": "stream",
       "stream": "stdout",
       "text": [
        " 1547\n",
        "Iter "
       ]
      },
      {
       "output_type": "stream",
       "stream": "stdout",
       "text": [
        " 1548\n",
        "Iter "
       ]
      },
      {
       "output_type": "stream",
       "stream": "stdout",
       "text": [
        " 1549\n",
        "Iter "
       ]
      },
      {
       "output_type": "stream",
       "stream": "stdout",
       "text": [
        " 1550\n",
        "Iter "
       ]
      },
      {
       "output_type": "stream",
       "stream": "stdout",
       "text": [
        " 1551\n",
        "Iter "
       ]
      },
      {
       "output_type": "stream",
       "stream": "stdout",
       "text": [
        " 1552\n",
        "Iter "
       ]
      },
      {
       "output_type": "stream",
       "stream": "stdout",
       "text": [
        " 1553\n",
        "Iter "
       ]
      },
      {
       "output_type": "stream",
       "stream": "stdout",
       "text": [
        " 1554\n",
        "Iter "
       ]
      },
      {
       "output_type": "stream",
       "stream": "stdout",
       "text": [
        " 1555\n",
        "Iter "
       ]
      },
      {
       "output_type": "stream",
       "stream": "stdout",
       "text": [
        " 1556\n",
        "Iter "
       ]
      },
      {
       "output_type": "stream",
       "stream": "stdout",
       "text": [
        " 1557\n",
        "Iter "
       ]
      },
      {
       "output_type": "stream",
       "stream": "stdout",
       "text": [
        " 1558\n",
        "Iter "
       ]
      },
      {
       "output_type": "stream",
       "stream": "stdout",
       "text": [
        " 1559\n",
        "Iter "
       ]
      },
      {
       "output_type": "stream",
       "stream": "stdout",
       "text": [
        " 1560\n",
        "Iter "
       ]
      },
      {
       "output_type": "stream",
       "stream": "stdout",
       "text": [
        " 1561\n",
        "Iter "
       ]
      },
      {
       "output_type": "stream",
       "stream": "stdout",
       "text": [
        " 1562\n",
        "Iter "
       ]
      },
      {
       "output_type": "stream",
       "stream": "stdout",
       "text": [
        " 1563\n",
        "Iter "
       ]
      },
      {
       "output_type": "stream",
       "stream": "stdout",
       "text": [
        " 1564\n",
        "Iter "
       ]
      },
      {
       "output_type": "stream",
       "stream": "stdout",
       "text": [
        " 1565\n",
        "Iter "
       ]
      },
      {
       "output_type": "stream",
       "stream": "stdout",
       "text": [
        " 1566\n",
        "Iter "
       ]
      },
      {
       "output_type": "stream",
       "stream": "stdout",
       "text": [
        " 1567\n",
        "Iter "
       ]
      },
      {
       "output_type": "stream",
       "stream": "stdout",
       "text": [
        " 1568\n",
        "Iter "
       ]
      },
      {
       "output_type": "stream",
       "stream": "stdout",
       "text": [
        " 1569\n",
        "Iter "
       ]
      },
      {
       "output_type": "stream",
       "stream": "stdout",
       "text": [
        " 1570\n",
        "Iter "
       ]
      },
      {
       "output_type": "stream",
       "stream": "stdout",
       "text": [
        " 1571\n",
        "Iter "
       ]
      },
      {
       "output_type": "stream",
       "stream": "stdout",
       "text": [
        " 1572\n",
        "Iter "
       ]
      },
      {
       "output_type": "stream",
       "stream": "stdout",
       "text": [
        " 1573\n",
        "Iter "
       ]
      },
      {
       "output_type": "stream",
       "stream": "stdout",
       "text": [
        " 1574\n",
        "Iter "
       ]
      },
      {
       "output_type": "stream",
       "stream": "stdout",
       "text": [
        " 1575\n",
        "Iter "
       ]
      },
      {
       "output_type": "stream",
       "stream": "stdout",
       "text": [
        " 1576\n",
        "Iter "
       ]
      },
      {
       "output_type": "stream",
       "stream": "stdout",
       "text": [
        " 1577\n",
        "Iter "
       ]
      },
      {
       "output_type": "stream",
       "stream": "stdout",
       "text": [
        " 1578\n",
        "Iter "
       ]
      },
      {
       "output_type": "stream",
       "stream": "stdout",
       "text": [
        " 1579\n",
        "Iter "
       ]
      },
      {
       "output_type": "stream",
       "stream": "stdout",
       "text": [
        " 1580\n",
        "Iter "
       ]
      },
      {
       "output_type": "stream",
       "stream": "stdout",
       "text": [
        " 1581\n",
        "Iter "
       ]
      },
      {
       "output_type": "stream",
       "stream": "stdout",
       "text": [
        " 1582\n",
        "Iter "
       ]
      },
      {
       "output_type": "stream",
       "stream": "stdout",
       "text": [
        " 1583\n",
        "Iter "
       ]
      },
      {
       "output_type": "stream",
       "stream": "stdout",
       "text": [
        " 1584\n",
        "Iter "
       ]
      },
      {
       "output_type": "stream",
       "stream": "stdout",
       "text": [
        " 1585\n",
        "Iter "
       ]
      },
      {
       "output_type": "stream",
       "stream": "stdout",
       "text": [
        " 1586\n",
        "Iter "
       ]
      },
      {
       "output_type": "stream",
       "stream": "stdout",
       "text": [
        " 1587\n",
        "Iter "
       ]
      },
      {
       "output_type": "stream",
       "stream": "stdout",
       "text": [
        " 1588\n",
        "Iter "
       ]
      },
      {
       "output_type": "stream",
       "stream": "stdout",
       "text": [
        " 1589\n",
        "Iter "
       ]
      },
      {
       "output_type": "stream",
       "stream": "stdout",
       "text": [
        " 1590\n",
        "Iter "
       ]
      },
      {
       "output_type": "stream",
       "stream": "stdout",
       "text": [
        " 1591\n",
        "Iter "
       ]
      },
      {
       "output_type": "stream",
       "stream": "stdout",
       "text": [
        " 1592\n",
        "Iter "
       ]
      },
      {
       "output_type": "stream",
       "stream": "stdout",
       "text": [
        " 1593\n",
        "Iter "
       ]
      },
      {
       "output_type": "stream",
       "stream": "stdout",
       "text": [
        " 1594\n",
        "Iter "
       ]
      },
      {
       "output_type": "stream",
       "stream": "stdout",
       "text": [
        " 1595\n",
        "Iter "
       ]
      },
      {
       "output_type": "stream",
       "stream": "stdout",
       "text": [
        " 1596\n",
        "Iter "
       ]
      },
      {
       "output_type": "stream",
       "stream": "stdout",
       "text": [
        " 1597\n",
        "Iter "
       ]
      },
      {
       "output_type": "stream",
       "stream": "stdout",
       "text": [
        " 1598\n",
        "Iter "
       ]
      },
      {
       "output_type": "stream",
       "stream": "stdout",
       "text": [
        " 1599\n",
        "Iter "
       ]
      },
      {
       "output_type": "stream",
       "stream": "stdout",
       "text": [
        " 1600\n",
        "Iter "
       ]
      },
      {
       "output_type": "stream",
       "stream": "stdout",
       "text": [
        " 1601\n",
        "Iter "
       ]
      },
      {
       "output_type": "stream",
       "stream": "stdout",
       "text": [
        " 1602\n",
        "Iter "
       ]
      },
      {
       "output_type": "stream",
       "stream": "stdout",
       "text": [
        " 1603\n",
        "Iter "
       ]
      },
      {
       "output_type": "stream",
       "stream": "stdout",
       "text": [
        " 1604\n",
        "Iter "
       ]
      },
      {
       "output_type": "stream",
       "stream": "stdout",
       "text": [
        " 1605\n",
        "Iter "
       ]
      },
      {
       "output_type": "stream",
       "stream": "stdout",
       "text": [
        " 1606\n",
        "Iter "
       ]
      },
      {
       "output_type": "stream",
       "stream": "stdout",
       "text": [
        " 1607\n",
        "Iter "
       ]
      },
      {
       "output_type": "stream",
       "stream": "stdout",
       "text": [
        " 1608\n",
        "Iter "
       ]
      },
      {
       "output_type": "stream",
       "stream": "stdout",
       "text": [
        " 1609\n",
        "Iter "
       ]
      },
      {
       "output_type": "stream",
       "stream": "stdout",
       "text": [
        " 1610\n",
        "Iter "
       ]
      },
      {
       "output_type": "stream",
       "stream": "stdout",
       "text": [
        " 1611\n",
        "Iter "
       ]
      },
      {
       "output_type": "stream",
       "stream": "stdout",
       "text": [
        " 1612\n",
        "Iter "
       ]
      },
      {
       "output_type": "stream",
       "stream": "stdout",
       "text": [
        " 1613\n",
        "Iter "
       ]
      },
      {
       "output_type": "stream",
       "stream": "stdout",
       "text": [
        " 1614\n",
        "Iter "
       ]
      },
      {
       "output_type": "stream",
       "stream": "stdout",
       "text": [
        " 1615\n",
        "Iter "
       ]
      },
      {
       "output_type": "stream",
       "stream": "stdout",
       "text": [
        " 1616\n",
        "Iter "
       ]
      },
      {
       "output_type": "stream",
       "stream": "stdout",
       "text": [
        " 1617\n",
        "Iter "
       ]
      },
      {
       "output_type": "stream",
       "stream": "stdout",
       "text": [
        " 1618\n",
        "Iter "
       ]
      },
      {
       "output_type": "stream",
       "stream": "stdout",
       "text": [
        " 1619\n",
        "Iter "
       ]
      },
      {
       "output_type": "stream",
       "stream": "stdout",
       "text": [
        " 1620\n",
        "Iter "
       ]
      },
      {
       "output_type": "stream",
       "stream": "stdout",
       "text": [
        " 1621\n",
        "Iter "
       ]
      },
      {
       "output_type": "stream",
       "stream": "stdout",
       "text": [
        " 1622\n",
        "Iter "
       ]
      },
      {
       "output_type": "stream",
       "stream": "stdout",
       "text": [
        " 1623\n",
        "Iter "
       ]
      },
      {
       "output_type": "stream",
       "stream": "stdout",
       "text": [
        " 1624\n",
        "Iter "
       ]
      },
      {
       "output_type": "stream",
       "stream": "stdout",
       "text": [
        " 1625\n",
        "Iter "
       ]
      },
      {
       "output_type": "stream",
       "stream": "stdout",
       "text": [
        " 1626\n",
        "Iter "
       ]
      },
      {
       "output_type": "stream",
       "stream": "stdout",
       "text": [
        " 1627\n",
        "Iter "
       ]
      },
      {
       "output_type": "stream",
       "stream": "stdout",
       "text": [
        " 1628\n",
        "Iter "
       ]
      },
      {
       "output_type": "stream",
       "stream": "stdout",
       "text": [
        " 1629\n",
        "Iter "
       ]
      },
      {
       "output_type": "stream",
       "stream": "stdout",
       "text": [
        " 1630\n",
        "Iter "
       ]
      },
      {
       "output_type": "stream",
       "stream": "stdout",
       "text": [
        " 1631\n",
        "Iter "
       ]
      },
      {
       "output_type": "stream",
       "stream": "stdout",
       "text": [
        " 1632\n",
        "Iter "
       ]
      },
      {
       "output_type": "stream",
       "stream": "stdout",
       "text": [
        " 1633\n",
        "Iter "
       ]
      },
      {
       "output_type": "stream",
       "stream": "stdout",
       "text": [
        " 1634\n",
        "Iter "
       ]
      },
      {
       "output_type": "stream",
       "stream": "stdout",
       "text": [
        " 1635\n",
        "Iter "
       ]
      },
      {
       "output_type": "stream",
       "stream": "stdout",
       "text": [
        " 1636\n",
        "Iter "
       ]
      },
      {
       "output_type": "stream",
       "stream": "stdout",
       "text": [
        " 1637\n",
        "Iter "
       ]
      },
      {
       "output_type": "stream",
       "stream": "stdout",
       "text": [
        " 1638\n",
        "Iter "
       ]
      },
      {
       "output_type": "stream",
       "stream": "stdout",
       "text": [
        " 1639\n",
        "Iter "
       ]
      },
      {
       "output_type": "stream",
       "stream": "stdout",
       "text": [
        " 1640\n",
        "Iter "
       ]
      },
      {
       "output_type": "stream",
       "stream": "stdout",
       "text": [
        " 1641\n",
        "Iter "
       ]
      },
      {
       "output_type": "stream",
       "stream": "stdout",
       "text": [
        " 1642\n",
        "Iter "
       ]
      },
      {
       "output_type": "stream",
       "stream": "stdout",
       "text": [
        " 1643\n",
        "Iter "
       ]
      },
      {
       "output_type": "stream",
       "stream": "stdout",
       "text": [
        " 1644\n",
        "Iter "
       ]
      },
      {
       "output_type": "stream",
       "stream": "stdout",
       "text": [
        " 1645\n",
        "Iter "
       ]
      },
      {
       "output_type": "stream",
       "stream": "stdout",
       "text": [
        " 1646\n",
        "Iter "
       ]
      },
      {
       "output_type": "stream",
       "stream": "stdout",
       "text": [
        " 1647\n",
        "Iter "
       ]
      },
      {
       "output_type": "stream",
       "stream": "stdout",
       "text": [
        " 1648\n",
        "Iter "
       ]
      },
      {
       "output_type": "stream",
       "stream": "stdout",
       "text": [
        " 1649\n",
        "Iter "
       ]
      },
      {
       "output_type": "stream",
       "stream": "stdout",
       "text": [
        " 1650\n",
        "Iter "
       ]
      },
      {
       "output_type": "stream",
       "stream": "stdout",
       "text": [
        " 1651\n",
        "Iter "
       ]
      },
      {
       "output_type": "stream",
       "stream": "stdout",
       "text": [
        " 1652\n",
        "Iter "
       ]
      },
      {
       "output_type": "stream",
       "stream": "stdout",
       "text": [
        " 1653\n",
        "Iter "
       ]
      },
      {
       "output_type": "stream",
       "stream": "stdout",
       "text": [
        " 1654\n",
        "Iter "
       ]
      },
      {
       "output_type": "stream",
       "stream": "stdout",
       "text": [
        " 1655\n",
        "Iter "
       ]
      },
      {
       "output_type": "stream",
       "stream": "stdout",
       "text": [
        " 1656\n",
        "Iter "
       ]
      },
      {
       "output_type": "stream",
       "stream": "stdout",
       "text": [
        " 1657\n",
        "Iter "
       ]
      },
      {
       "output_type": "stream",
       "stream": "stdout",
       "text": [
        " 1658\n",
        "Iter "
       ]
      },
      {
       "output_type": "stream",
       "stream": "stdout",
       "text": [
        " 1659\n",
        "Iter "
       ]
      },
      {
       "output_type": "stream",
       "stream": "stdout",
       "text": [
        " 1660\n",
        "Iter "
       ]
      },
      {
       "output_type": "stream",
       "stream": "stdout",
       "text": [
        " 1661\n",
        "Iter "
       ]
      },
      {
       "output_type": "stream",
       "stream": "stdout",
       "text": [
        " 1662\n",
        "Iter "
       ]
      },
      {
       "output_type": "stream",
       "stream": "stdout",
       "text": [
        " 1663\n",
        "Iter "
       ]
      },
      {
       "output_type": "stream",
       "stream": "stdout",
       "text": [
        " 1664\n",
        "Iter "
       ]
      },
      {
       "output_type": "stream",
       "stream": "stdout",
       "text": [
        " 1665\n",
        "Iter "
       ]
      },
      {
       "output_type": "stream",
       "stream": "stdout",
       "text": [
        " 1666\n",
        "Iter "
       ]
      },
      {
       "output_type": "stream",
       "stream": "stdout",
       "text": [
        " 1667\n",
        "Iter "
       ]
      },
      {
       "output_type": "stream",
       "stream": "stdout",
       "text": [
        " 1668\n",
        "Iter "
       ]
      },
      {
       "output_type": "stream",
       "stream": "stdout",
       "text": [
        " 1669\n",
        "Iter "
       ]
      },
      {
       "output_type": "stream",
       "stream": "stdout",
       "text": [
        " 1670\n",
        "Iter "
       ]
      },
      {
       "output_type": "stream",
       "stream": "stdout",
       "text": [
        " 1671\n",
        "Iter "
       ]
      },
      {
       "output_type": "stream",
       "stream": "stdout",
       "text": [
        " 1672\n",
        "Iter "
       ]
      },
      {
       "output_type": "stream",
       "stream": "stdout",
       "text": [
        " 1673\n",
        "Iter "
       ]
      },
      {
       "output_type": "stream",
       "stream": "stdout",
       "text": [
        " 1674\n",
        "Iter "
       ]
      },
      {
       "output_type": "stream",
       "stream": "stdout",
       "text": [
        " 1675\n",
        "Iter "
       ]
      },
      {
       "output_type": "stream",
       "stream": "stdout",
       "text": [
        " 1676\n",
        "Iter "
       ]
      },
      {
       "output_type": "stream",
       "stream": "stdout",
       "text": [
        " 1677\n",
        "Iter "
       ]
      },
      {
       "output_type": "stream",
       "stream": "stdout",
       "text": [
        " 1678\n",
        "Iter "
       ]
      },
      {
       "output_type": "stream",
       "stream": "stdout",
       "text": [
        " 1679\n",
        "Iter "
       ]
      },
      {
       "output_type": "stream",
       "stream": "stdout",
       "text": [
        " 1680\n",
        "Iter "
       ]
      },
      {
       "output_type": "stream",
       "stream": "stdout",
       "text": [
        " 1681\n",
        "Iter "
       ]
      },
      {
       "output_type": "stream",
       "stream": "stdout",
       "text": [
        " 1682\n",
        "Iter "
       ]
      },
      {
       "output_type": "stream",
       "stream": "stdout",
       "text": [
        " 1683\n",
        "Iter "
       ]
      },
      {
       "output_type": "stream",
       "stream": "stdout",
       "text": [
        " 1684\n",
        "Iter "
       ]
      },
      {
       "output_type": "stream",
       "stream": "stdout",
       "text": [
        " 1685\n",
        "Iter "
       ]
      },
      {
       "output_type": "stream",
       "stream": "stdout",
       "text": [
        " 1686\n",
        "Iter "
       ]
      },
      {
       "output_type": "stream",
       "stream": "stdout",
       "text": [
        " 1687\n",
        "Iter "
       ]
      },
      {
       "output_type": "stream",
       "stream": "stdout",
       "text": [
        " 1688\n",
        "Iter "
       ]
      },
      {
       "output_type": "stream",
       "stream": "stdout",
       "text": [
        " 1689\n",
        "Iter "
       ]
      },
      {
       "output_type": "stream",
       "stream": "stdout",
       "text": [
        " 1690\n",
        "Iter "
       ]
      },
      {
       "output_type": "stream",
       "stream": "stdout",
       "text": [
        " 1691\n",
        "Iter "
       ]
      },
      {
       "output_type": "stream",
       "stream": "stdout",
       "text": [
        " 1692\n",
        "Iter "
       ]
      },
      {
       "output_type": "stream",
       "stream": "stdout",
       "text": [
        " 1693\n",
        "Iter "
       ]
      },
      {
       "output_type": "stream",
       "stream": "stdout",
       "text": [
        " 1694\n",
        "Iter "
       ]
      },
      {
       "output_type": "stream",
       "stream": "stdout",
       "text": [
        " 1695\n",
        "Iter "
       ]
      },
      {
       "output_type": "stream",
       "stream": "stdout",
       "text": [
        " 1696\n",
        "Iter "
       ]
      },
      {
       "output_type": "stream",
       "stream": "stdout",
       "text": [
        " 1697\n",
        "Iter "
       ]
      },
      {
       "output_type": "stream",
       "stream": "stdout",
       "text": [
        " 1698\n",
        "Iter "
       ]
      },
      {
       "output_type": "stream",
       "stream": "stdout",
       "text": [
        " 1699\n",
        "Iter "
       ]
      },
      {
       "output_type": "stream",
       "stream": "stdout",
       "text": [
        " 1700\n",
        "Iter "
       ]
      },
      {
       "output_type": "stream",
       "stream": "stdout",
       "text": [
        " 1701\n",
        "Iter "
       ]
      },
      {
       "output_type": "stream",
       "stream": "stdout",
       "text": [
        " 1702\n",
        "Iter "
       ]
      },
      {
       "output_type": "stream",
       "stream": "stdout",
       "text": [
        " 1703\n",
        "Iter "
       ]
      },
      {
       "output_type": "stream",
       "stream": "stdout",
       "text": [
        " 1704\n",
        "Iter "
       ]
      },
      {
       "output_type": "stream",
       "stream": "stdout",
       "text": [
        " 1705\n",
        "Iter "
       ]
      },
      {
       "output_type": "stream",
       "stream": "stdout",
       "text": [
        " 1706\n",
        "Iter "
       ]
      },
      {
       "output_type": "stream",
       "stream": "stdout",
       "text": [
        " 1707\n",
        "Iter "
       ]
      },
      {
       "output_type": "stream",
       "stream": "stdout",
       "text": [
        " 1708\n",
        "Iter "
       ]
      },
      {
       "output_type": "stream",
       "stream": "stdout",
       "text": [
        " 1709\n",
        "Iter "
       ]
      },
      {
       "output_type": "stream",
       "stream": "stdout",
       "text": [
        " 1710\n",
        "Iter "
       ]
      },
      {
       "output_type": "stream",
       "stream": "stdout",
       "text": [
        " 1711\n",
        "Iter "
       ]
      },
      {
       "output_type": "stream",
       "stream": "stdout",
       "text": [
        " 1712\n",
        "Iter "
       ]
      },
      {
       "output_type": "stream",
       "stream": "stdout",
       "text": [
        " 1713\n",
        "Iter "
       ]
      },
      {
       "output_type": "stream",
       "stream": "stdout",
       "text": [
        " 1714\n",
        "Iter "
       ]
      },
      {
       "output_type": "stream",
       "stream": "stdout",
       "text": [
        " 1715\n",
        "Iter "
       ]
      },
      {
       "output_type": "stream",
       "stream": "stdout",
       "text": [
        " 1716\n",
        "Iter "
       ]
      },
      {
       "output_type": "stream",
       "stream": "stdout",
       "text": [
        " 1717\n",
        "Iter "
       ]
      },
      {
       "output_type": "stream",
       "stream": "stdout",
       "text": [
        " 1718\n",
        "Iter "
       ]
      },
      {
       "output_type": "stream",
       "stream": "stdout",
       "text": [
        " 1719\n",
        "Iter "
       ]
      },
      {
       "output_type": "stream",
       "stream": "stdout",
       "text": [
        " 1720\n",
        "Iter "
       ]
      },
      {
       "output_type": "stream",
       "stream": "stdout",
       "text": [
        " 1721\n",
        "Iter "
       ]
      },
      {
       "output_type": "stream",
       "stream": "stdout",
       "text": [
        " 1722\n",
        "Iter "
       ]
      },
      {
       "output_type": "stream",
       "stream": "stdout",
       "text": [
        " 1723\n",
        "Iter "
       ]
      },
      {
       "output_type": "stream",
       "stream": "stdout",
       "text": [
        " 1724\n",
        "Iter "
       ]
      },
      {
       "output_type": "stream",
       "stream": "stdout",
       "text": [
        " 1725\n",
        "Iter "
       ]
      },
      {
       "output_type": "stream",
       "stream": "stdout",
       "text": [
        " 1726\n",
        "Iter "
       ]
      },
      {
       "output_type": "stream",
       "stream": "stdout",
       "text": [
        " 1727\n",
        "Iter "
       ]
      },
      {
       "output_type": "stream",
       "stream": "stdout",
       "text": [
        " 1728\n",
        "Iter "
       ]
      },
      {
       "output_type": "stream",
       "stream": "stdout",
       "text": [
        " 1729\n",
        "Iter "
       ]
      },
      {
       "output_type": "stream",
       "stream": "stdout",
       "text": [
        " 1730\n",
        "Iter "
       ]
      },
      {
       "output_type": "stream",
       "stream": "stdout",
       "text": [
        " 1731\n",
        "Iter "
       ]
      },
      {
       "output_type": "stream",
       "stream": "stdout",
       "text": [
        " 1732\n",
        "Iter "
       ]
      },
      {
       "output_type": "stream",
       "stream": "stdout",
       "text": [
        " 1733\n",
        "Iter "
       ]
      },
      {
       "output_type": "stream",
       "stream": "stdout",
       "text": [
        " 1734\n",
        "Iter "
       ]
      },
      {
       "output_type": "stream",
       "stream": "stdout",
       "text": [
        " 1735\n",
        "Iter "
       ]
      },
      {
       "output_type": "stream",
       "stream": "stdout",
       "text": [
        " 1736\n",
        "Iter "
       ]
      },
      {
       "output_type": "stream",
       "stream": "stdout",
       "text": [
        " 1737\n",
        "Iter "
       ]
      },
      {
       "output_type": "stream",
       "stream": "stdout",
       "text": [
        " 1738\n",
        "Iter "
       ]
      },
      {
       "output_type": "stream",
       "stream": "stdout",
       "text": [
        " 1739\n",
        "Iter "
       ]
      },
      {
       "output_type": "stream",
       "stream": "stdout",
       "text": [
        " 1740\n",
        "Iter "
       ]
      },
      {
       "output_type": "stream",
       "stream": "stdout",
       "text": [
        " 1741\n",
        "Iter "
       ]
      },
      {
       "output_type": "stream",
       "stream": "stdout",
       "text": [
        " 1742\n",
        "Iter "
       ]
      },
      {
       "output_type": "stream",
       "stream": "stdout",
       "text": [
        " 1743\n",
        "Iter "
       ]
      },
      {
       "output_type": "stream",
       "stream": "stdout",
       "text": [
        " 1744\n",
        "Iter "
       ]
      },
      {
       "output_type": "stream",
       "stream": "stdout",
       "text": [
        " 1745\n",
        "Iter "
       ]
      },
      {
       "output_type": "stream",
       "stream": "stdout",
       "text": [
        " 1746\n",
        "Iter "
       ]
      },
      {
       "output_type": "stream",
       "stream": "stdout",
       "text": [
        " 1747\n",
        "Iter "
       ]
      },
      {
       "output_type": "stream",
       "stream": "stdout",
       "text": [
        " 1748\n",
        "Iter "
       ]
      },
      {
       "output_type": "stream",
       "stream": "stdout",
       "text": [
        " 1749\n",
        "Iter "
       ]
      },
      {
       "output_type": "stream",
       "stream": "stdout",
       "text": [
        " 1750\n",
        "Iter "
       ]
      },
      {
       "output_type": "stream",
       "stream": "stdout",
       "text": [
        " 1751\n",
        "Iter "
       ]
      },
      {
       "output_type": "stream",
       "stream": "stdout",
       "text": [
        " 1752\n",
        "Iter "
       ]
      },
      {
       "output_type": "stream",
       "stream": "stdout",
       "text": [
        " 1753\n",
        "Iter "
       ]
      },
      {
       "output_type": "stream",
       "stream": "stdout",
       "text": [
        " 1754\n",
        "Iter "
       ]
      },
      {
       "output_type": "stream",
       "stream": "stdout",
       "text": [
        " 1755\n",
        "Iter "
       ]
      },
      {
       "output_type": "stream",
       "stream": "stdout",
       "text": [
        " 1756\n",
        "Iter "
       ]
      },
      {
       "output_type": "stream",
       "stream": "stdout",
       "text": [
        " 1757\n",
        "Iter "
       ]
      },
      {
       "output_type": "stream",
       "stream": "stdout",
       "text": [
        " 1758\n",
        "Iter "
       ]
      },
      {
       "output_type": "stream",
       "stream": "stdout",
       "text": [
        " 1759\n",
        "Iter "
       ]
      },
      {
       "output_type": "stream",
       "stream": "stdout",
       "text": [
        " 1760\n",
        "Iter "
       ]
      },
      {
       "output_type": "stream",
       "stream": "stdout",
       "text": [
        " 1761\n",
        "Iter "
       ]
      },
      {
       "output_type": "stream",
       "stream": "stdout",
       "text": [
        " 1762\n",
        "Iter "
       ]
      },
      {
       "output_type": "stream",
       "stream": "stdout",
       "text": [
        " 1763\n",
        "Iter "
       ]
      },
      {
       "output_type": "stream",
       "stream": "stdout",
       "text": [
        " 1764\n",
        "Iter "
       ]
      },
      {
       "output_type": "stream",
       "stream": "stdout",
       "text": [
        " 1765\n",
        "Iter "
       ]
      },
      {
       "output_type": "stream",
       "stream": "stdout",
       "text": [
        " 1766\n",
        "Iter "
       ]
      },
      {
       "output_type": "stream",
       "stream": "stdout",
       "text": [
        " 1767\n",
        "Iter "
       ]
      },
      {
       "output_type": "stream",
       "stream": "stdout",
       "text": [
        " 1768\n",
        "Iter "
       ]
      },
      {
       "output_type": "stream",
       "stream": "stdout",
       "text": [
        " 1769\n",
        "Iter "
       ]
      },
      {
       "output_type": "stream",
       "stream": "stdout",
       "text": [
        " 1770\n",
        "Iter "
       ]
      },
      {
       "output_type": "stream",
       "stream": "stdout",
       "text": [
        " 1771\n",
        "Iter "
       ]
      },
      {
       "output_type": "stream",
       "stream": "stdout",
       "text": [
        " 1772\n",
        "Iter "
       ]
      },
      {
       "output_type": "stream",
       "stream": "stdout",
       "text": [
        " 1773\n",
        "Iter "
       ]
      },
      {
       "output_type": "stream",
       "stream": "stdout",
       "text": [
        " 1774\n",
        "Iter "
       ]
      },
      {
       "output_type": "stream",
       "stream": "stdout",
       "text": [
        " 1775\n",
        "Iter "
       ]
      },
      {
       "output_type": "stream",
       "stream": "stdout",
       "text": [
        " 1776\n",
        "Iter "
       ]
      },
      {
       "output_type": "stream",
       "stream": "stdout",
       "text": [
        " 1777\n",
        "Iter "
       ]
      },
      {
       "output_type": "stream",
       "stream": "stdout",
       "text": [
        " 1778\n",
        "Iter "
       ]
      },
      {
       "output_type": "stream",
       "stream": "stdout",
       "text": [
        " 1779\n",
        "Iter "
       ]
      },
      {
       "output_type": "stream",
       "stream": "stdout",
       "text": [
        " 1780\n",
        "Iter "
       ]
      },
      {
       "output_type": "stream",
       "stream": "stdout",
       "text": [
        " 1781\n",
        "Iter "
       ]
      },
      {
       "output_type": "stream",
       "stream": "stdout",
       "text": [
        " 1782\n",
        "Iter "
       ]
      },
      {
       "output_type": "stream",
       "stream": "stdout",
       "text": [
        " 1783\n",
        "Iter "
       ]
      },
      {
       "output_type": "stream",
       "stream": "stdout",
       "text": [
        " 1784\n",
        "Iter "
       ]
      },
      {
       "output_type": "stream",
       "stream": "stdout",
       "text": [
        " 1785\n",
        "Iter "
       ]
      },
      {
       "output_type": "stream",
       "stream": "stdout",
       "text": [
        " 1786\n",
        "Iter "
       ]
      },
      {
       "output_type": "stream",
       "stream": "stdout",
       "text": [
        " 1787\n",
        "Iter "
       ]
      },
      {
       "output_type": "stream",
       "stream": "stdout",
       "text": [
        " 1788\n",
        "Iter "
       ]
      },
      {
       "output_type": "stream",
       "stream": "stdout",
       "text": [
        " 1789\n",
        "Iter "
       ]
      },
      {
       "output_type": "stream",
       "stream": "stdout",
       "text": [
        " 1790\n",
        "Iter "
       ]
      },
      {
       "output_type": "stream",
       "stream": "stdout",
       "text": [
        " 1791\n",
        "Iter "
       ]
      },
      {
       "output_type": "stream",
       "stream": "stdout",
       "text": [
        " 1792\n",
        "Iter "
       ]
      },
      {
       "output_type": "stream",
       "stream": "stdout",
       "text": [
        " 1793\n",
        "Iter "
       ]
      },
      {
       "output_type": "stream",
       "stream": "stdout",
       "text": [
        " 1794\n",
        "Iter "
       ]
      },
      {
       "output_type": "stream",
       "stream": "stdout",
       "text": [
        " 1795\n",
        "Iter "
       ]
      },
      {
       "output_type": "stream",
       "stream": "stdout",
       "text": [
        " 1796\n",
        "Iter "
       ]
      },
      {
       "output_type": "stream",
       "stream": "stdout",
       "text": [
        " 1797\n",
        "Iter "
       ]
      },
      {
       "output_type": "stream",
       "stream": "stdout",
       "text": [
        " 1798\n",
        "Iter "
       ]
      },
      {
       "output_type": "stream",
       "stream": "stdout",
       "text": [
        " 1799\n",
        "Iter "
       ]
      },
      {
       "output_type": "stream",
       "stream": "stdout",
       "text": [
        " 1800\n",
        "Iter "
       ]
      },
      {
       "output_type": "stream",
       "stream": "stdout",
       "text": [
        " 1801\n",
        "Iter "
       ]
      },
      {
       "output_type": "stream",
       "stream": "stdout",
       "text": [
        " 1802\n",
        "Iter "
       ]
      },
      {
       "output_type": "stream",
       "stream": "stdout",
       "text": [
        " 1803\n",
        "Iter "
       ]
      },
      {
       "output_type": "stream",
       "stream": "stdout",
       "text": [
        " 1804\n",
        "Iter "
       ]
      },
      {
       "output_type": "stream",
       "stream": "stdout",
       "text": [
        " 1805\n",
        "Iter "
       ]
      },
      {
       "output_type": "stream",
       "stream": "stdout",
       "text": [
        " 1806\n",
        "Iter "
       ]
      },
      {
       "output_type": "stream",
       "stream": "stdout",
       "text": [
        " 1807\n",
        "Iter "
       ]
      },
      {
       "output_type": "stream",
       "stream": "stdout",
       "text": [
        " 1808\n",
        "Iter "
       ]
      },
      {
       "output_type": "stream",
       "stream": "stdout",
       "text": [
        " 1809\n",
        "Iter "
       ]
      },
      {
       "output_type": "stream",
       "stream": "stdout",
       "text": [
        " 1810\n",
        "Iter "
       ]
      },
      {
       "output_type": "stream",
       "stream": "stdout",
       "text": [
        " 1811\n",
        "Iter "
       ]
      },
      {
       "output_type": "stream",
       "stream": "stdout",
       "text": [
        " 1812\n",
        "Iter "
       ]
      },
      {
       "output_type": "stream",
       "stream": "stdout",
       "text": [
        " 1813\n",
        "Iter "
       ]
      },
      {
       "output_type": "stream",
       "stream": "stdout",
       "text": [
        " 1814\n",
        "Iter "
       ]
      },
      {
       "output_type": "stream",
       "stream": "stdout",
       "text": [
        " 1815\n",
        "Iter "
       ]
      },
      {
       "output_type": "stream",
       "stream": "stdout",
       "text": [
        " 1816\n",
        "Iter "
       ]
      },
      {
       "output_type": "stream",
       "stream": "stdout",
       "text": [
        " 1817\n",
        "Iter "
       ]
      },
      {
       "output_type": "stream",
       "stream": "stdout",
       "text": [
        " 1818\n",
        "Iter "
       ]
      },
      {
       "output_type": "stream",
       "stream": "stdout",
       "text": [
        " 1819\n",
        "Iter "
       ]
      },
      {
       "output_type": "stream",
       "stream": "stdout",
       "text": [
        " 1820\n",
        "Iter "
       ]
      },
      {
       "output_type": "stream",
       "stream": "stdout",
       "text": [
        " 1821\n",
        "Iter "
       ]
      },
      {
       "output_type": "stream",
       "stream": "stdout",
       "text": [
        " 1822\n",
        "Iter "
       ]
      },
      {
       "output_type": "stream",
       "stream": "stdout",
       "text": [
        " 1823\n",
        "Iter "
       ]
      },
      {
       "output_type": "stream",
       "stream": "stdout",
       "text": [
        " 1824\n",
        "Iter "
       ]
      },
      {
       "output_type": "stream",
       "stream": "stdout",
       "text": [
        " 1825\n",
        "Iter "
       ]
      },
      {
       "output_type": "stream",
       "stream": "stdout",
       "text": [
        " 1826\n",
        "Iter "
       ]
      },
      {
       "output_type": "stream",
       "stream": "stdout",
       "text": [
        " 1827\n",
        "Iter "
       ]
      },
      {
       "output_type": "stream",
       "stream": "stdout",
       "text": [
        " 1828\n",
        "Iter "
       ]
      },
      {
       "output_type": "stream",
       "stream": "stdout",
       "text": [
        " 1829\n",
        "Iter "
       ]
      },
      {
       "output_type": "stream",
       "stream": "stdout",
       "text": [
        " 1830\n",
        "Iter "
       ]
      },
      {
       "output_type": "stream",
       "stream": "stdout",
       "text": [
        " 1831\n",
        "Iter "
       ]
      },
      {
       "output_type": "stream",
       "stream": "stdout",
       "text": [
        " 1832\n",
        "Iter "
       ]
      },
      {
       "output_type": "stream",
       "stream": "stdout",
       "text": [
        " 1833\n",
        "Iter "
       ]
      },
      {
       "output_type": "stream",
       "stream": "stdout",
       "text": [
        " 1834\n",
        "Iter "
       ]
      },
      {
       "output_type": "stream",
       "stream": "stdout",
       "text": [
        " 1835\n",
        "Iter "
       ]
      },
      {
       "output_type": "stream",
       "stream": "stdout",
       "text": [
        " 1836\n",
        "Iter "
       ]
      },
      {
       "output_type": "stream",
       "stream": "stdout",
       "text": [
        " 1837\n",
        "Iter "
       ]
      },
      {
       "output_type": "stream",
       "stream": "stdout",
       "text": [
        " 1838\n",
        "Iter "
       ]
      },
      {
       "output_type": "stream",
       "stream": "stdout",
       "text": [
        " 1839\n",
        "Iter "
       ]
      },
      {
       "output_type": "stream",
       "stream": "stdout",
       "text": [
        " 1840\n",
        "Iter "
       ]
      },
      {
       "output_type": "stream",
       "stream": "stdout",
       "text": [
        " 1841\n",
        "Iter "
       ]
      },
      {
       "output_type": "stream",
       "stream": "stdout",
       "text": [
        " 1842\n",
        "Iter "
       ]
      },
      {
       "output_type": "stream",
       "stream": "stdout",
       "text": [
        " 1843\n",
        "Iter "
       ]
      },
      {
       "output_type": "stream",
       "stream": "stdout",
       "text": [
        " 1844\n",
        "Iter "
       ]
      },
      {
       "output_type": "stream",
       "stream": "stdout",
       "text": [
        " 1845\n",
        "Iter "
       ]
      },
      {
       "output_type": "stream",
       "stream": "stdout",
       "text": [
        " 1846\n",
        "Iter "
       ]
      },
      {
       "output_type": "stream",
       "stream": "stdout",
       "text": [
        " 1847\n",
        "Iter "
       ]
      },
      {
       "output_type": "stream",
       "stream": "stdout",
       "text": [
        " 1848\n",
        "Iter "
       ]
      },
      {
       "output_type": "stream",
       "stream": "stdout",
       "text": [
        " 1849\n",
        "Iter "
       ]
      },
      {
       "output_type": "stream",
       "stream": "stdout",
       "text": [
        " 1850\n",
        "Iter "
       ]
      },
      {
       "output_type": "stream",
       "stream": "stdout",
       "text": [
        " 1851\n",
        "Iter "
       ]
      },
      {
       "output_type": "stream",
       "stream": "stdout",
       "text": [
        " 1852\n",
        "Iter "
       ]
      },
      {
       "output_type": "stream",
       "stream": "stdout",
       "text": [
        " 1853\n",
        "Iter "
       ]
      },
      {
       "output_type": "stream",
       "stream": "stdout",
       "text": [
        " 1854\n",
        "Iter "
       ]
      },
      {
       "output_type": "stream",
       "stream": "stdout",
       "text": [
        " 1855\n",
        "Iter "
       ]
      },
      {
       "output_type": "stream",
       "stream": "stdout",
       "text": [
        " 1856\n",
        "Iter "
       ]
      },
      {
       "output_type": "stream",
       "stream": "stdout",
       "text": [
        " 1857\n",
        "Iter "
       ]
      },
      {
       "output_type": "stream",
       "stream": "stdout",
       "text": [
        " 1858\n",
        "Iter "
       ]
      },
      {
       "output_type": "stream",
       "stream": "stdout",
       "text": [
        " 1859\n",
        "Iter "
       ]
      },
      {
       "output_type": "stream",
       "stream": "stdout",
       "text": [
        " 1860\n",
        "Iter "
       ]
      },
      {
       "output_type": "stream",
       "stream": "stdout",
       "text": [
        " 1861\n",
        "Iter "
       ]
      },
      {
       "output_type": "stream",
       "stream": "stdout",
       "text": [
        " 1862\n",
        "Iter "
       ]
      },
      {
       "output_type": "stream",
       "stream": "stdout",
       "text": [
        " 1863\n",
        "Iter "
       ]
      },
      {
       "output_type": "stream",
       "stream": "stdout",
       "text": [
        " 1864\n",
        "Iter "
       ]
      },
      {
       "output_type": "stream",
       "stream": "stdout",
       "text": [
        " 1865\n",
        "Iter "
       ]
      },
      {
       "output_type": "stream",
       "stream": "stdout",
       "text": [
        " 1866\n",
        "Iter "
       ]
      },
      {
       "output_type": "stream",
       "stream": "stdout",
       "text": [
        " 1867\n",
        "Iter "
       ]
      },
      {
       "output_type": "stream",
       "stream": "stdout",
       "text": [
        " 1868\n",
        "Iter "
       ]
      },
      {
       "output_type": "stream",
       "stream": "stdout",
       "text": [
        " 1869\n",
        "Iter "
       ]
      },
      {
       "output_type": "stream",
       "stream": "stdout",
       "text": [
        " 1870\n",
        "Iter "
       ]
      },
      {
       "output_type": "stream",
       "stream": "stdout",
       "text": [
        " 1871\n",
        "Iter "
       ]
      },
      {
       "output_type": "stream",
       "stream": "stdout",
       "text": [
        " 1872\n",
        "Iter "
       ]
      },
      {
       "output_type": "stream",
       "stream": "stdout",
       "text": [
        " 1873\n",
        "Iter "
       ]
      },
      {
       "output_type": "stream",
       "stream": "stdout",
       "text": [
        " 1874\n",
        "Iter "
       ]
      },
      {
       "output_type": "stream",
       "stream": "stdout",
       "text": [
        " 1875\n",
        "Iter "
       ]
      },
      {
       "output_type": "stream",
       "stream": "stdout",
       "text": [
        " 1876\n",
        "Iter "
       ]
      },
      {
       "output_type": "stream",
       "stream": "stdout",
       "text": [
        " 1877\n",
        "Iter "
       ]
      },
      {
       "output_type": "stream",
       "stream": "stdout",
       "text": [
        " 1878\n",
        "Iter "
       ]
      },
      {
       "output_type": "stream",
       "stream": "stdout",
       "text": [
        " 1879\n",
        "Iter "
       ]
      },
      {
       "output_type": "stream",
       "stream": "stdout",
       "text": [
        " 1880\n",
        "Iter "
       ]
      },
      {
       "output_type": "stream",
       "stream": "stdout",
       "text": [
        " 1881\n",
        "Iter "
       ]
      },
      {
       "output_type": "stream",
       "stream": "stdout",
       "text": [
        " 1882\n",
        "Iter "
       ]
      },
      {
       "output_type": "stream",
       "stream": "stdout",
       "text": [
        " 1883\n",
        "Iter "
       ]
      },
      {
       "output_type": "stream",
       "stream": "stdout",
       "text": [
        " 1884\n",
        "Iter "
       ]
      },
      {
       "output_type": "stream",
       "stream": "stdout",
       "text": [
        " 1885\n",
        "Iter "
       ]
      },
      {
       "output_type": "stream",
       "stream": "stdout",
       "text": [
        " 1886\n",
        "Iter "
       ]
      },
      {
       "output_type": "stream",
       "stream": "stdout",
       "text": [
        " 1887\n",
        "Iter "
       ]
      },
      {
       "output_type": "stream",
       "stream": "stdout",
       "text": [
        " 1888\n",
        "Iter "
       ]
      },
      {
       "output_type": "stream",
       "stream": "stdout",
       "text": [
        " 1889\n",
        "Iter "
       ]
      },
      {
       "output_type": "stream",
       "stream": "stdout",
       "text": [
        " 1890\n",
        "Iter "
       ]
      },
      {
       "output_type": "stream",
       "stream": "stdout",
       "text": [
        " 1891\n",
        "Iter "
       ]
      },
      {
       "output_type": "stream",
       "stream": "stdout",
       "text": [
        " 1892\n",
        "Iter "
       ]
      },
      {
       "output_type": "stream",
       "stream": "stdout",
       "text": [
        " 1893\n",
        "Iter "
       ]
      },
      {
       "output_type": "stream",
       "stream": "stdout",
       "text": [
        " 1894\n",
        "Iter "
       ]
      },
      {
       "output_type": "stream",
       "stream": "stdout",
       "text": [
        " 1895\n",
        "Iter "
       ]
      },
      {
       "output_type": "stream",
       "stream": "stdout",
       "text": [
        " 1896\n",
        "Iter "
       ]
      },
      {
       "output_type": "stream",
       "stream": "stdout",
       "text": [
        " 1897\n",
        "Iter "
       ]
      },
      {
       "output_type": "stream",
       "stream": "stdout",
       "text": [
        " 1898\n",
        "Iter "
       ]
      },
      {
       "output_type": "stream",
       "stream": "stdout",
       "text": [
        " 1899\n",
        "Iter "
       ]
      },
      {
       "output_type": "stream",
       "stream": "stdout",
       "text": [
        " 1900\n",
        "Iter "
       ]
      },
      {
       "output_type": "stream",
       "stream": "stdout",
       "text": [
        " 1901\n",
        "Iter "
       ]
      },
      {
       "output_type": "stream",
       "stream": "stdout",
       "text": [
        " 1902\n",
        "Iter "
       ]
      },
      {
       "output_type": "stream",
       "stream": "stdout",
       "text": [
        " 1903\n",
        "Iter "
       ]
      },
      {
       "output_type": "stream",
       "stream": "stdout",
       "text": [
        " 1904\n",
        "Iter "
       ]
      },
      {
       "output_type": "stream",
       "stream": "stdout",
       "text": [
        " 1905\n",
        "Iter "
       ]
      },
      {
       "output_type": "stream",
       "stream": "stdout",
       "text": [
        " 1906\n",
        "Iter "
       ]
      },
      {
       "output_type": "stream",
       "stream": "stdout",
       "text": [
        " 1907\n",
        "Iter "
       ]
      },
      {
       "output_type": "stream",
       "stream": "stdout",
       "text": [
        " 1908\n",
        "Iter "
       ]
      },
      {
       "output_type": "stream",
       "stream": "stdout",
       "text": [
        " 1909\n",
        "Iter "
       ]
      },
      {
       "output_type": "stream",
       "stream": "stdout",
       "text": [
        " 1910\n",
        "Iter "
       ]
      },
      {
       "output_type": "stream",
       "stream": "stdout",
       "text": [
        " 1911\n",
        "Iter "
       ]
      },
      {
       "output_type": "stream",
       "stream": "stdout",
       "text": [
        " 1912\n",
        "Iter "
       ]
      },
      {
       "output_type": "stream",
       "stream": "stdout",
       "text": [
        " 1913\n",
        "Iter "
       ]
      },
      {
       "output_type": "stream",
       "stream": "stdout",
       "text": [
        " 1914\n",
        "Iter "
       ]
      },
      {
       "output_type": "stream",
       "stream": "stdout",
       "text": [
        " 1915\n",
        "Iter "
       ]
      },
      {
       "output_type": "stream",
       "stream": "stdout",
       "text": [
        " 1916\n",
        "Iter "
       ]
      },
      {
       "output_type": "stream",
       "stream": "stdout",
       "text": [
        " 1917\n",
        "Iter "
       ]
      },
      {
       "output_type": "stream",
       "stream": "stdout",
       "text": [
        " 1918\n",
        "Iter "
       ]
      },
      {
       "output_type": "stream",
       "stream": "stdout",
       "text": [
        " 1919\n",
        "Iter "
       ]
      },
      {
       "output_type": "stream",
       "stream": "stdout",
       "text": [
        " 1920\n",
        "Iter "
       ]
      },
      {
       "output_type": "stream",
       "stream": "stdout",
       "text": [
        " 1921\n",
        "Iter "
       ]
      },
      {
       "output_type": "stream",
       "stream": "stdout",
       "text": [
        " 1922\n",
        "Iter "
       ]
      },
      {
       "output_type": "stream",
       "stream": "stdout",
       "text": [
        " 1923\n",
        "Iter "
       ]
      },
      {
       "output_type": "stream",
       "stream": "stdout",
       "text": [
        " 1924\n",
        "Iter "
       ]
      },
      {
       "output_type": "stream",
       "stream": "stdout",
       "text": [
        " 1925\n",
        "Iter "
       ]
      },
      {
       "output_type": "stream",
       "stream": "stdout",
       "text": [
        " 1926\n",
        "Iter "
       ]
      },
      {
       "output_type": "stream",
       "stream": "stdout",
       "text": [
        " 1927\n",
        "Iter "
       ]
      },
      {
       "output_type": "stream",
       "stream": "stdout",
       "text": [
        " 1928\n",
        "Iter "
       ]
      },
      {
       "output_type": "stream",
       "stream": "stdout",
       "text": [
        " 1929\n",
        "Iter "
       ]
      },
      {
       "output_type": "stream",
       "stream": "stdout",
       "text": [
        " 1930\n",
        "Iter "
       ]
      },
      {
       "output_type": "stream",
       "stream": "stdout",
       "text": [
        " 1931\n",
        "Iter "
       ]
      },
      {
       "output_type": "stream",
       "stream": "stdout",
       "text": [
        " 1932\n",
        "Iter "
       ]
      },
      {
       "output_type": "stream",
       "stream": "stdout",
       "text": [
        " 1933\n",
        "Iter "
       ]
      },
      {
       "output_type": "stream",
       "stream": "stdout",
       "text": [
        " 1934\n",
        "Iter "
       ]
      },
      {
       "output_type": "stream",
       "stream": "stdout",
       "text": [
        " 1935\n",
        "Iter "
       ]
      },
      {
       "output_type": "stream",
       "stream": "stdout",
       "text": [
        " 1936\n",
        "Iter "
       ]
      },
      {
       "output_type": "stream",
       "stream": "stdout",
       "text": [
        " 1937\n",
        "Iter "
       ]
      },
      {
       "output_type": "stream",
       "stream": "stdout",
       "text": [
        " 1938\n",
        "Iter "
       ]
      },
      {
       "output_type": "stream",
       "stream": "stdout",
       "text": [
        " 1939\n",
        "Iter "
       ]
      },
      {
       "output_type": "stream",
       "stream": "stdout",
       "text": [
        " 1940\n",
        "Iter "
       ]
      },
      {
       "output_type": "stream",
       "stream": "stdout",
       "text": [
        " 1941\n",
        "Iter "
       ]
      },
      {
       "output_type": "stream",
       "stream": "stdout",
       "text": [
        " 1942\n",
        "Iter "
       ]
      },
      {
       "output_type": "stream",
       "stream": "stdout",
       "text": [
        " 1943\n",
        "Iter "
       ]
      },
      {
       "output_type": "stream",
       "stream": "stdout",
       "text": [
        " 1944\n",
        "Iter "
       ]
      },
      {
       "output_type": "stream",
       "stream": "stdout",
       "text": [
        " 1945\n",
        "Iter "
       ]
      },
      {
       "output_type": "stream",
       "stream": "stdout",
       "text": [
        " 1946\n",
        "Iter "
       ]
      },
      {
       "output_type": "stream",
       "stream": "stdout",
       "text": [
        " 1947\n",
        "Iter "
       ]
      },
      {
       "output_type": "stream",
       "stream": "stdout",
       "text": [
        " 1948\n",
        "Iter "
       ]
      },
      {
       "output_type": "stream",
       "stream": "stdout",
       "text": [
        " 1949\n",
        "Iter "
       ]
      },
      {
       "output_type": "stream",
       "stream": "stdout",
       "text": [
        " 1950\n",
        "Iter "
       ]
      },
      {
       "output_type": "stream",
       "stream": "stdout",
       "text": [
        " 1951\n",
        "Iter "
       ]
      },
      {
       "output_type": "stream",
       "stream": "stdout",
       "text": [
        " 1952\n",
        "Iter "
       ]
      },
      {
       "output_type": "stream",
       "stream": "stdout",
       "text": [
        " 1953\n",
        "Iter "
       ]
      },
      {
       "output_type": "stream",
       "stream": "stdout",
       "text": [
        " 1954\n",
        "Iter "
       ]
      },
      {
       "output_type": "stream",
       "stream": "stdout",
       "text": [
        " 1955\n",
        "Iter "
       ]
      },
      {
       "output_type": "stream",
       "stream": "stdout",
       "text": [
        " 1956\n",
        "Iter "
       ]
      },
      {
       "output_type": "stream",
       "stream": "stdout",
       "text": [
        " 1957\n",
        "Iter "
       ]
      },
      {
       "output_type": "stream",
       "stream": "stdout",
       "text": [
        " 1958\n",
        "Iter "
       ]
      },
      {
       "output_type": "stream",
       "stream": "stdout",
       "text": [
        " 1959\n",
        "Iter "
       ]
      },
      {
       "output_type": "stream",
       "stream": "stdout",
       "text": [
        " 1960\n",
        "Iter "
       ]
      },
      {
       "output_type": "stream",
       "stream": "stdout",
       "text": [
        " 1961\n",
        "Iter "
       ]
      },
      {
       "output_type": "stream",
       "stream": "stdout",
       "text": [
        " 1962\n",
        "Iter "
       ]
      },
      {
       "output_type": "stream",
       "stream": "stdout",
       "text": [
        " 1963\n",
        "Iter "
       ]
      },
      {
       "output_type": "stream",
       "stream": "stdout",
       "text": [
        " 1964\n",
        "Iter "
       ]
      },
      {
       "output_type": "stream",
       "stream": "stdout",
       "text": [
        " 1965\n",
        "Iter "
       ]
      },
      {
       "output_type": "stream",
       "stream": "stdout",
       "text": [
        " 1966\n",
        "Iter "
       ]
      },
      {
       "output_type": "stream",
       "stream": "stdout",
       "text": [
        " 1967\n",
        "Iter "
       ]
      },
      {
       "output_type": "stream",
       "stream": "stdout",
       "text": [
        " 1968\n",
        "Iter "
       ]
      },
      {
       "output_type": "stream",
       "stream": "stdout",
       "text": [
        " 1969\n",
        "Iter "
       ]
      },
      {
       "output_type": "stream",
       "stream": "stdout",
       "text": [
        " 1970\n",
        "Iter "
       ]
      },
      {
       "output_type": "stream",
       "stream": "stdout",
       "text": [
        " 1971\n",
        "Iter "
       ]
      },
      {
       "output_type": "stream",
       "stream": "stdout",
       "text": [
        " 1972\n",
        "Iter "
       ]
      },
      {
       "output_type": "stream",
       "stream": "stdout",
       "text": [
        " 1973\n",
        "Iter "
       ]
      },
      {
       "output_type": "stream",
       "stream": "stdout",
       "text": [
        " 1974\n",
        "Iter "
       ]
      },
      {
       "output_type": "stream",
       "stream": "stdout",
       "text": [
        " 1975\n",
        "Iter "
       ]
      },
      {
       "output_type": "stream",
       "stream": "stdout",
       "text": [
        " 1976\n",
        "Iter "
       ]
      },
      {
       "output_type": "stream",
       "stream": "stdout",
       "text": [
        " 1977\n",
        "Iter "
       ]
      },
      {
       "output_type": "stream",
       "stream": "stdout",
       "text": [
        " 1978\n",
        "Iter "
       ]
      },
      {
       "output_type": "stream",
       "stream": "stdout",
       "text": [
        " 1979\n",
        "Iter "
       ]
      },
      {
       "output_type": "stream",
       "stream": "stdout",
       "text": [
        " 1980\n",
        "Iter "
       ]
      },
      {
       "output_type": "stream",
       "stream": "stdout",
       "text": [
        " 1981\n",
        "Iter "
       ]
      },
      {
       "output_type": "stream",
       "stream": "stdout",
       "text": [
        " 1982\n",
        "Iter "
       ]
      },
      {
       "output_type": "stream",
       "stream": "stdout",
       "text": [
        " 1983\n",
        "Iter "
       ]
      },
      {
       "output_type": "stream",
       "stream": "stdout",
       "text": [
        " 1984\n",
        "Iter "
       ]
      },
      {
       "output_type": "stream",
       "stream": "stdout",
       "text": [
        " 1985\n",
        "Iter "
       ]
      },
      {
       "output_type": "stream",
       "stream": "stdout",
       "text": [
        " 1986\n",
        "Iter "
       ]
      },
      {
       "output_type": "stream",
       "stream": "stdout",
       "text": [
        " 1987\n",
        "Iter "
       ]
      },
      {
       "output_type": "stream",
       "stream": "stdout",
       "text": [
        " 1988\n",
        "Iter "
       ]
      },
      {
       "output_type": "stream",
       "stream": "stdout",
       "text": [
        " 1989\n",
        "Iter "
       ]
      },
      {
       "output_type": "stream",
       "stream": "stdout",
       "text": [
        " 1990\n",
        "Iter "
       ]
      },
      {
       "output_type": "stream",
       "stream": "stdout",
       "text": [
        " 1991\n",
        "Iter "
       ]
      },
      {
       "output_type": "stream",
       "stream": "stdout",
       "text": [
        " 1992\n",
        "Iter "
       ]
      },
      {
       "output_type": "stream",
       "stream": "stdout",
       "text": [
        " 1993\n",
        "Iter "
       ]
      },
      {
       "output_type": "stream",
       "stream": "stdout",
       "text": [
        " 1994\n",
        "Iter "
       ]
      },
      {
       "output_type": "stream",
       "stream": "stdout",
       "text": [
        " 1995\n",
        "Iter "
       ]
      },
      {
       "output_type": "stream",
       "stream": "stdout",
       "text": [
        " 1996\n",
        "Iter "
       ]
      },
      {
       "output_type": "stream",
       "stream": "stdout",
       "text": [
        " 1997\n",
        "Iter "
       ]
      },
      {
       "output_type": "stream",
       "stream": "stdout",
       "text": [
        " 1998\n",
        "Iter "
       ]
      },
      {
       "output_type": "stream",
       "stream": "stdout",
       "text": [
        " 1999\n",
        "Iter "
       ]
      },
      {
       "output_type": "stream",
       "stream": "stdout",
       "text": [
        " 2000\n"
       ]
      }
     ],
     "prompt_number": 6
    },
    {
     "cell_type": "code",
     "collapsed": false,
     "input": [
      "plt.figure()\n",
      "plt.hist([locAreas, locAreasWithoutVenus])\n",
      "plt.title(\"Histogram of Localization Areas\")\n",
      "plt.xlabel(\"Area, square arcmin\")\n",
      "plt.ylabel(\"Frequency\")\n",
      "plt.legend(['With Venus', 'Without Venus'])\n",
      "plt.show()\n",
      "\n",
      "plt.savefig('areasComparison.png', bbox_inches='tight')"
     ],
     "language": "python",
     "metadata": {},
     "outputs": [],
     "prompt_number": 7
    },
    {
     "cell_type": "code",
     "collapsed": false,
     "input": [
      "sortedLocAreas = np.sort(locAreas.transpose()).transpose()\n",
      "\n",
      "plt.figure()\n",
      "plt.hist(sortedLocAreas[:int(0.9 * numSims) - 1])\n",
      "plt.title(\"Histogram of Localization Areas\")\n",
      "plt.xlabel(\"Area, square arcmin\")\n",
      "plt.ylabel(\"Frequency\")\n",
      "plt.show()\n",
      "\n",
      "plt.savefig('areasTop90.png', bbox_inches='tight')"
     ],
     "language": "python",
     "metadata": {},
     "outputs": [],
     "prompt_number": 23
    },
    {
     "cell_type": "code",
     "collapsed": false,
     "input": [
      "thresh90 = sortedLocAreas[int(0.9 * numSims) - 1]\n",
      "thresh95 = sortedLocAreas[int(0.95 * numSims) - 1]\n",
      "thresh99 = sortedLocAreas[int(0.99 * numSims)- 1]\n",
      "\n",
      "print thresh90, thresh95, thresh99"
     ],
     "language": "python",
     "metadata": {},
     "outputs": [
      {
       "output_type": "stream",
       "stream": "stdout",
       "text": [
        "[ 47.59197233] [ 76.58452412] [ 202.98754374]\n"
       ]
      }
     ],
     "prompt_number": 21
    },
    {
     "cell_type": "code",
     "collapsed": false,
     "input": [
      "plt.figure()\n",
      "plt.hist(sortedLocAreas)\n",
      "plt.title(\"Histogram of Localization Areas\")\n",
      "plt.xlabel(\"Area, square arcmin\")\n",
      "plt.ylabel(\"Frequency\")\n",
      "plt.show()\n",
      "\n",
      "plt.savefig('areasFull.png', bbox_inches='tight')"
     ],
     "language": "python",
     "metadata": {},
     "outputs": [],
     "prompt_number": 22
    }
   ],
   "metadata": {}
  }
 ]
}